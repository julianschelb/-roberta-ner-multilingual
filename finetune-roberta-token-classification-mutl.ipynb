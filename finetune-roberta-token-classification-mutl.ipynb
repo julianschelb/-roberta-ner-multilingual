{
 "cells": [
  {
   "cell_type": "markdown",
   "id": "a0406057",
   "metadata": {
    "papermill": {
     "duration": 0.02123,
     "end_time": "2022-09-05T15:05:15.064128",
     "exception": false,
     "start_time": "2022-09-05T15:05:15.042898",
     "status": "completed"
    },
    "tags": []
   },
   "source": [
    "# Finetuning RoBerta for Token Classification \n",
    " \n",
    "\n"
   ]
  },
  {
   "cell_type": "markdown",
   "id": "ccf56674",
   "metadata": {
    "execution": {
     "iopub.execute_input": "2022-09-05T14:13:07.938969Z",
     "iopub.status.busy": "2022-09-05T14:13:07.938323Z",
     "iopub.status.idle": "2022-09-05T14:13:07.947157Z",
     "shell.execute_reply": "2022-09-05T14:13:07.945705Z",
     "shell.execute_reply.started": "2022-09-05T14:13:07.938926Z"
    },
    "papermill": {
     "duration": 0.016246,
     "end_time": "2022-09-05T15:05:15.097025",
     "exception": false,
     "start_time": "2022-09-05T15:05:15.080779",
     "status": "completed"
    },
    "tags": []
   },
   "source": [
    "https://huggingface.co/docs/transformers/model_doc/bert#transformers.BertForTokenClassification"
   ]
  },
  {
   "cell_type": "markdown",
   "id": "39d438dd",
   "metadata": {
    "papermill": {
     "duration": 0.017022,
     "end_time": "2022-09-05T15:05:15.130493",
     "exception": false,
     "start_time": "2022-09-05T15:05:15.113471",
     "status": "completed"
    },
    "tags": []
   },
   "source": [
    "***"
   ]
  },
  {
   "cell_type": "markdown",
   "id": "bb720edd",
   "metadata": {
    "papermill": {
     "duration": 0.016298,
     "end_time": "2022-09-05T15:05:15.164167",
     "exception": false,
     "start_time": "2022-09-05T15:05:15.147869",
     "status": "completed"
    },
    "tags": []
   },
   "source": [
    "## Imports"
   ]
  },
  {
   "cell_type": "code",
   "execution_count": 1,
   "id": "cb91bf1e",
   "metadata": {
    "execution": {
     "iopub.execute_input": "2022-09-05T15:05:15.200072Z",
     "iopub.status.busy": "2022-09-05T15:05:15.199274Z",
     "iopub.status.idle": "2022-09-05T15:05:48.846569Z",
     "shell.execute_reply": "2022-09-05T15:05:48.844928Z"
    },
    "papermill": {
     "duration": 33.669207,
     "end_time": "2022-09-05T15:05:48.850058",
     "exception": false,
     "start_time": "2022-09-05T15:05:15.180851",
     "status": "completed"
    },
    "tags": []
   },
   "outputs": [
    {
     "name": "stdout",
     "output_type": "stream",
     "text": [
      "Requirement already satisfied: datasets in /opt/conda/lib/python3.7/site-packages (2.1.0)\n",
      "Requirement already satisfied: tqdm>=4.62.1 in /opt/conda/lib/python3.7/site-packages (from datasets) (4.64.0)\n",
      "Requirement already satisfied: pyarrow>=5.0.0 in /opt/conda/lib/python3.7/site-packages (from datasets) (5.0.0)\n",
      "Requirement already satisfied: aiohttp in /opt/conda/lib/python3.7/site-packages (from datasets) (3.8.1)\n",
      "Requirement already satisfied: requests>=2.19.0 in /opt/conda/lib/python3.7/site-packages (from datasets) (2.28.1)\n",
      "Requirement already satisfied: numpy>=1.17 in /opt/conda/lib/python3.7/site-packages (from datasets) (1.21.6)\n",
      "Requirement already satisfied: huggingface-hub<1.0.0,>=0.1.0 in /opt/conda/lib/python3.7/site-packages (from datasets) (0.8.1)\n",
      "Requirement already satisfied: pandas in /opt/conda/lib/python3.7/site-packages (from datasets) (1.3.5)\n",
      "Requirement already satisfied: multiprocess in /opt/conda/lib/python3.7/site-packages (from datasets) (0.70.13)\n",
      "Requirement already satisfied: xxhash in /opt/conda/lib/python3.7/site-packages (from datasets) (3.0.0)\n",
      "Requirement already satisfied: responses<0.19 in /opt/conda/lib/python3.7/site-packages (from datasets) (0.18.0)\n",
      "Requirement already satisfied: fsspec[http]>=2021.05.0 in /opt/conda/lib/python3.7/site-packages (from datasets) (2022.7.1)\n",
      "Requirement already satisfied: importlib-metadata in /opt/conda/lib/python3.7/site-packages (from datasets) (4.12.0)\n",
      "Requirement already satisfied: packaging in /opt/conda/lib/python3.7/site-packages (from datasets) (21.3)\n",
      "Requirement already satisfied: dill in /opt/conda/lib/python3.7/site-packages (from datasets) (0.3.5.1)\n",
      "Requirement already satisfied: typing-extensions>=3.7.4.3 in /opt/conda/lib/python3.7/site-packages (from huggingface-hub<1.0.0,>=0.1.0->datasets) (4.3.0)\n",
      "Requirement already satisfied: filelock in /opt/conda/lib/python3.7/site-packages (from huggingface-hub<1.0.0,>=0.1.0->datasets) (3.7.1)\n",
      "Requirement already satisfied: pyyaml>=5.1 in /opt/conda/lib/python3.7/site-packages (from huggingface-hub<1.0.0,>=0.1.0->datasets) (6.0)\n",
      "Requirement already satisfied: pyparsing!=3.0.5,>=2.0.2 in /opt/conda/lib/python3.7/site-packages (from packaging->datasets) (3.0.9)\n",
      "Requirement already satisfied: urllib3<1.27,>=1.21.1 in /opt/conda/lib/python3.7/site-packages (from requests>=2.19.0->datasets) (1.26.12)\n",
      "Requirement already satisfied: charset-normalizer<3,>=2 in /opt/conda/lib/python3.7/site-packages (from requests>=2.19.0->datasets) (2.1.0)\n",
      "Requirement already satisfied: certifi>=2017.4.17 in /opt/conda/lib/python3.7/site-packages (from requests>=2.19.0->datasets) (2022.6.15)\n",
      "Requirement already satisfied: idna<4,>=2.5 in /opt/conda/lib/python3.7/site-packages (from requests>=2.19.0->datasets) (3.3)\n",
      "Requirement already satisfied: attrs>=17.3.0 in /opt/conda/lib/python3.7/site-packages (from aiohttp->datasets) (21.4.0)\n",
      "Requirement already satisfied: frozenlist>=1.1.1 in /opt/conda/lib/python3.7/site-packages (from aiohttp->datasets) (1.3.0)\n",
      "Requirement already satisfied: asynctest==0.13.0 in /opt/conda/lib/python3.7/site-packages (from aiohttp->datasets) (0.13.0)\n",
      "Requirement already satisfied: yarl<2.0,>=1.0 in /opt/conda/lib/python3.7/site-packages (from aiohttp->datasets) (1.7.2)\n",
      "Requirement already satisfied: multidict<7.0,>=4.5 in /opt/conda/lib/python3.7/site-packages (from aiohttp->datasets) (6.0.2)\n",
      "Requirement already satisfied: aiosignal>=1.1.2 in /opt/conda/lib/python3.7/site-packages (from aiohttp->datasets) (1.2.0)\n",
      "Requirement already satisfied: async-timeout<5.0,>=4.0.0a3 in /opt/conda/lib/python3.7/site-packages (from aiohttp->datasets) (4.0.2)\n",
      "Requirement already satisfied: zipp>=0.5 in /opt/conda/lib/python3.7/site-packages (from importlib-metadata->datasets) (3.8.0)\n",
      "Requirement already satisfied: python-dateutil>=2.7.3 in /opt/conda/lib/python3.7/site-packages (from pandas->datasets) (2.8.2)\n",
      "Requirement already satisfied: pytz>=2017.3 in /opt/conda/lib/python3.7/site-packages (from pandas->datasets) (2022.1)\n",
      "Requirement already satisfied: six>=1.5 in /opt/conda/lib/python3.7/site-packages (from python-dateutil>=2.7.3->pandas->datasets) (1.15.0)\n",
      "\u001b[33mWARNING: Running pip as the 'root' user can result in broken permissions and conflicting behaviour with the system package manager. It is recommended to use a virtual environment instead: https://pip.pypa.io/warnings/venv\u001b[0m\u001b[33m\n",
      "\u001b[0mCollecting seqeval\n",
      "  Downloading seqeval-1.2.2.tar.gz (43 kB)\n",
      "\u001b[2K     \u001b[90m━━━━━━━━━━━━━━━━━━━━━━━━━━━━━━━━━━━━━━━\u001b[0m \u001b[32m43.6/43.6 kB\u001b[0m \u001b[31m374.6 kB/s\u001b[0m eta \u001b[36m0:00:00\u001b[0m\n",
      "\u001b[?25h  Preparing metadata (setup.py) ... \u001b[?25ldone\n",
      "\u001b[?25hRequirement already satisfied: numpy>=1.14.0 in /opt/conda/lib/python3.7/site-packages (from seqeval) (1.21.6)\n",
      "Requirement already satisfied: scikit-learn>=0.21.3 in /opt/conda/lib/python3.7/site-packages (from seqeval) (1.0.2)\n",
      "Requirement already satisfied: joblib>=0.11 in /opt/conda/lib/python3.7/site-packages (from scikit-learn>=0.21.3->seqeval) (1.0.1)\n",
      "Requirement already satisfied: scipy>=1.1.0 in /opt/conda/lib/python3.7/site-packages (from scikit-learn>=0.21.3->seqeval) (1.7.3)\n",
      "Requirement already satisfied: threadpoolctl>=2.0.0 in /opt/conda/lib/python3.7/site-packages (from scikit-learn>=0.21.3->seqeval) (3.1.0)\n",
      "Building wheels for collected packages: seqeval\n",
      "  Building wheel for seqeval (setup.py) ... \u001b[?25ldone\n",
      "\u001b[?25h  Created wheel for seqeval: filename=seqeval-1.2.2-py3-none-any.whl size=16180 sha256=ec74cf385d6f9651097c8b72280f3c46e34e29bb2aee8b99b74b40d106899500\n",
      "  Stored in directory: /root/.cache/pip/wheels/05/96/ee/7cac4e74f3b19e3158dce26a20a1c86b3533c43ec72a549fd7\n",
      "Successfully built seqeval\n",
      "Installing collected packages: seqeval\n",
      "Successfully installed seqeval-1.2.2\n",
      "\u001b[33mWARNING: Running pip as the 'root' user can result in broken permissions and conflicting behaviour with the system package manager. It is recommended to use a virtual environment instead: https://pip.pypa.io/warnings/venv\u001b[0m\u001b[33m\n",
      "\u001b[0m"
     ]
    }
   ],
   "source": [
    "#!pip install transformers\n",
    "!pip install datasets\n",
    "!pip install seqeval\n",
    "#!pip install evaluate"
   ]
  },
  {
   "cell_type": "code",
   "execution_count": 5,
   "id": "ca5c6479",
   "metadata": {
    "papermill": {
     "duration": 10.509283,
     "end_time": "2022-09-05T15:05:59.378353",
     "exception": false,
     "start_time": "2022-09-05T15:05:48.869070",
     "status": "completed"
    },
    "tags": []
   },
   "outputs": [],
   "source": [
    "from transformers import (BertTokenizerFast,\n",
    "                          RobertaTokenizerFast,\n",
    "                          BertForTokenClassification,\n",
    "                          RobertaForTokenClassification,\n",
    "                          DataCollatorForTokenClassification, \n",
    "                          AutoModelForTokenClassification, \n",
    "                          TrainingArguments, Trainer)\n",
    "from datasets import load_dataset, concatenate_datasets\n",
    "import torch\n",
    "import os"
   ]
  },
  {
   "cell_type": "markdown",
   "id": "ab787133",
   "metadata": {
    "papermill": {
     "duration": 0.017841,
     "end_time": "2022-09-05T15:05:59.414971",
     "exception": false,
     "start_time": "2022-09-05T15:05:59.397130",
     "status": "completed"
    },
    "tags": []
   },
   "source": [
    "## Use Pretrained Model"
   ]
  },
  {
   "cell_type": "markdown",
   "id": "26d5e293",
   "metadata": {
    "papermill": {
     "duration": 0.017942,
     "end_time": "2022-09-05T15:05:59.450783",
     "exception": false,
     "start_time": "2022-09-05T15:05:59.432841",
     "status": "completed"
    },
    "tags": []
   },
   "source": [
    "**Load Model ans Tokenizer:**\n",
    "\n",
    "https://huggingface.co/bert-base-multilingual-cased"
   ]
  },
  {
   "cell_type": "code",
   "execution_count": 6,
   "id": "0820d7e4",
   "metadata": {
    "papermill": {
     "duration": 210.835318,
     "end_time": "2022-09-05T15:09:30.304992",
     "exception": false,
     "start_time": "2022-09-05T15:05:59.469674",
     "status": "completed"
    },
    "tags": []
   },
   "outputs": [
    {
     "name": "stderr",
     "output_type": "stream",
     "text": [
      "The tokenizer class you load from this checkpoint is not the same type as the class this function is called from. It may result in unexpected tokenization. \n",
      "The tokenizer class you load from this checkpoint is 'XLMRobertaTokenizerFast'. \n",
      "The class this function is called from is 'RobertaTokenizerFast'.\n"
     ]
    }
   ],
   "source": [
    "model_name = \"xlm-roberta-large\" #\"bert-base-multilingual-cased\" #xlm-roberta-large\n",
    "tokenizer = RobertaTokenizerFast.from_pretrained(f\"{model_name}\", add_prefix_space=True) #AutoTokenizer(use_fast = True)\n",
    "#model = RobertaForTokenClassification.from_pretrained(f\"{model_name}\")"
   ]
  },
  {
   "cell_type": "code",
   "execution_count": 4,
   "id": "dfee9a98",
   "metadata": {
    "execution": {
     "iopub.execute_input": "2022-09-05T15:09:30.345692Z",
     "iopub.status.busy": "2022-09-05T15:09:30.345284Z",
     "iopub.status.idle": "2022-09-05T15:09:30.355964Z",
     "shell.execute_reply": "2022-09-05T15:09:30.354595Z"
    },
    "papermill": {
     "duration": 0.033938,
     "end_time": "2022-09-05T15:09:30.358948",
     "exception": false,
     "start_time": "2022-09-05T15:09:30.325010",
     "status": "completed"
    },
    "tags": []
   },
   "outputs": [
    {
     "data": {
      "text/plain": [
       "RobertaConfig {\n",
       "  \"_name_or_path\": \"xlm-roberta-large\",\n",
       "  \"architectures\": [\n",
       "    \"XLMRobertaForMaskedLM\"\n",
       "  ],\n",
       "  \"attention_probs_dropout_prob\": 0.1,\n",
       "  \"bos_token_id\": 0,\n",
       "  \"classifier_dropout\": null,\n",
       "  \"eos_token_id\": 2,\n",
       "  \"hidden_act\": \"gelu\",\n",
       "  \"hidden_dropout_prob\": 0.1,\n",
       "  \"hidden_size\": 1024,\n",
       "  \"initializer_range\": 0.02,\n",
       "  \"intermediate_size\": 4096,\n",
       "  \"layer_norm_eps\": 1e-05,\n",
       "  \"max_position_embeddings\": 514,\n",
       "  \"model_type\": \"roberta\",\n",
       "  \"num_attention_heads\": 16,\n",
       "  \"num_hidden_layers\": 24,\n",
       "  \"output_past\": true,\n",
       "  \"pad_token_id\": 1,\n",
       "  \"position_embedding_type\": \"absolute\",\n",
       "  \"transformers_version\": \"4.20.1\",\n",
       "  \"type_vocab_size\": 1,\n",
       "  \"use_cache\": true,\n",
       "  \"vocab_size\": 250002\n",
       "}"
      ]
     },
     "execution_count": 4,
     "metadata": {},
     "output_type": "execute_result"
    }
   ],
   "source": [
    "model.config"
   ]
  },
  {
   "cell_type": "markdown",
   "id": "bc672729",
   "metadata": {
    "papermill": {
     "duration": 0.018858,
     "end_time": "2022-09-05T15:09:30.397244",
     "exception": false,
     "start_time": "2022-09-05T15:09:30.378386",
     "status": "completed"
    },
    "tags": []
   },
   "source": [
    "**Predict Labels:**\n",
    "\n",
    "Since Bloom has not been fintuned for Token Classification yet, the prediction is poor as expected."
   ]
  },
  {
   "cell_type": "code",
   "execution_count": 5,
   "id": "57c88e5a",
   "metadata": {
    "execution": {
     "iopub.execute_input": "2022-09-05T15:09:30.437993Z",
     "iopub.status.busy": "2022-09-05T15:09:30.437596Z",
     "iopub.status.idle": "2022-09-05T15:09:31.460944Z",
     "shell.execute_reply": "2022-09-05T15:09:31.459387Z"
    },
    "papermill": {
     "duration": 1.047857,
     "end_time": "2022-09-05T15:09:31.464910",
     "exception": false,
     "start_time": "2022-09-05T15:09:30.417053",
     "status": "completed"
    },
    "tags": []
   },
   "outputs": [
    {
     "name": "stdout",
     "output_type": "stream",
     "text": [
      "['LABEL_0', 'LABEL_0', 'LABEL_0', 'LABEL_0', 'LABEL_0', 'LABEL_0', 'LABEL_0', 'LABEL_0', 'LABEL_0', 'LABEL_0', 'LABEL_0', 'LABEL_0', 'LABEL_0', 'LABEL_0', 'LABEL_0', 'LABEL_0', 'LABEL_0', 'LABEL_0', 'LABEL_0', 'LABEL_0', 'LABEL_0', 'LABEL_0', 'LABEL_0', 'LABEL_0', 'LABEL_0', 'LABEL_0', 'LABEL_0', 'LABEL_0', 'LABEL_0', 'LABEL_0', 'LABEL_0', 'LABEL_0', 'LABEL_0', 'LABEL_0', 'LABEL_0', 'LABEL_0', 'LABEL_0']\n"
     ]
    }
   ],
   "source": [
    "text = \"Für Richard Phillips Feynman war es immer wichtig, die unanschaulichen Gesetzmäßigkeiten der Quantenphysik Laien und Studenten nahezubringen und verständlich zu machen.\"\n",
    "\n",
    "inputs = tokenizer(\n",
    "    text, add_special_tokens=False, return_tensors=\"pt\"\n",
    ")\n",
    "\n",
    "with torch.no_grad():\n",
    "    logits = model(**inputs).logits\n",
    "\n",
    "predicted_token_class_ids = logits.argmax(-1)\n",
    "\n",
    "# Note that tokens are classified rather then input words which means that\n",
    "# there might be more predicted token classes than words.\n",
    "# Multiple token classes might account for the same word\n",
    "predicted_tokens_classes = [model.config.id2label[t.item()] for t in predicted_token_class_ids[0]]\n",
    "print(predicted_tokens_classes)"
   ]
  },
  {
   "cell_type": "markdown",
   "id": "5ff9ffc1",
   "metadata": {
    "papermill": {
     "duration": 0.018558,
     "end_time": "2022-09-05T15:09:31.504384",
     "exception": false,
     "start_time": "2022-09-05T15:09:31.485826",
     "status": "completed"
    },
    "tags": []
   },
   "source": [
    "## Download Dataset for Finetuning"
   ]
  },
  {
   "cell_type": "markdown",
   "id": "10db0f55",
   "metadata": {
    "papermill": {
     "duration": 0.01868,
     "end_time": "2022-09-05T15:09:31.541710",
     "exception": false,
     "start_time": "2022-09-05T15:09:31.523030",
     "status": "completed"
    },
    "tags": []
   },
   "source": [
    "See:\n",
    "* Dataset on Huggingface: https://huggingface.co/datasets/wikiann\n",
    "* Load Datasets: https://huggingface.co/docs/datasets/v2.4.0/en/package_reference/loading_methods"
   ]
  },
  {
   "cell_type": "code",
   "execution_count": 6,
   "id": "f93e2320",
   "metadata": {
    "execution": {
     "iopub.execute_input": "2022-09-05T15:09:31.581682Z",
     "iopub.status.busy": "2022-09-05T15:09:31.581289Z",
     "iopub.status.idle": "2022-09-05T15:10:12.325781Z",
     "shell.execute_reply": "2022-09-05T15:10:12.324234Z"
    },
    "papermill": {
     "duration": 40.76856,
     "end_time": "2022-09-05T15:10:12.329006",
     "exception": false,
     "start_time": "2022-09-05T15:09:31.560446",
     "status": "completed"
    },
    "tags": []
   },
   "outputs": [
    {
     "data": {
      "application/vnd.jupyter.widget-view+json": {
       "model_id": "6c7da9597a0745c6b8a9af73b7a80cbf",
       "version_major": 2,
       "version_minor": 0
      },
      "text/plain": [
       "Downloading builder script:   0%|          | 0.00/3.94k [00:00<?, ?B/s]"
      ]
     },
     "metadata": {},
     "output_type": "display_data"
    },
    {
     "data": {
      "application/vnd.jupyter.widget-view+json": {
       "model_id": "0a683972e1a04c879cd379b80e8692c2",
       "version_major": 2,
       "version_minor": 0
      },
      "text/plain": [
       "Downloading metadata:   0%|          | 0.00/12.6k [00:00<?, ?B/s]"
      ]
     },
     "metadata": {},
     "output_type": "display_data"
    },
    {
     "name": "stdout",
     "output_type": "stream",
     "text": [
      "Downloading and preparing dataset wikiann/en (download: 223.17 MiB, generated: 8.88 MiB, post-processed: Unknown size, total: 232.05 MiB) to /root/.cache/huggingface/datasets/wikiann/en/1.1.0/4bfd4fe4468ab78bb6e096968f61fab7a888f44f9d3371c2f3fea7e74a5a354e...\n"
     ]
    },
    {
     "data": {
      "application/vnd.jupyter.widget-view+json": {
       "model_id": "7d0f5b2731db4fc788dfa907206f0778",
       "version_major": 2,
       "version_minor": 0
      },
      "text/plain": [
       "Downloading data:   0%|          | 0.00/234M [00:00<?, ?B/s]"
      ]
     },
     "metadata": {},
     "output_type": "display_data"
    },
    {
     "data": {
      "application/vnd.jupyter.widget-view+json": {
       "model_id": "34ac026d301a4c64992740571a8b30dc",
       "version_major": 2,
       "version_minor": 0
      },
      "text/plain": [
       "Generating validation split:   0%|          | 0/10000 [00:00<?, ? examples/s]"
      ]
     },
     "metadata": {},
     "output_type": "display_data"
    },
    {
     "data": {
      "application/vnd.jupyter.widget-view+json": {
       "model_id": "e88e5415b01f4ebeb115ddb7a08a31fa",
       "version_major": 2,
       "version_minor": 0
      },
      "text/plain": [
       "Generating test split:   0%|          | 0/10000 [00:00<?, ? examples/s]"
      ]
     },
     "metadata": {},
     "output_type": "display_data"
    },
    {
     "data": {
      "application/vnd.jupyter.widget-view+json": {
       "model_id": "92b70605146748a4bb91c1571885dd1d",
       "version_major": 2,
       "version_minor": 0
      },
      "text/plain": [
       "Generating train split:   0%|          | 0/20000 [00:00<?, ? examples/s]"
      ]
     },
     "metadata": {},
     "output_type": "display_data"
    },
    {
     "name": "stdout",
     "output_type": "stream",
     "text": [
      "Dataset wikiann downloaded and prepared to /root/.cache/huggingface/datasets/wikiann/en/1.1.0/4bfd4fe4468ab78bb6e096968f61fab7a888f44f9d3371c2f3fea7e74a5a354e. Subsequent calls will reuse this data.\n",
      "Download Dataset for Language de\n",
      "Downloading and preparing dataset wikiann/de (download: 223.17 MiB, generated: 10.51 MiB, post-processed: Unknown size, total: 233.67 MiB) to /root/.cache/huggingface/datasets/wikiann/de/1.1.0/4bfd4fe4468ab78bb6e096968f61fab7a888f44f9d3371c2f3fea7e74a5a354e...\n"
     ]
    },
    {
     "data": {
      "application/vnd.jupyter.widget-view+json": {
       "model_id": "6deb3c44e33445e3aac31ae276860824",
       "version_major": 2,
       "version_minor": 0
      },
      "text/plain": [
       "Generating validation split:   0%|          | 0/10000 [00:00<?, ? examples/s]"
      ]
     },
     "metadata": {},
     "output_type": "display_data"
    },
    {
     "data": {
      "application/vnd.jupyter.widget-view+json": {
       "model_id": "580d5cf082214196863fba3500020050",
       "version_major": 2,
       "version_minor": 0
      },
      "text/plain": [
       "Generating test split:   0%|          | 0/10000 [00:00<?, ? examples/s]"
      ]
     },
     "metadata": {},
     "output_type": "display_data"
    },
    {
     "data": {
      "application/vnd.jupyter.widget-view+json": {
       "model_id": "351005def0ba48acb3780462a67643f8",
       "version_major": 2,
       "version_minor": 0
      },
      "text/plain": [
       "Generating train split:   0%|          | 0/20000 [00:00<?, ? examples/s]"
      ]
     },
     "metadata": {},
     "output_type": "display_data"
    },
    {
     "name": "stdout",
     "output_type": "stream",
     "text": [
      "Dataset wikiann downloaded and prepared to /root/.cache/huggingface/datasets/wikiann/de/1.1.0/4bfd4fe4468ab78bb6e096968f61fab7a888f44f9d3371c2f3fea7e74a5a354e. Subsequent calls will reuse this data.\n"
     ]
    }
   ],
   "source": [
    "# Specify list of languages\n",
    "languages = [\"en\",\"de\"]\n",
    "#languages = [\"en\"]\n",
    "dataset_name = \"wikiann\"\n",
    "\n",
    "# Downloa first language\n",
    "dataset_train = load_dataset(dataset_name, languages[0],  split=\"train\")\n",
    "dataset_valid = load_dataset(dataset_name, languages[0],  split=\"validation\")\n",
    "dataset_test =  load_dataset(dataset_name, languages[0],  split=\"test\")\n",
    "languages.pop(0)\n",
    "\n",
    "# Merge with additional languages\n",
    "for language in languages:\n",
    "    \n",
    "    print(f\"Download Dataset for Language {language}\")\n",
    "    \n",
    "    # Combine train splits\n",
    "    dataset_train_new = load_dataset(dataset_name, language,  split=\"train\")\n",
    "    dataset_train = concatenate_datasets([dataset_train, dataset_train_new])\n",
    "\n",
    "    # Combine validation splits\n",
    "    dataset_valid_new = load_dataset(dataset_name, language,  split=\"validation\")\n",
    "    dataset_valid = concatenate_datasets([dataset_valid, dataset_valid_new])\n",
    "    \n",
    "    # Combine test splits\n",
    "    dataset_test_new = load_dataset(dataset_name, language,  split=\"test\")\n",
    "    dataset_test = concatenate_datasets([dataset_test, dataset_test_new])"
   ]
  },
  {
   "cell_type": "markdown",
   "id": "06c461dd",
   "metadata": {
    "papermill": {
     "duration": 0.021609,
     "end_time": "2022-09-05T15:10:12.372416",
     "exception": false,
     "start_time": "2022-09-05T15:10:12.350807",
     "status": "completed"
    },
    "tags": []
   },
   "source": [
    "**Limit Dataset Size for Testing:**"
   ]
  },
  {
   "cell_type": "code",
   "execution_count": 7,
   "id": "37d0fedd",
   "metadata": {
    "execution": {
     "iopub.execute_input": "2022-09-05T15:10:12.415776Z",
     "iopub.status.busy": "2022-09-05T15:10:12.415338Z",
     "iopub.status.idle": "2022-09-05T15:10:12.421684Z",
     "shell.execute_reply": "2022-09-05T15:10:12.420194Z"
    },
    "papermill": {
     "duration": 0.031473,
     "end_time": "2022-09-05T15:10:12.424654",
     "exception": false,
     "start_time": "2022-09-05T15:10:12.393181",
     "status": "completed"
    },
    "tags": []
   },
   "outputs": [],
   "source": [
    "## Sample a subset of datapoints\n",
    "#num_samples = 1000\n",
    "#sample_ids = list(range(0,num_samples))\n",
    "#\n",
    "## Reduce the size of the dataset\n",
    "#dataset_train = dataset_train.select(sample_ids)\n",
    "#dataset_valid = dataset_valid.select(sample_ids)\n",
    "#dataset_test = dataset_test.select(sample_ids)\n",
    "#\n",
    "#print(\"Training Examples:\", len(dataset_train))"
   ]
  },
  {
   "cell_type": "markdown",
   "id": "bda6d9c6",
   "metadata": {
    "papermill": {
     "duration": 0.020184,
     "end_time": "2022-09-05T15:10:12.465297",
     "exception": false,
     "start_time": "2022-09-05T15:10:12.445113",
     "status": "completed"
    },
    "tags": []
   },
   "source": [
    "### About the Dataset:"
   ]
  },
  {
   "cell_type": "markdown",
   "id": "d13d2951",
   "metadata": {
    "papermill": {
     "duration": 0.020495,
     "end_time": "2022-09-05T15:10:12.506230",
     "exception": false,
     "start_time": "2022-09-05T15:10:12.485735",
     "status": "completed"
    },
    "tags": []
   },
   "source": [
    "**Splits:**"
   ]
  },
  {
   "cell_type": "code",
   "execution_count": 8,
   "id": "ae13e963",
   "metadata": {
    "execution": {
     "iopub.execute_input": "2022-09-05T15:10:12.550109Z",
     "iopub.status.busy": "2022-09-05T15:10:12.548999Z",
     "iopub.status.idle": "2022-09-05T15:10:12.557017Z",
     "shell.execute_reply": "2022-09-05T15:10:12.555662Z"
    },
    "papermill": {
     "duration": 0.032951,
     "end_time": "2022-09-05T15:10:12.559750",
     "exception": false,
     "start_time": "2022-09-05T15:10:12.526799",
     "status": "completed"
    },
    "tags": []
   },
   "outputs": [
    {
     "data": {
      "text/plain": [
       "Dataset({\n",
       "    features: ['tokens', 'ner_tags', 'langs', 'spans'],\n",
       "    num_rows: 40000\n",
       "})"
      ]
     },
     "execution_count": 8,
     "metadata": {},
     "output_type": "execute_result"
    }
   ],
   "source": [
    "dataset_train"
   ]
  },
  {
   "cell_type": "markdown",
   "id": "6233a2f0",
   "metadata": {
    "papermill": {
     "duration": 0.020996,
     "end_time": "2022-09-05T15:10:12.602519",
     "exception": false,
     "start_time": "2022-09-05T15:10:12.581523",
     "status": "completed"
    },
    "tags": []
   },
   "source": [
    "**Training Examples:**"
   ]
  },
  {
   "cell_type": "code",
   "execution_count": 9,
   "id": "7812177a",
   "metadata": {
    "execution": {
     "iopub.execute_input": "2022-09-05T15:10:12.645584Z",
     "iopub.status.busy": "2022-09-05T15:10:12.645083Z",
     "iopub.status.idle": "2022-09-05T15:10:12.652783Z",
     "shell.execute_reply": "2022-09-05T15:10:12.651336Z"
    },
    "papermill": {
     "duration": 0.033526,
     "end_time": "2022-09-05T15:10:12.656642",
     "exception": false,
     "start_time": "2022-09-05T15:10:12.623116",
     "status": "completed"
    },
    "tags": []
   },
   "outputs": [
    {
     "name": "stdout",
     "output_type": "stream",
     "text": [
      "Dataset Object Type: <class 'datasets.arrow_dataset.Dataset'>\n",
      "Training Examples: 40000\n"
     ]
    }
   ],
   "source": [
    "print(\"Dataset Object Type:\", type(dataset_train))\n",
    "print(\"Training Examples:\", len(dataset_train))"
   ]
  },
  {
   "cell_type": "markdown",
   "id": "993263d1",
   "metadata": {
    "papermill": {
     "duration": 0.020458,
     "end_time": "2022-09-05T15:10:12.699035",
     "exception": false,
     "start_time": "2022-09-05T15:10:12.678577",
     "status": "completed"
    },
    "tags": []
   },
   "source": [
    "**Sample Structure:**"
   ]
  },
  {
   "cell_type": "code",
   "execution_count": 10,
   "id": "781c3587",
   "metadata": {
    "execution": {
     "iopub.execute_input": "2022-09-05T15:10:12.743090Z",
     "iopub.status.busy": "2022-09-05T15:10:12.741871Z",
     "iopub.status.idle": "2022-09-05T15:10:12.751872Z",
     "shell.execute_reply": "2022-09-05T15:10:12.750387Z"
    },
    "papermill": {
     "duration": 0.034784,
     "end_time": "2022-09-05T15:10:12.754542",
     "exception": false,
     "start_time": "2022-09-05T15:10:12.719758",
     "status": "completed"
    },
    "tags": []
   },
   "outputs": [
    {
     "data": {
      "text/plain": [
       "{'tokens': ['Bruce', 'Beresford', '(', 'Non-Jew', ')'],\n",
       " 'ner_tags': [1, 2, 0, 0, 0],\n",
       " 'langs': ['en', 'en', 'en', 'en', 'en'],\n",
       " 'spans': ['PER: Bruce Beresford']}"
      ]
     },
     "execution_count": 10,
     "metadata": {},
     "output_type": "execute_result"
    }
   ],
   "source": [
    "dataset_train[95]"
   ]
  },
  {
   "cell_type": "markdown",
   "id": "a5bd2699",
   "metadata": {
    "execution": {
     "iopub.execute_input": "2022-08-08T16:13:00.916799Z",
     "iopub.status.busy": "2022-08-08T16:13:00.916311Z",
     "iopub.status.idle": "2022-08-08T16:13:00.924905Z",
     "shell.execute_reply": "2022-08-08T16:13:00.922929Z",
     "shell.execute_reply.started": "2022-08-08T16:13:00.916763Z"
    },
    "papermill": {
     "duration": 0.021164,
     "end_time": "2022-09-05T15:10:12.796813",
     "exception": false,
     "start_time": "2022-09-05T15:10:12.775649",
     "status": "completed"
    },
    "tags": []
   },
   "source": [
    "**Class Labels:**"
   ]
  },
  {
   "cell_type": "code",
   "execution_count": 11,
   "id": "92cf89dc",
   "metadata": {
    "execution": {
     "iopub.execute_input": "2022-09-05T15:10:12.841876Z",
     "iopub.status.busy": "2022-09-05T15:10:12.840528Z",
     "iopub.status.idle": "2022-09-05T15:10:12.850228Z",
     "shell.execute_reply": "2022-09-05T15:10:12.848823Z"
    },
    "papermill": {
     "duration": 0.035146,
     "end_time": "2022-09-05T15:10:12.852980",
     "exception": false,
     "start_time": "2022-09-05T15:10:12.817834",
     "status": "completed"
    },
    "tags": []
   },
   "outputs": [
    {
     "data": {
      "text/plain": [
       "['O', 'B-PER', 'I-PER', 'B-ORG', 'I-ORG', 'B-LOC', 'I-LOC']"
      ]
     },
     "execution_count": 11,
     "metadata": {},
     "output_type": "execute_result"
    }
   ],
   "source": [
    "label_list = dataset_train.features[f\"ner_tags\"].feature.names\n",
    "label_list"
   ]
  },
  {
   "cell_type": "markdown",
   "id": "6ba2652d",
   "metadata": {
    "papermill": {
     "duration": 0.021194,
     "end_time": "2022-09-05T15:10:12.895083",
     "exception": false,
     "start_time": "2022-09-05T15:10:12.873889",
     "status": "completed"
    },
    "tags": []
   },
   "source": [
    "## Tokenize Dataset"
   ]
  },
  {
   "cell_type": "markdown",
   "id": "8d544352",
   "metadata": {
    "papermill": {
     "duration": 0.02069,
     "end_time": "2022-09-05T15:10:12.936214",
     "exception": false,
     "start_time": "2022-09-05T15:10:12.915524",
     "status": "completed"
    },
    "tags": []
   },
   "source": [
    "### Tokenize a Single Sample:"
   ]
  },
  {
   "cell_type": "code",
   "execution_count": 12,
   "id": "b37538a9",
   "metadata": {
    "execution": {
     "iopub.execute_input": "2022-09-05T15:10:12.980135Z",
     "iopub.status.busy": "2022-09-05T15:10:12.979721Z",
     "iopub.status.idle": "2022-09-05T15:10:12.989024Z",
     "shell.execute_reply": "2022-09-05T15:10:12.987182Z"
    },
    "papermill": {
     "duration": 0.03443,
     "end_time": "2022-09-05T15:10:12.991660",
     "exception": false,
     "start_time": "2022-09-05T15:10:12.957230",
     "status": "completed"
    },
    "tags": []
   },
   "outputs": [
    {
     "name": "stdout",
     "output_type": "stream",
     "text": [
      "['▁R', '.', 'H', '.', '▁Sa', 'under', 's', '▁(', '▁St', '.', '▁Lawrence', '▁River', '▁)', '▁(', '▁9', '68', '▁MW', '▁)']\n"
     ]
    }
   ],
   "source": [
    "example = dataset_train[0]\n",
    "tokenized_input = tokenizer(example[\"tokens\"], is_split_into_words=True, add_special_tokens= False)\n",
    "tokens = tokenizer.convert_ids_to_tokens(tokenized_input[\"input_ids\"])\n",
    "print(tokens)"
   ]
  },
  {
   "cell_type": "markdown",
   "id": "5aa41d49",
   "metadata": {
    "papermill": {
     "duration": 0.020378,
     "end_time": "2022-09-05T15:10:13.033105",
     "exception": false,
     "start_time": "2022-09-05T15:10:13.012727",
     "status": "completed"
    },
    "tags": []
   },
   "source": [
    "Sample after Tokenization:"
   ]
  },
  {
   "cell_type": "code",
   "execution_count": 13,
   "id": "2d67995f",
   "metadata": {
    "execution": {
     "iopub.execute_input": "2022-09-05T15:10:13.078569Z",
     "iopub.status.busy": "2022-09-05T15:10:13.076501Z",
     "iopub.status.idle": "2022-09-05T15:10:13.086135Z",
     "shell.execute_reply": "2022-09-05T15:10:13.084595Z"
    },
    "papermill": {
     "duration": 0.03532,
     "end_time": "2022-09-05T15:10:13.089254",
     "exception": false,
     "start_time": "2022-09-05T15:10:13.053934",
     "status": "completed"
    },
    "tags": []
   },
   "outputs": [
    {
     "data": {
      "text/plain": [
       "{'input_ids': [627, 5, 841, 5, 947, 24658, 7, 15, 2907, 5, 155484, 32547, 1388, 15, 483, 16028, 46298, 1388], 'attention_mask': [1, 1, 1, 1, 1, 1, 1, 1, 1, 1, 1, 1, 1, 1, 1, 1, 1, 1]}"
      ]
     },
     "execution_count": 13,
     "metadata": {},
     "output_type": "execute_result"
    }
   ],
   "source": [
    "tokenized_input"
   ]
  },
  {
   "cell_type": "markdown",
   "id": "5d9ce96f",
   "metadata": {
    "papermill": {
     "duration": 0.020768,
     "end_time": "2022-09-05T15:10:13.131028",
     "exception": false,
     "start_time": "2022-09-05T15:10:13.110260",
     "status": "completed"
    },
    "tags": []
   },
   "source": [
    "Word IDs:"
   ]
  },
  {
   "cell_type": "code",
   "execution_count": 14,
   "id": "ab442749",
   "metadata": {
    "execution": {
     "iopub.execute_input": "2022-09-05T15:10:13.175852Z",
     "iopub.status.busy": "2022-09-05T15:10:13.174653Z",
     "iopub.status.idle": "2022-09-05T15:10:13.183600Z",
     "shell.execute_reply": "2022-09-05T15:10:13.182178Z"
    },
    "papermill": {
     "duration": 0.035475,
     "end_time": "2022-09-05T15:10:13.187173",
     "exception": false,
     "start_time": "2022-09-05T15:10:13.151698",
     "status": "completed"
    },
    "tags": []
   },
   "outputs": [
    {
     "data": {
      "text/plain": [
       "[0, 0, 0, 0, 1, 1, 1, 2, 3, 3, 4, 5, 6, 7, 8, 8, 9, 10]"
      ]
     },
     "execution_count": 14,
     "metadata": {},
     "output_type": "execute_result"
    }
   ],
   "source": [
    "tokenized_input.word_ids()"
   ]
  },
  {
   "cell_type": "markdown",
   "id": "5acc8b83",
   "metadata": {
    "papermill": {
     "duration": 0.021626,
     "end_time": "2022-09-05T15:10:13.230615",
     "exception": false,
     "start_time": "2022-09-05T15:10:13.208989",
     "status": "completed"
    },
    "tags": []
   },
   "source": [
    "### Tokenize Whole Dataset"
   ]
  },
  {
   "cell_type": "code",
   "execution_count": 15,
   "id": "823b424e",
   "metadata": {
    "execution": {
     "iopub.execute_input": "2022-09-05T15:10:13.275593Z",
     "iopub.status.busy": "2022-09-05T15:10:13.275066Z",
     "iopub.status.idle": "2022-09-05T15:10:13.283187Z",
     "shell.execute_reply": "2022-09-05T15:10:13.281696Z"
    },
    "papermill": {
     "duration": 0.034594,
     "end_time": "2022-09-05T15:10:13.286324",
     "exception": false,
     "start_time": "2022-09-05T15:10:13.251730",
     "status": "completed"
    },
    "tags": []
   },
   "outputs": [],
   "source": [
    "def tokenizeInputs(inputs):\n",
    "    \n",
    "    tokenized_inputs = tokenizer(inputs[\"tokens\"], max_length = 512, truncation=True, is_split_into_words=True, add_special_tokens= False)\n",
    "    word_ids = tokenized_inputs.word_ids()\n",
    "    ner_tags = inputs[\"ner_tags\"]\n",
    "    labels = [ner_tags[word_id] for word_id in word_ids]\n",
    "    tokenized_inputs[\"labels\"] = labels\n",
    "    \n",
    "    return tokenized_inputs"
   ]
  },
  {
   "cell_type": "code",
   "execution_count": 16,
   "id": "3cf7de72",
   "metadata": {
    "execution": {
     "iopub.execute_input": "2022-09-05T15:10:13.332474Z",
     "iopub.status.busy": "2022-09-05T15:10:13.330937Z",
     "iopub.status.idle": "2022-09-05T15:10:13.341059Z",
     "shell.execute_reply": "2022-09-05T15:10:13.339598Z"
    },
    "papermill": {
     "duration": 0.035893,
     "end_time": "2022-09-05T15:10:13.343724",
     "exception": false,
     "start_time": "2022-09-05T15:10:13.307831",
     "status": "completed"
    },
    "tags": []
   },
   "outputs": [
    {
     "data": {
      "text/plain": [
       "{'input_ids': [32036, 111, 5369, 23, 30089], 'attention_mask': [1, 1, 1, 1, 1], 'labels': [3, 4, 4, 4, 4]}"
      ]
     },
     "execution_count": 16,
     "metadata": {},
     "output_type": "execute_result"
    }
   ],
   "source": [
    "example = dataset_train[100]\n",
    "tokenizeInputs(example)"
   ]
  },
  {
   "cell_type": "code",
   "execution_count": 17,
   "id": "3241f790",
   "metadata": {
    "execution": {
     "iopub.execute_input": "2022-09-05T15:10:13.390514Z",
     "iopub.status.busy": "2022-09-05T15:10:13.389127Z",
     "iopub.status.idle": "2022-09-05T15:10:53.563419Z",
     "shell.execute_reply": "2022-09-05T15:10:53.561981Z"
    },
    "papermill": {
     "duration": 40.200626,
     "end_time": "2022-09-05T15:10:53.566348",
     "exception": false,
     "start_time": "2022-09-05T15:10:13.365722",
     "status": "completed"
    },
    "tags": []
   },
   "outputs": [
    {
     "data": {
      "application/vnd.jupyter.widget-view+json": {
       "model_id": "1ecf2b7f2f824d9299ba1e28405b12bc",
       "version_major": 2,
       "version_minor": 0
      },
      "text/plain": [
       "  0%|          | 0/40000 [00:00<?, ?ex/s]"
      ]
     },
     "metadata": {},
     "output_type": "display_data"
    },
    {
     "data": {
      "application/vnd.jupyter.widget-view+json": {
       "model_id": "41fbe4fd6415499faa16a35558454e44",
       "version_major": 2,
       "version_minor": 0
      },
      "text/plain": [
       "  0%|          | 0/20000 [00:00<?, ?ex/s]"
      ]
     },
     "metadata": {},
     "output_type": "display_data"
    },
    {
     "data": {
      "application/vnd.jupyter.widget-view+json": {
       "model_id": "ed4f9dc2de1b45df97e6c0a9b46251a5",
       "version_major": 2,
       "version_minor": 0
      },
      "text/plain": [
       "  0%|          | 0/20000 [00:00<?, ?ex/s]"
      ]
     },
     "metadata": {},
     "output_type": "display_data"
    }
   ],
   "source": [
    "tokenized_dataset_train = dataset_train.map(tokenizeInputs)\n",
    "tokenized_dataset_valid = dataset_valid.map(tokenizeInputs)\n",
    "tokenized_dataset_test =  dataset_test.map(tokenizeInputs)"
   ]
  },
  {
   "cell_type": "markdown",
   "id": "a7bdfae5",
   "metadata": {
    "papermill": {
     "duration": 0.021742,
     "end_time": "2022-09-05T15:10:53.611055",
     "exception": false,
     "start_time": "2022-09-05T15:10:53.589313",
     "status": "completed"
    },
    "tags": []
   },
   "source": [
    "**Shuffle Dataset:**"
   ]
  },
  {
   "cell_type": "code",
   "execution_count": 18,
   "id": "c62978d4",
   "metadata": {
    "execution": {
     "iopub.execute_input": "2022-09-05T15:10:53.658409Z",
     "iopub.status.busy": "2022-09-05T15:10:53.657056Z",
     "iopub.status.idle": "2022-09-05T15:10:53.699636Z",
     "shell.execute_reply": "2022-09-05T15:10:53.698276Z"
    },
    "papermill": {
     "duration": 0.068669,
     "end_time": "2022-09-05T15:10:53.702531",
     "exception": false,
     "start_time": "2022-09-05T15:10:53.633862",
     "status": "completed"
    },
    "tags": []
   },
   "outputs": [],
   "source": [
    "tokenized_dataset_train = tokenized_dataset_train.shuffle()\n",
    "tokenized_dataset_valid = tokenized_dataset_valid.shuffle()\n",
    "tokenized_dataset_test =  tokenized_dataset_test.shuffle()"
   ]
  },
  {
   "cell_type": "markdown",
   "id": "e3306e6c",
   "metadata": {
    "papermill": {
     "duration": 0.02176,
     "end_time": "2022-09-05T15:10:53.746483",
     "exception": false,
     "start_time": "2022-09-05T15:10:53.724723",
     "status": "completed"
    },
    "tags": []
   },
   "source": [
    "**Count of Tokens in the Training Set:**"
   ]
  },
  {
   "cell_type": "code",
   "execution_count": 19,
   "id": "d988cf50",
   "metadata": {
    "execution": {
     "iopub.execute_input": "2022-09-05T15:10:53.791784Z",
     "iopub.status.busy": "2022-09-05T15:10:53.791380Z",
     "iopub.status.idle": "2022-09-05T15:11:03.429519Z",
     "shell.execute_reply": "2022-09-05T15:11:03.427377Z"
    },
    "papermill": {
     "duration": 9.664205,
     "end_time": "2022-09-05T15:11:03.432282",
     "exception": false,
     "start_time": "2022-09-05T15:10:53.768077",
     "status": "completed"
    },
    "tags": []
   },
   "outputs": [
    {
     "name": "stdout",
     "output_type": "stream",
     "text": [
      "Tokens in Training Set: 556022\n"
     ]
    }
   ],
   "source": [
    "token_count = 0\n",
    "for sample in tokenized_dataset_train:\n",
    "    token_count = token_count + len(sample[\"labels\"])\n",
    "    \n",
    "print(\"Tokens in Training Set:\", token_count)"
   ]
  },
  {
   "cell_type": "markdown",
   "id": "de52f550",
   "metadata": {
    "papermill": {
     "duration": 0.022052,
     "end_time": "2022-09-05T15:11:03.476988",
     "exception": false,
     "start_time": "2022-09-05T15:11:03.454936",
     "status": "completed"
    },
    "tags": []
   },
   "source": [
    "**Remove unnecessary columns:**"
   ]
  },
  {
   "cell_type": "code",
   "execution_count": 20,
   "id": "e07922cb",
   "metadata": {
    "execution": {
     "iopub.execute_input": "2022-09-05T15:11:03.523380Z",
     "iopub.status.busy": "2022-09-05T15:11:03.521988Z",
     "iopub.status.idle": "2022-09-05T15:11:03.536468Z",
     "shell.execute_reply": "2022-09-05T15:11:03.535026Z"
    },
    "papermill": {
     "duration": 0.040823,
     "end_time": "2022-09-05T15:11:03.539515",
     "exception": false,
     "start_time": "2022-09-05T15:11:03.498692",
     "status": "completed"
    },
    "tags": []
   },
   "outputs": [],
   "source": [
    "tokenized_dataset_train = tokenized_dataset_train.remove_columns([\"tokens\", \"ner_tags\", \"langs\", \"spans\"])\n",
    "tokenized_dataset_valid = tokenized_dataset_valid.remove_columns([\"tokens\", \"ner_tags\", \"langs\", \"spans\"])\n",
    "tokenized_dataset_test = tokenized_dataset_test.remove_columns([\"tokens\", \"ner_tags\", \"langs\", \"spans\"])"
   ]
  },
  {
   "cell_type": "markdown",
   "id": "4a748e1d",
   "metadata": {
    "papermill": {
     "duration": 0.021697,
     "end_time": "2022-09-05T15:11:03.583175",
     "exception": false,
     "start_time": "2022-09-05T15:11:03.561478",
     "status": "completed"
    },
    "tags": []
   },
   "source": [
    "## Define Data Collator"
   ]
  },
  {
   "cell_type": "code",
   "execution_count": 21,
   "id": "57ff8fa6",
   "metadata": {
    "execution": {
     "iopub.execute_input": "2022-09-05T15:11:03.628357Z",
     "iopub.status.busy": "2022-09-05T15:11:03.627892Z",
     "iopub.status.idle": "2022-09-05T15:11:03.634273Z",
     "shell.execute_reply": "2022-09-05T15:11:03.632724Z"
    },
    "papermill": {
     "duration": 0.032725,
     "end_time": "2022-09-05T15:11:03.637352",
     "exception": false,
     "start_time": "2022-09-05T15:11:03.604627",
     "status": "completed"
    },
    "tags": []
   },
   "outputs": [],
   "source": [
    "data_collator = DataCollatorForTokenClassification(tokenizer=tokenizer)"
   ]
  },
  {
   "cell_type": "markdown",
   "id": "c93b2932",
   "metadata": {
    "papermill": {
     "duration": 0.021329,
     "end_time": "2022-09-05T15:11:03.681610",
     "exception": false,
     "start_time": "2022-09-05T15:11:03.660281",
     "status": "completed"
    },
    "tags": []
   },
   "source": [
    "## Define Trainer"
   ]
  },
  {
   "cell_type": "code",
   "execution_count": 22,
   "id": "85b13cb9",
   "metadata": {
    "execution": {
     "iopub.execute_input": "2022-09-05T15:11:03.727476Z",
     "iopub.status.busy": "2022-09-05T15:11:03.726181Z",
     "iopub.status.idle": "2022-09-05T15:11:03.952623Z",
     "shell.execute_reply": "2022-09-05T15:11:03.951230Z"
    },
    "papermill": {
     "duration": 0.252817,
     "end_time": "2022-09-05T15:11:03.955819",
     "exception": false,
     "start_time": "2022-09-05T15:11:03.703002",
     "status": "completed"
    },
    "tags": []
   },
   "outputs": [],
   "source": [
    "import gc\n",
    "gc.collect()\n",
    "torch.cuda.empty_cache()"
   ]
  },
  {
   "cell_type": "markdown",
   "id": "0a02619e",
   "metadata": {
    "papermill": {
     "duration": 0.021424,
     "end_time": "2022-09-05T15:11:03.999815",
     "exception": false,
     "start_time": "2022-09-05T15:11:03.978391",
     "status": "completed"
    },
    "tags": []
   },
   "source": [
    "Load Model Class which can be finetuned:"
   ]
  },
  {
   "cell_type": "code",
   "execution_count": 23,
   "id": "716b8174",
   "metadata": {
    "execution": {
     "iopub.execute_input": "2022-09-05T15:11:04.047530Z",
     "iopub.status.busy": "2022-09-05T15:11:04.046146Z",
     "iopub.status.idle": "2022-09-05T15:11:04.052936Z",
     "shell.execute_reply": "2022-09-05T15:11:04.051593Z"
    },
    "papermill": {
     "duration": 0.033842,
     "end_time": "2022-09-05T15:11:04.056051",
     "exception": false,
     "start_time": "2022-09-05T15:11:04.022209",
     "status": "completed"
    },
    "tags": []
   },
   "outputs": [],
   "source": [
    "label_list = dataset_train.features[f\"ner_tags\"].feature.names"
   ]
  },
  {
   "cell_type": "code",
   "execution_count": 24,
   "id": "d70a8948",
   "metadata": {
    "execution": {
     "iopub.execute_input": "2022-09-05T15:11:04.101086Z",
     "iopub.status.busy": "2022-09-05T15:11:04.100716Z",
     "iopub.status.idle": "2022-09-05T15:11:24.125635Z",
     "shell.execute_reply": "2022-09-05T15:11:24.124217Z"
    },
    "papermill": {
     "duration": 20.051325,
     "end_time": "2022-09-05T15:11:24.129116",
     "exception": false,
     "start_time": "2022-09-05T15:11:04.077791",
     "status": "completed"
    },
    "tags": []
   },
   "outputs": [
    {
     "name": "stderr",
     "output_type": "stream",
     "text": [
      "Some weights of the model checkpoint at xlm-roberta-large were not used when initializing XLMRobertaForTokenClassification: ['lm_head.bias', 'lm_head.dense.weight', 'lm_head.dense.bias', 'lm_head.layer_norm.bias', 'lm_head.layer_norm.weight', 'lm_head.decoder.weight']\n",
      "- This IS expected if you are initializing XLMRobertaForTokenClassification from the checkpoint of a model trained on another task or with another architecture (e.g. initializing a BertForSequenceClassification model from a BertForPreTraining model).\n",
      "- This IS NOT expected if you are initializing XLMRobertaForTokenClassification from the checkpoint of a model that you expect to be exactly identical (initializing a BertForSequenceClassification model from a BertForSequenceClassification model).\n",
      "Some weights of XLMRobertaForTokenClassification were not initialized from the model checkpoint at xlm-roberta-large and are newly initialized: ['classifier.weight', 'classifier.bias']\n",
      "You should probably TRAIN this model on a down-stream task to be able to use it for predictions and inference.\n"
     ]
    }
   ],
   "source": [
    "model = AutoModelForTokenClassification.from_pretrained(f\"{model_name}\", num_labels=len(label_list)).cuda()"
   ]
  },
  {
   "cell_type": "markdown",
   "id": "0accc08a",
   "metadata": {
    "papermill": {
     "duration": 0.022442,
     "end_time": "2022-09-05T15:11:24.174922",
     "exception": false,
     "start_time": "2022-09-05T15:11:24.152480",
     "status": "completed"
    },
    "tags": []
   },
   "source": [
    "About the Model:\n",
    "\n",
    "see https://github.com/huggingface/transformers/blob/v4.21.1/src/transformers/modeling_utils.py#L829"
   ]
  },
  {
   "cell_type": "code",
   "execution_count": 25,
   "id": "4ec3c6a6",
   "metadata": {
    "execution": {
     "iopub.execute_input": "2022-09-05T15:11:24.221316Z",
     "iopub.status.busy": "2022-09-05T15:11:24.220813Z",
     "iopub.status.idle": "2022-09-05T15:11:24.234826Z",
     "shell.execute_reply": "2022-09-05T15:11:24.233243Z"
    },
    "papermill": {
     "duration": 0.04165,
     "end_time": "2022-09-05T15:11:24.238720",
     "exception": false,
     "start_time": "2022-09-05T15:11:24.197070",
     "status": "completed"
    },
    "tags": []
   },
   "outputs": [
    {
     "name": "stdout",
     "output_type": "stream",
     "text": [
      "Parameters: 558848007\n",
      "Expected Input Dict: input_ids\n",
      "FLOPS needed per Training Sample: 124064257554\n"
     ]
    }
   ],
   "source": [
    "print(\"Parameters:\", model.num_parameters())\n",
    "print(\"Expected Input Dict:\", model.main_input_name )\n",
    "\n",
    "# Estimate FLOPS needed for one training example\n",
    "sample = tokenized_dataset_train[0]\n",
    "sample[\"input_ids\"] = torch.Tensor(sample[\"input_ids\"])\n",
    "flops_est = model.floating_point_ops(input_dict = sample, exclude_embeddings = False)\n",
    "\n",
    "print(\"FLOPS needed per Training Sample:\", flops_est )"
   ]
  },
  {
   "cell_type": "markdown",
   "id": "c4d05b63",
   "metadata": {
    "papermill": {
     "duration": 0.022013,
     "end_time": "2022-09-05T15:11:24.282799",
     "exception": false,
     "start_time": "2022-09-05T15:11:24.260786",
     "status": "completed"
    },
    "tags": []
   },
   "source": [
    "**Define Optimizer:**\n",
    "\n",
    "See https://huggingface.co/docs/transformers/main_classes/optimizer_schedules#transformers.Adafactor"
   ]
  },
  {
   "cell_type": "code",
   "execution_count": 26,
   "id": "d4ca6949",
   "metadata": {
    "execution": {
     "iopub.execute_input": "2022-09-05T15:11:24.328024Z",
     "iopub.status.busy": "2022-09-05T15:11:24.327625Z",
     "iopub.status.idle": "2022-09-05T15:11:24.333945Z",
     "shell.execute_reply": "2022-09-05T15:11:24.332305Z"
    },
    "papermill": {
     "duration": 0.032668,
     "end_time": "2022-09-05T15:11:24.337054",
     "exception": false,
     "start_time": "2022-09-05T15:11:24.304386",
     "status": "completed"
    },
    "tags": []
   },
   "outputs": [],
   "source": [
    "#from transformers.optimization import Adafactor, AdafactorSchedule\n",
    "\n",
    "#optimizer = Adafactor(    \n",
    "#        model.parameters(),\n",
    "#        lr=1e-3,\n",
    "#        eps=(1e-30, 1e-3),\n",
    "#        clip_threshold=1.0,\n",
    "#        decay_rate=-0.8,\n",
    "#        beta1=None,\n",
    "#        weight_decay=0.0,\n",
    "#        relative_step=False,\n",
    "#        scale_parameter=False,\n",
    "#        warmup_init=False,\n",
    "#    )\n",
    "\n",
    "#lr_scheduler = AdafactorSchedule(optimizer)"
   ]
  },
  {
   "cell_type": "markdown",
   "id": "59983543",
   "metadata": {
    "papermill": {
     "duration": 0.021485,
     "end_time": "2022-09-05T15:11:24.380100",
     "exception": false,
     "start_time": "2022-09-05T15:11:24.358615",
     "status": "completed"
    },
    "tags": []
   },
   "source": [
    "**Define Metrics:**\n",
    "\n",
    "See https://huggingface.co/course/chapter7/2#metrics"
   ]
  },
  {
   "cell_type": "code",
   "execution_count": 27,
   "id": "961f4fce",
   "metadata": {
    "execution": {
     "iopub.execute_input": "2022-09-05T15:11:24.426354Z",
     "iopub.status.busy": "2022-09-05T15:11:24.425841Z",
     "iopub.status.idle": "2022-09-05T15:11:25.565132Z",
     "shell.execute_reply": "2022-09-05T15:11:25.563745Z"
    },
    "papermill": {
     "duration": 1.16596,
     "end_time": "2022-09-05T15:11:25.568695",
     "exception": false,
     "start_time": "2022-09-05T15:11:24.402735",
     "status": "completed"
    },
    "tags": []
   },
   "outputs": [
    {
     "data": {
      "application/vnd.jupyter.widget-view+json": {
       "model_id": "f1cdeea7c4e843348c5bdccf55e1e220",
       "version_major": 2,
       "version_minor": 0
      },
      "text/plain": [
       "Downloading builder script:   0%|          | 0.00/2.47k [00:00<?, ?B/s]"
      ]
     },
     "metadata": {},
     "output_type": "display_data"
    }
   ],
   "source": [
    "from datasets import load_metric\n",
    "metric = load_metric(\"seqeval\")"
   ]
  },
  {
   "cell_type": "code",
   "execution_count": 28,
   "id": "928e1bb9",
   "metadata": {
    "execution": {
     "iopub.execute_input": "2022-09-05T15:11:25.615264Z",
     "iopub.status.busy": "2022-09-05T15:11:25.614017Z",
     "iopub.status.idle": "2022-09-05T15:11:25.633444Z",
     "shell.execute_reply": "2022-09-05T15:11:25.631951Z"
    },
    "papermill": {
     "duration": 0.045126,
     "end_time": "2022-09-05T15:11:25.636104",
     "exception": false,
     "start_time": "2022-09-05T15:11:25.590978",
     "status": "completed"
    },
    "tags": []
   },
   "outputs": [
    {
     "data": {
      "text/plain": [
       "{'ORG': {'precision': 1.0, 'recall': 1.0, 'f1': 1.0, 'number': 2},\n",
       " 'overall_precision': 1.0,\n",
       " 'overall_recall': 1.0,\n",
       " 'overall_f1': 1.0,\n",
       " 'overall_accuracy': 1.0}"
      ]
     },
     "execution_count": 28,
     "metadata": {},
     "output_type": "execute_result"
    }
   ],
   "source": [
    "example = dataset_train[150]\n",
    "labels = [label_list[i] for i in example[f\"ner_tags\"]]\n",
    "metric.compute(predictions=[labels], references=[labels])"
   ]
  },
  {
   "cell_type": "code",
   "execution_count": 29,
   "id": "78c50656",
   "metadata": {
    "execution": {
     "iopub.execute_input": "2022-09-05T15:11:25.684968Z",
     "iopub.status.busy": "2022-09-05T15:11:25.683822Z",
     "iopub.status.idle": "2022-09-05T15:11:25.691545Z",
     "shell.execute_reply": "2022-09-05T15:11:25.690217Z"
    },
    "papermill": {
     "duration": 0.035036,
     "end_time": "2022-09-05T15:11:25.694340",
     "exception": false,
     "start_time": "2022-09-05T15:11:25.659304",
     "status": "completed"
    },
    "tags": []
   },
   "outputs": [],
   "source": [
    "label_names = dataset_train.features[f\"ner_tags\"].feature.names\n",
    "\n",
    "id2label = {id : label for id, label in enumerate(label_names)}\n",
    "label2id = {label: id for id, label in enumerate(label_names)}\n",
    "\n",
    "model.config.id2label = id2label\n",
    "model.config.label2id = label2id"
   ]
  },
  {
   "cell_type": "code",
   "execution_count": 30,
   "id": "9d724486",
   "metadata": {
    "execution": {
     "iopub.execute_input": "2022-09-05T15:11:25.740578Z",
     "iopub.status.busy": "2022-09-05T15:11:25.740239Z",
     "iopub.status.idle": "2022-09-05T15:11:25.746228Z",
     "shell.execute_reply": "2022-09-05T15:11:25.744828Z"
    },
    "papermill": {
     "duration": 0.032677,
     "end_time": "2022-09-05T15:11:25.748999",
     "exception": false,
     "start_time": "2022-09-05T15:11:25.716322",
     "status": "completed"
    },
    "tags": []
   },
   "outputs": [],
   "source": [
    "label_names = model.config.id2label"
   ]
  },
  {
   "cell_type": "code",
   "execution_count": 31,
   "id": "f6a26c30",
   "metadata": {
    "execution": {
     "iopub.execute_input": "2022-09-05T15:11:25.794882Z",
     "iopub.status.busy": "2022-09-05T15:11:25.794564Z",
     "iopub.status.idle": "2022-09-05T15:11:25.802994Z",
     "shell.execute_reply": "2022-09-05T15:11:25.801572Z"
    },
    "papermill": {
     "duration": 0.034687,
     "end_time": "2022-09-05T15:11:25.805611",
     "exception": false,
     "start_time": "2022-09-05T15:11:25.770924",
     "status": "completed"
    },
    "tags": []
   },
   "outputs": [],
   "source": [
    "import numpy as np\n",
    "\n",
    "def compute_metrics(eval_preds):\n",
    "    logits, labels = eval_preds\n",
    "    predictions = np.argmax(logits, axis=-1)\n",
    "\n",
    "    true_labels = [[label_names[l] for l in label  if l != -100] for label in labels]\n",
    "    #true_predictions = [model.config.id2label[t.item()] for t in predictions]\n",
    "    \n",
    "    true_predictions = [\n",
    "        [label_names[p] for (p, l) in zip(prediction, label)  if l != -100]\n",
    "        for prediction, label in zip(predictions, labels)\n",
    "    ]\n",
    "\n",
    "    results = metric.compute(predictions=true_predictions, references=true_labels)\n",
    "    \n",
    "    print(results)\n",
    "    \n",
    "    return {\n",
    "        \"precision\": results[\"overall_precision\"],\n",
    "        \"recall\": results[\"overall_recall\"],\n",
    "        \"f1\": results[\"overall_f1\"],\n",
    "        \"accuracy\": results[\"overall_accuracy\"],\n",
    "    }"
   ]
  },
  {
   "cell_type": "markdown",
   "id": "f231e00f",
   "metadata": {
    "papermill": {
     "duration": 0.022016,
     "end_time": "2022-09-05T15:11:25.849589",
     "exception": false,
     "start_time": "2022-09-05T15:11:25.827573",
     "status": "completed"
    },
    "tags": []
   },
   "source": [
    "**Set further Training Arguments:**\n",
    "\n",
    "See https://huggingface.co/docs/transformers/v4.21.2/en/main_classes/trainer#transformers.TrainingArguments"
   ]
  },
  {
   "cell_type": "code",
   "execution_count": 32,
   "id": "550cb941",
   "metadata": {
    "execution": {
     "iopub.execute_input": "2022-09-05T15:11:25.895347Z",
     "iopub.status.busy": "2022-09-05T15:11:25.894185Z",
     "iopub.status.idle": "2022-09-05T15:11:25.920809Z",
     "shell.execute_reply": "2022-09-05T15:11:25.919469Z"
    },
    "papermill": {
     "duration": 0.052671,
     "end_time": "2022-09-05T15:11:25.923694",
     "exception": false,
     "start_time": "2022-09-05T15:11:25.871023",
     "status": "completed"
    },
    "tags": []
   },
   "outputs": [
    {
     "name": "stderr",
     "output_type": "stream",
     "text": [
      "Using cuda_amp half precision backend\n"
     ]
    }
   ],
   "source": [
    "training_args = TrainingArguments(\n",
    "    output_dir=\"./results\",\n",
    "    save_strategy= \"no\",# \"epoch\",\n",
    "    #save_steps = 2000,\n",
    "    remove_unused_columns = True,\n",
    "    evaluation_strategy=\"steps\",\n",
    "    eval_steps = 2000,\n",
    "    #load_best_model_at_end=True,\n",
    "    logging_strategy = \"steps\",\n",
    "    logging_steps = 2000,\n",
    "    learning_rate= 2e-5,\n",
    "    auto_find_batch_size = True,\n",
    "    #per_device_train_batch_size=8,\n",
    "    #per_device_eval_batch_size=8,\n",
    "    #gradient_accumulation_steps=4,\n",
    "    #optim=\"adamw_torch\",\n",
    "    num_train_epochs=5,\n",
    "    weight_decay=0.01,\n",
    "    report_to=\"none\",\n",
    "    fp16=True,\n",
    ")\n",
    "\n",
    "trainer = Trainer(\n",
    "    model=model,\n",
    "    args=training_args,\n",
    "    train_dataset=tokenized_dataset_train,\n",
    "    eval_dataset=tokenized_dataset_test,\n",
    "    tokenizer=tokenizer,\n",
    "    data_collator=data_collator,\n",
    "    #optimizers=(optimizer, lr_scheduler),\n",
    "    compute_metrics=compute_metrics\n",
    ")"
   ]
  },
  {
   "cell_type": "markdown",
   "id": "0110c223",
   "metadata": {
    "papermill": {
     "duration": 0.021561,
     "end_time": "2022-09-05T15:11:25.967832",
     "exception": false,
     "start_time": "2022-09-05T15:11:25.946271",
     "status": "completed"
    },
    "tags": []
   },
   "source": [
    "## Train Model\n",
    "\n",
    "GPU used by Kaggle: https://www.nvidia.com/de-de/data-center/tesla-p100/"
   ]
  },
  {
   "cell_type": "code",
   "execution_count": 33,
   "id": "451e1a0e",
   "metadata": {
    "execution": {
     "iopub.execute_input": "2022-09-05T15:11:26.014951Z",
     "iopub.status.busy": "2022-09-05T15:11:26.012899Z",
     "iopub.status.idle": "2022-09-05T15:11:27.671864Z",
     "shell.execute_reply": "2022-09-05T15:11:27.670220Z"
    },
    "papermill": {
     "duration": 1.685231,
     "end_time": "2022-09-05T15:11:27.675087",
     "exception": false,
     "start_time": "2022-09-05T15:11:25.989856",
     "status": "completed"
    },
    "tags": []
   },
   "outputs": [
    {
     "name": "stdout",
     "output_type": "stream",
     "text": [
      "huggingface/tokenizers: The current process just got forked, after parallelism has already been used. Disabling parallelism to avoid deadlocks...\n",
      "To disable this warning, you can either:\n",
      "\t- Avoid using `tokenizers` before the fork if possible\n",
      "\t- Explicitly set the environment variable TOKENIZERS_PARALLELISM=(true | false)\n",
      "Mon Sep  5 15:11:27 2022       \n",
      "+-----------------------------------------------------------------------------+\n",
      "| NVIDIA-SMI 470.82.01    Driver Version: 470.82.01    CUDA Version: 11.4     |\n",
      "|-------------------------------+----------------------+----------------------+\n",
      "| GPU  Name        Persistence-M| Bus-Id        Disp.A | Volatile Uncorr. ECC |\n",
      "| Fan  Temp  Perf  Pwr:Usage/Cap|         Memory-Usage | GPU-Util  Compute M. |\n",
      "|                               |                      |               MIG M. |\n",
      "|===============================+======================+======================|\n",
      "|   0  Tesla P100-PCIE...  Off  | 00000000:00:04.0 Off |                    0 |\n",
      "| N/A   46C    P0    37W / 250W |   2885MiB / 16280MiB |      0%      Default |\n",
      "|                               |                      |                  N/A |\n",
      "+-------------------------------+----------------------+----------------------+\n",
      "                                                                               \n",
      "+-----------------------------------------------------------------------------+\n",
      "| Processes:                                                                  |\n",
      "|  GPU   GI   CI        PID   Type   Process name                  GPU Memory |\n",
      "|        ID   ID                                                   Usage      |\n",
      "|=============================================================================|\n",
      "+-----------------------------------------------------------------------------+\n"
     ]
    }
   ],
   "source": [
    "!nvidia-smi"
   ]
  },
  {
   "cell_type": "code",
   "execution_count": 34,
   "id": "a3351c04",
   "metadata": {
    "execution": {
     "iopub.execute_input": "2022-09-05T15:11:27.723747Z",
     "iopub.status.busy": "2022-09-05T15:11:27.723021Z",
     "iopub.status.idle": "2022-09-05T19:38:44.055576Z",
     "shell.execute_reply": "2022-09-05T19:38:44.054365Z"
    },
    "papermill": {
     "duration": 16036.359107,
     "end_time": "2022-09-05T19:38:44.058234",
     "exception": false,
     "start_time": "2022-09-05T15:11:27.699127",
     "status": "completed"
    },
    "tags": []
   },
   "outputs": [
    {
     "name": "stderr",
     "output_type": "stream",
     "text": [
      "/opt/conda/lib/python3.7/site-packages/accelerate/memory_utils.py:26: FutureWarning: memory_utils has been reorganized to utils.memory. Import `find_executable_batchsize` from the main `__init__`: `from accelerate import find_executable_batch_size` to avoid this warning.\n",
      "  FutureWarning,\n",
      "/opt/conda/lib/python3.7/site-packages/transformers/optimization.py:310: FutureWarning: This implementation of AdamW is deprecated and will be removed in a future version. Use the PyTorch implementation torch.optim.AdamW instead, or set `no_deprecation_warning=True` to disable this warning\n",
      "  FutureWarning,\n",
      "***** Running training *****\n",
      "  Num examples = 40000\n",
      "  Num Epochs = 5\n",
      "  Instantaneous batch size per device = 8\n",
      "  Total train batch size (w. parallel, distributed & accumulation) = 8\n",
      "  Gradient Accumulation steps = 1\n",
      "  Total optimization steps = 25000\n"
     ]
    },
    {
     "data": {
      "text/html": [
       "\n",
       "    <div>\n",
       "      \n",
       "      <progress value='2719' max='25000' style='width:300px; height:20px; vertical-align: middle;'></progress>\n",
       "      [ 2719/25000 14:23 < 1:57:57, 3.15 it/s, Epoch 0.54/5]\n",
       "    </div>\n",
       "    <table border=\"1\" class=\"dataframe\">\n",
       "  <thead>\n",
       " <tr style=\"text-align: left;\">\n",
       "      <th>Step</th>\n",
       "      <th>Training Loss</th>\n",
       "      <th>Validation Loss</th>\n",
       "      <th>Precision</th>\n",
       "      <th>Recall</th>\n",
       "      <th>F1</th>\n",
       "      <th>Accuracy</th>\n",
       "    </tr>\n",
       "  </thead>\n",
       "  <tbody>\n",
       "    <tr>\n",
       "      <td>2000</td>\n",
       "      <td>0.494400</td>\n",
       "      <td>0.332519</td>\n",
       "      <td>0.760188</td>\n",
       "      <td>0.776118</td>\n",
       "      <td>0.768070</td>\n",
       "      <td>0.905558</td>\n",
       "    </tr>\n",
       "  </tbody>\n",
       "</table><p>"
      ],
      "text/plain": [
       "<IPython.core.display.HTML object>"
      ]
     },
     "metadata": {},
     "output_type": "display_data"
    },
    {
     "name": "stderr",
     "output_type": "stream",
     "text": [
      "***** Running Evaluation *****\n",
      "  Num examples = 20000\n",
      "  Batch size = 8\n"
     ]
    },
    {
     "name": "stdout",
     "output_type": "stream",
     "text": [
      "{'LOC': {'precision': 0.7878856215046004, 'recall': 0.8293690357498932, 'f1': 0.8080952931652596, 'number': 21063}, 'ORG': {'precision': 0.6790288315629742, 'recall': 0.6591444732500589, 'f1': 0.6689389182886357, 'number': 16972}, 'PER': {'precision': 0.8079387094643683, 'recall': 0.8350740664891801, 'f1': 0.8212823094998322, 'number': 14649}, 'overall_precision': 0.7601881460548822, 'overall_recall': 0.7761179864854605, 'overall_f1': 0.7680704786234879, 'overall_accuracy': 0.9055584546452414}\n"
     ]
    },
    {
     "name": "stderr",
     "output_type": "stream",
     "text": [
      "***** Running training *****\n",
      "  Num examples = 40000\n",
      "  Num Epochs = 5\n",
      "  Instantaneous batch size per device = 8\n",
      "  Total train batch size (w. parallel, distributed & accumulation) = 8\n",
      "  Gradient Accumulation steps = 1\n",
      "  Total optimization steps = 50000\n"
     ]
    },
    {
     "data": {
      "text/html": [
       "\n",
       "    <div>\n",
       "      \n",
       "      <progress value='50000' max='50000' style='width:300px; height:20px; vertical-align: middle;'></progress>\n",
       "      [50000/50000 4:12:50, Epoch 5/5]\n",
       "    </div>\n",
       "    <table border=\"1\" class=\"dataframe\">\n",
       "  <thead>\n",
       " <tr style=\"text-align: left;\">\n",
       "      <th>Step</th>\n",
       "      <th>Training Loss</th>\n",
       "      <th>Validation Loss</th>\n",
       "      <th>Precision</th>\n",
       "      <th>Recall</th>\n",
       "      <th>F1</th>\n",
       "      <th>Accuracy</th>\n",
       "    </tr>\n",
       "  </thead>\n",
       "  <tbody>\n",
       "    <tr>\n",
       "      <td>2000</td>\n",
       "      <td>0.341400</td>\n",
       "      <td>0.326344</td>\n",
       "      <td>0.779977</td>\n",
       "      <td>0.797965</td>\n",
       "      <td>0.788869</td>\n",
       "      <td>0.916528</td>\n",
       "    </tr>\n",
       "    <tr>\n",
       "      <td>4000</td>\n",
       "      <td>0.347500</td>\n",
       "      <td>0.357393</td>\n",
       "      <td>0.800316</td>\n",
       "      <td>0.808139</td>\n",
       "      <td>0.804208</td>\n",
       "      <td>0.920328</td>\n",
       "    </tr>\n",
       "    <tr>\n",
       "      <td>6000</td>\n",
       "      <td>0.317700</td>\n",
       "      <td>0.365493</td>\n",
       "      <td>0.781430</td>\n",
       "      <td>0.807342</td>\n",
       "      <td>0.794174</td>\n",
       "      <td>0.919357</td>\n",
       "    </tr>\n",
       "    <tr>\n",
       "      <td>8000</td>\n",
       "      <td>0.312900</td>\n",
       "      <td>0.306104</td>\n",
       "      <td>0.804261</td>\n",
       "      <td>0.808215</td>\n",
       "      <td>0.806233</td>\n",
       "      <td>0.919986</td>\n",
       "    </tr>\n",
       "    <tr>\n",
       "      <td>10000</td>\n",
       "      <td>0.294000</td>\n",
       "      <td>0.310273</td>\n",
       "      <td>0.832311</td>\n",
       "      <td>0.839230</td>\n",
       "      <td>0.835756</td>\n",
       "      <td>0.933460</td>\n",
       "    </tr>\n",
       "    <tr>\n",
       "      <td>12000</td>\n",
       "      <td>0.222700</td>\n",
       "      <td>0.326742</td>\n",
       "      <td>0.829538</td>\n",
       "      <td>0.840198</td>\n",
       "      <td>0.834834</td>\n",
       "      <td>0.932870</td>\n",
       "    </tr>\n",
       "    <tr>\n",
       "      <td>14000</td>\n",
       "      <td>0.236900</td>\n",
       "      <td>0.317290</td>\n",
       "      <td>0.840634</td>\n",
       "      <td>0.840730</td>\n",
       "      <td>0.840682</td>\n",
       "      <td>0.935533</td>\n",
       "    </tr>\n",
       "    <tr>\n",
       "      <td>16000</td>\n",
       "      <td>0.217200</td>\n",
       "      <td>0.280376</td>\n",
       "      <td>0.839006</td>\n",
       "      <td>0.848227</td>\n",
       "      <td>0.843592</td>\n",
       "      <td>0.936872</td>\n",
       "    </tr>\n",
       "    <tr>\n",
       "      <td>18000</td>\n",
       "      <td>0.215700</td>\n",
       "      <td>0.292337</td>\n",
       "      <td>0.852200</td>\n",
       "      <td>0.849062</td>\n",
       "      <td>0.850628</td>\n",
       "      <td>0.938679</td>\n",
       "    </tr>\n",
       "    <tr>\n",
       "      <td>20000</td>\n",
       "      <td>0.211100</td>\n",
       "      <td>0.287928</td>\n",
       "      <td>0.854635</td>\n",
       "      <td>0.856598</td>\n",
       "      <td>0.855615</td>\n",
       "      <td>0.940788</td>\n",
       "    </tr>\n",
       "    <tr>\n",
       "      <td>22000</td>\n",
       "      <td>0.153400</td>\n",
       "      <td>0.316854</td>\n",
       "      <td>0.859148</td>\n",
       "      <td>0.858496</td>\n",
       "      <td>0.858822</td>\n",
       "      <td>0.941425</td>\n",
       "    </tr>\n",
       "    <tr>\n",
       "      <td>24000</td>\n",
       "      <td>0.146600</td>\n",
       "      <td>0.317158</td>\n",
       "      <td>0.858710</td>\n",
       "      <td>0.858970</td>\n",
       "      <td>0.858840</td>\n",
       "      <td>0.941407</td>\n",
       "    </tr>\n",
       "    <tr>\n",
       "      <td>26000</td>\n",
       "      <td>0.159500</td>\n",
       "      <td>0.317158</td>\n",
       "      <td>0.858710</td>\n",
       "      <td>0.858970</td>\n",
       "      <td>0.858840</td>\n",
       "      <td>0.941407</td>\n",
       "    </tr>\n",
       "    <tr>\n",
       "      <td>28000</td>\n",
       "      <td>0.147300</td>\n",
       "      <td>0.317158</td>\n",
       "      <td>0.858710</td>\n",
       "      <td>0.858970</td>\n",
       "      <td>0.858840</td>\n",
       "      <td>0.941407</td>\n",
       "    </tr>\n",
       "    <tr>\n",
       "      <td>30000</td>\n",
       "      <td>0.166400</td>\n",
       "      <td>0.317158</td>\n",
       "      <td>0.858710</td>\n",
       "      <td>0.858970</td>\n",
       "      <td>0.858840</td>\n",
       "      <td>0.941407</td>\n",
       "    </tr>\n",
       "    <tr>\n",
       "      <td>32000</td>\n",
       "      <td>0.141100</td>\n",
       "      <td>0.317158</td>\n",
       "      <td>0.858710</td>\n",
       "      <td>0.858970</td>\n",
       "      <td>0.858840</td>\n",
       "      <td>0.941407</td>\n",
       "    </tr>\n",
       "    <tr>\n",
       "      <td>34000</td>\n",
       "      <td>0.147300</td>\n",
       "      <td>0.317158</td>\n",
       "      <td>0.858710</td>\n",
       "      <td>0.858970</td>\n",
       "      <td>0.858840</td>\n",
       "      <td>0.941407</td>\n",
       "    </tr>\n",
       "    <tr>\n",
       "      <td>36000</td>\n",
       "      <td>0.158400</td>\n",
       "      <td>0.317158</td>\n",
       "      <td>0.858710</td>\n",
       "      <td>0.858970</td>\n",
       "      <td>0.858840</td>\n",
       "      <td>0.941407</td>\n",
       "    </tr>\n",
       "    <tr>\n",
       "      <td>38000</td>\n",
       "      <td>0.143100</td>\n",
       "      <td>0.317158</td>\n",
       "      <td>0.858710</td>\n",
       "      <td>0.858970</td>\n",
       "      <td>0.858840</td>\n",
       "      <td>0.941407</td>\n",
       "    </tr>\n",
       "    <tr>\n",
       "      <td>40000</td>\n",
       "      <td>0.159000</td>\n",
       "      <td>0.317158</td>\n",
       "      <td>0.858710</td>\n",
       "      <td>0.858970</td>\n",
       "      <td>0.858840</td>\n",
       "      <td>0.941407</td>\n",
       "    </tr>\n",
       "    <tr>\n",
       "      <td>42000</td>\n",
       "      <td>0.163800</td>\n",
       "      <td>0.317158</td>\n",
       "      <td>0.858710</td>\n",
       "      <td>0.858970</td>\n",
       "      <td>0.858840</td>\n",
       "      <td>0.941407</td>\n",
       "    </tr>\n",
       "    <tr>\n",
       "      <td>44000</td>\n",
       "      <td>0.157000</td>\n",
       "      <td>0.317158</td>\n",
       "      <td>0.858710</td>\n",
       "      <td>0.858970</td>\n",
       "      <td>0.858840</td>\n",
       "      <td>0.941407</td>\n",
       "    </tr>\n",
       "    <tr>\n",
       "      <td>46000</td>\n",
       "      <td>0.152700</td>\n",
       "      <td>0.317158</td>\n",
       "      <td>0.858710</td>\n",
       "      <td>0.858970</td>\n",
       "      <td>0.858840</td>\n",
       "      <td>0.941407</td>\n",
       "    </tr>\n",
       "    <tr>\n",
       "      <td>48000</td>\n",
       "      <td>0.148400</td>\n",
       "      <td>0.317158</td>\n",
       "      <td>0.858710</td>\n",
       "      <td>0.858970</td>\n",
       "      <td>0.858840</td>\n",
       "      <td>0.941407</td>\n",
       "    </tr>\n",
       "    <tr>\n",
       "      <td>50000</td>\n",
       "      <td>0.138200</td>\n",
       "      <td>0.317158</td>\n",
       "      <td>0.858710</td>\n",
       "      <td>0.858970</td>\n",
       "      <td>0.858840</td>\n",
       "      <td>0.941407</td>\n",
       "    </tr>\n",
       "  </tbody>\n",
       "</table><p>"
      ],
      "text/plain": [
       "<IPython.core.display.HTML object>"
      ]
     },
     "metadata": {},
     "output_type": "display_data"
    },
    {
     "name": "stderr",
     "output_type": "stream",
     "text": [
      "***** Running Evaluation *****\n",
      "  Num examples = 20000\n",
      "  Batch size = 8\n"
     ]
    },
    {
     "name": "stdout",
     "output_type": "stream",
     "text": [
      "{'LOC': {'precision': 0.8449354317998385, 'recall': 0.7952333475763187, 'f1': 0.8193313278059041, 'number': 21063}, 'ORG': {'precision': 0.6753048780487805, 'recall': 0.7569526278576479, 'f1': 0.7138015335037227, 'number': 16972}, 'PER': {'precision': 0.8267224769118331, 'recall': 0.8494095160079186, 'f1': 0.8379124579124579, 'number': 14649}, 'overall_precision': 0.7799773650717082, 'overall_recall': 0.7979652266342723, 'overall_f1': 0.7888687689406378, 'overall_accuracy': 0.916527810267576}\n"
     ]
    },
    {
     "name": "stderr",
     "output_type": "stream",
     "text": [
      "***** Running Evaluation *****\n",
      "  Num examples = 20000\n",
      "  Batch size = 8\n"
     ]
    },
    {
     "name": "stdout",
     "output_type": "stream",
     "text": [
      "{'LOC': {'precision': 0.7745759920961633, 'recall': 0.8933200398803589, 'f1': 0.829721089185316, 'number': 21063}, 'ORG': {'precision': 0.7627857803620985, 'recall': 0.680179118548197, 'f1': 0.7191179218837601, 'number': 16972}, 'PER': {'precision': 0.8869527336092354, 'recall': 0.8339135777186156, 'f1': 0.8596157905847583, 'number': 14649}, 'overall_precision': 0.8003157954096881, 'overall_recall': 0.8081390934629109, 'overall_f1': 0.8042084187263299, 'overall_accuracy': 0.9203282169398809}\n"
     ]
    },
    {
     "name": "stderr",
     "output_type": "stream",
     "text": [
      "***** Running Evaluation *****\n",
      "  Num examples = 20000\n",
      "  Batch size = 8\n"
     ]
    },
    {
     "name": "stdout",
     "output_type": "stream",
     "text": [
      "{'LOC': {'precision': 0.8545954758508254, 'recall': 0.7963727864026967, 'f1': 0.8244574967437517, 'number': 21063}, 'ORG': {'precision': 0.6814985832721167, 'recall': 0.7652604289417865, 'f1': 0.720954759922287, 'number': 16972}, 'PER': {'precision': 0.8111781517942204, 'recall': 0.8718683869206089, 'f1': 0.8404290320457986, 'number': 14649}, 'overall_precision': 0.7814296999871397, 'overall_recall': 0.8073418874800699, 'overall_f1': 0.7941744853661953, 'overall_accuracy': 0.9193565220520756}\n"
     ]
    },
    {
     "name": "stderr",
     "output_type": "stream",
     "text": [
      "***** Running Evaluation *****\n",
      "  Num examples = 20000\n",
      "  Batch size = 8\n"
     ]
    },
    {
     "name": "stdout",
     "output_type": "stream",
     "text": [
      "{'LOC': {'precision': 0.8470689408055038, 'recall': 0.8417604329867541, 'f1': 0.8444063437633949, 'number': 21063}, 'ORG': {'precision': 0.6942718753290513, 'recall': 0.7769856233796841, 'f1': 0.7333036756937108, 'number': 16972}, 'PER': {'precision': 0.8959133507451221, 'recall': 0.7961635606526043, 'f1': 0.8430982759243866, 'number': 14649}, 'overall_precision': 0.8042611865591296, 'overall_recall': 0.8082150178422292, 'overall_f1': 0.8062332547549395, 'overall_accuracy': 0.9199863242941716}\n"
     ]
    },
    {
     "name": "stderr",
     "output_type": "stream",
     "text": [
      "***** Running Evaluation *****\n",
      "  Num examples = 20000\n",
      "  Batch size = 8\n"
     ]
    },
    {
     "name": "stdout",
     "output_type": "stream",
     "text": [
      "{'LOC': {'precision': 0.8578538536676125, 'recall': 0.875611261453734, 'f1': 0.8666416051877261, 'number': 21063}, 'ORG': {'precision': 0.7707822131785266, 'recall': 0.7588380862597219, 'f1': 0.7647635165226687, 'number': 16972}, 'PER': {'precision': 0.8644226900898485, 'recall': 0.880060072359888, 'f1': 0.8721712952000812, 'number': 14649}, 'overall_precision': 0.8323105304770152, 'overall_recall': 0.8392301267937134, 'overall_f1': 0.8357560062756365, 'overall_accuracy': 0.9334604934050708}\n"
     ]
    },
    {
     "name": "stderr",
     "output_type": "stream",
     "text": [
      "***** Running Evaluation *****\n",
      "  Num examples = 20000\n",
      "  Batch size = 8\n"
     ]
    },
    {
     "name": "stdout",
     "output_type": "stream",
     "text": [
      "{'LOC': {'precision': 0.8543111069750128, 'recall': 0.8716707021791767, 'f1': 0.8629036048315083, 'number': 21063}, 'ORG': {'precision': 0.753637190270516, 'recall': 0.7813457459344804, 'f1': 0.7672413793103448, 'number': 16972}, 'PER': {'precision': 0.8858063612161973, 'recall': 0.8631305891187112, 'f1': 0.87432147425924, 'number': 14649}, 'overall_precision': 0.8295384269410243, 'overall_recall': 0.8401981626300205, 'overall_f1': 0.8348342684709321, 'overall_accuracy': 0.932870278732478}\n"
     ]
    },
    {
     "name": "stderr",
     "output_type": "stream",
     "text": [
      "***** Running Evaluation *****\n",
      "  Num examples = 20000\n",
      "  Batch size = 8\n"
     ]
    },
    {
     "name": "stdout",
     "output_type": "stream",
     "text": [
      "{'LOC': {'precision': 0.8613382899628252, 'recall': 0.8800265869059488, 'f1': 0.8705821571988821, 'number': 21063}, 'ORG': {'precision': 0.7693836978131213, 'recall': 0.7752769267028046, 'f1': 0.7723190702588484, 'number': 16972}, 'PER': {'precision': 0.8955786181404606, 'recall': 0.8600587070789815, 'f1': 0.8774593446390638, 'number': 14649}, 'overall_precision': 0.8406338963750237, 'overall_recall': 0.8407296332852479, 'overall_f1': 0.8406817621045038, 'overall_accuracy': 0.9355334424990553}\n"
     ]
    },
    {
     "name": "stderr",
     "output_type": "stream",
     "text": [
      "***** Running Evaluation *****\n",
      "  Num examples = 20000\n",
      "  Batch size = 8\n"
     ]
    },
    {
     "name": "stdout",
     "output_type": "stream",
     "text": [
      "{'LOC': {'precision': 0.8659077124061028, 'recall': 0.8811185491145611, 'f1': 0.8734469126506025, 'number': 21063}, 'ORG': {'precision': 0.764941378324278, 'recall': 0.7880626914918689, 'f1': 0.7763299184490815, 'number': 16972}, 'PER': {'precision': 0.8890902753572674, 'recall': 0.870639634104717, 'f1': 0.8797682279092226, 'number': 14649}, 'overall_precision': 0.8390064397424103, 'overall_recall': 0.84822716574292, 'overall_f1': 0.8435916071243169, 'overall_accuracy': 0.9368722221222536}\n"
     ]
    },
    {
     "name": "stderr",
     "output_type": "stream",
     "text": [
      "***** Running Evaluation *****\n",
      "  Num examples = 20000\n",
      "  Batch size = 8\n"
     ]
    },
    {
     "name": "stdout",
     "output_type": "stream",
     "text": [
      "{'LOC': {'precision': 0.874236180190422, 'recall': 0.8762284574846888, 'f1': 0.8752311850903399, 'number': 21063}, 'ORG': {'precision': 0.7852932594105632, 'recall': 0.7928352580721187, 'f1': 0.7890462368428768, 'number': 16972}, 'PER': {'precision': 0.9000280819994384, 'recall': 0.8751450610963206, 'f1': 0.8874121759595751, 'number': 14649}, 'overall_precision': 0.8522004191274528, 'overall_recall': 0.8490623339154202, 'overall_f1': 0.8506284823245288, 'overall_accuracy': 0.9386788548395804}\n"
     ]
    },
    {
     "name": "stderr",
     "output_type": "stream",
     "text": [
      "***** Running Evaluation *****\n",
      "  Num examples = 20000\n",
      "  Batch size = 8\n"
     ]
    },
    {
     "name": "stdout",
     "output_type": "stream",
     "text": [
      "{'LOC': {'precision': 0.8737570857726977, 'recall': 0.8927977970849357, 'f1': 0.8831748268169544, 'number': 21063}, 'ORG': {'precision': 0.7944560357675112, 'recall': 0.7852345038887579, 'f1': 0.7898183542240792, 'number': 16972}, 'PER': {'precision': 0.895850565205404, 'recall': 0.8872277971192573, 'f1': 0.8915183317899648, 'number': 14649}, 'overall_precision': 0.8546349777483193, 'overall_recall': 0.8565978285627515, 'overall_f1': 0.8556152774222906, 'overall_accuracy': 0.9407877926331132}\n"
     ]
    },
    {
     "name": "stderr",
     "output_type": "stream",
     "text": [
      "***** Running Evaluation *****\n",
      "  Num examples = 20000\n",
      "  Batch size = 8\n"
     ]
    },
    {
     "name": "stdout",
     "output_type": "stream",
     "text": [
      "{'LOC': {'precision': 0.8741556398630518, 'recall': 0.8970232160660875, 'f1': 0.8854418070623522, 'number': 21063}, 'ORG': {'precision': 0.8030048076923076, 'recall': 0.7872967240160264, 'f1': 0.7950731881470903, 'number': 16972}, 'PER': {'precision': 0.9015288394718555, 'recall': 0.8855894600314015, 'f1': 0.8934880677709288, 'number': 14649}, 'overall_precision': 0.8591482410151204, 'overall_recall': 0.8584959380457065, 'overall_f1': 0.8588219656691477, 'overall_accuracy': 0.9414247926151188}\n"
     ]
    },
    {
     "name": "stderr",
     "output_type": "stream",
     "text": [
      "***** Running Evaluation *****\n",
      "  Num examples = 20000\n",
      "  Batch size = 8\n"
     ]
    },
    {
     "name": "stdout",
     "output_type": "stream",
     "text": [
      "{'LOC': {'precision': 0.8745312282976063, 'recall': 0.8967858329772587, 'f1': 0.8855187286109417, 'number': 21063}, 'ORG': {'precision': 0.8018206863508415, 'recall': 0.7888286589677115, 'f1': 0.7952716148385757, 'number': 16972}, 'PER': {'precision': 0.9009302971396834, 'recall': 0.8858625162127107, 'f1': 0.8933328744019551, 'number': 14649}, 'overall_precision': 0.8587096774193549, 'overall_recall': 0.8589704654164452, 'overall_f1': 0.8588400516207393, 'overall_accuracy': 0.9414067982653447}\n"
     ]
    },
    {
     "name": "stderr",
     "output_type": "stream",
     "text": [
      "***** Running Evaluation *****\n",
      "  Num examples = 20000\n",
      "  Batch size = 8\n"
     ]
    },
    {
     "name": "stdout",
     "output_type": "stream",
     "text": [
      "{'LOC': {'precision': 0.8745312282976063, 'recall': 0.8967858329772587, 'f1': 0.8855187286109417, 'number': 21063}, 'ORG': {'precision': 0.8018206863508415, 'recall': 0.7888286589677115, 'f1': 0.7952716148385757, 'number': 16972}, 'PER': {'precision': 0.9009302971396834, 'recall': 0.8858625162127107, 'f1': 0.8933328744019551, 'number': 14649}, 'overall_precision': 0.8587096774193549, 'overall_recall': 0.8589704654164452, 'overall_f1': 0.8588400516207393, 'overall_accuracy': 0.9414067982653447}\n"
     ]
    },
    {
     "name": "stderr",
     "output_type": "stream",
     "text": [
      "***** Running Evaluation *****\n",
      "  Num examples = 20000\n",
      "  Batch size = 8\n"
     ]
    },
    {
     "name": "stdout",
     "output_type": "stream",
     "text": [
      "{'LOC': {'precision': 0.8745312282976063, 'recall': 0.8967858329772587, 'f1': 0.8855187286109417, 'number': 21063}, 'ORG': {'precision': 0.8018206863508415, 'recall': 0.7888286589677115, 'f1': 0.7952716148385757, 'number': 16972}, 'PER': {'precision': 0.9009302971396834, 'recall': 0.8858625162127107, 'f1': 0.8933328744019551, 'number': 14649}, 'overall_precision': 0.8587096774193549, 'overall_recall': 0.8589704654164452, 'overall_f1': 0.8588400516207393, 'overall_accuracy': 0.9414067982653447}\n"
     ]
    },
    {
     "name": "stderr",
     "output_type": "stream",
     "text": [
      "***** Running Evaluation *****\n",
      "  Num examples = 20000\n",
      "  Batch size = 8\n"
     ]
    },
    {
     "name": "stdout",
     "output_type": "stream",
     "text": [
      "{'LOC': {'precision': 0.8745312282976063, 'recall': 0.8967858329772587, 'f1': 0.8855187286109417, 'number': 21063}, 'ORG': {'precision': 0.8018206863508415, 'recall': 0.7888286589677115, 'f1': 0.7952716148385757, 'number': 16972}, 'PER': {'precision': 0.9009302971396834, 'recall': 0.8858625162127107, 'f1': 0.8933328744019551, 'number': 14649}, 'overall_precision': 0.8587096774193549, 'overall_recall': 0.8589704654164452, 'overall_f1': 0.8588400516207393, 'overall_accuracy': 0.9414067982653447}\n"
     ]
    },
    {
     "name": "stderr",
     "output_type": "stream",
     "text": [
      "***** Running Evaluation *****\n",
      "  Num examples = 20000\n",
      "  Batch size = 8\n"
     ]
    },
    {
     "name": "stdout",
     "output_type": "stream",
     "text": [
      "{'LOC': {'precision': 0.8745312282976063, 'recall': 0.8967858329772587, 'f1': 0.8855187286109417, 'number': 21063}, 'ORG': {'precision': 0.8018206863508415, 'recall': 0.7888286589677115, 'f1': 0.7952716148385757, 'number': 16972}, 'PER': {'precision': 0.9009302971396834, 'recall': 0.8858625162127107, 'f1': 0.8933328744019551, 'number': 14649}, 'overall_precision': 0.8587096774193549, 'overall_recall': 0.8589704654164452, 'overall_f1': 0.8588400516207393, 'overall_accuracy': 0.9414067982653447}\n"
     ]
    },
    {
     "name": "stderr",
     "output_type": "stream",
     "text": [
      "***** Running Evaluation *****\n",
      "  Num examples = 20000\n",
      "  Batch size = 8\n"
     ]
    },
    {
     "name": "stdout",
     "output_type": "stream",
     "text": [
      "{'LOC': {'precision': 0.8745312282976063, 'recall': 0.8967858329772587, 'f1': 0.8855187286109417, 'number': 21063}, 'ORG': {'precision': 0.8018206863508415, 'recall': 0.7888286589677115, 'f1': 0.7952716148385757, 'number': 16972}, 'PER': {'precision': 0.9009302971396834, 'recall': 0.8858625162127107, 'f1': 0.8933328744019551, 'number': 14649}, 'overall_precision': 0.8587096774193549, 'overall_recall': 0.8589704654164452, 'overall_f1': 0.8588400516207393, 'overall_accuracy': 0.9414067982653447}\n"
     ]
    },
    {
     "name": "stderr",
     "output_type": "stream",
     "text": [
      "***** Running Evaluation *****\n",
      "  Num examples = 20000\n",
      "  Batch size = 8\n"
     ]
    },
    {
     "name": "stdout",
     "output_type": "stream",
     "text": [
      "{'LOC': {'precision': 0.8745312282976063, 'recall': 0.8967858329772587, 'f1': 0.8855187286109417, 'number': 21063}, 'ORG': {'precision': 0.8018206863508415, 'recall': 0.7888286589677115, 'f1': 0.7952716148385757, 'number': 16972}, 'PER': {'precision': 0.9009302971396834, 'recall': 0.8858625162127107, 'f1': 0.8933328744019551, 'number': 14649}, 'overall_precision': 0.8587096774193549, 'overall_recall': 0.8589704654164452, 'overall_f1': 0.8588400516207393, 'overall_accuracy': 0.9414067982653447}\n"
     ]
    },
    {
     "name": "stderr",
     "output_type": "stream",
     "text": [
      "***** Running Evaluation *****\n",
      "  Num examples = 20000\n",
      "  Batch size = 8\n"
     ]
    },
    {
     "name": "stdout",
     "output_type": "stream",
     "text": [
      "{'LOC': {'precision': 0.8745312282976063, 'recall': 0.8967858329772587, 'f1': 0.8855187286109417, 'number': 21063}, 'ORG': {'precision': 0.8018206863508415, 'recall': 0.7888286589677115, 'f1': 0.7952716148385757, 'number': 16972}, 'PER': {'precision': 0.9009302971396834, 'recall': 0.8858625162127107, 'f1': 0.8933328744019551, 'number': 14649}, 'overall_precision': 0.8587096774193549, 'overall_recall': 0.8589704654164452, 'overall_f1': 0.8588400516207393, 'overall_accuracy': 0.9414067982653447}\n"
     ]
    },
    {
     "name": "stderr",
     "output_type": "stream",
     "text": [
      "***** Running Evaluation *****\n",
      "  Num examples = 20000\n",
      "  Batch size = 8\n"
     ]
    },
    {
     "name": "stdout",
     "output_type": "stream",
     "text": [
      "{'LOC': {'precision': 0.8745312282976063, 'recall': 0.8967858329772587, 'f1': 0.8855187286109417, 'number': 21063}, 'ORG': {'precision': 0.8018206863508415, 'recall': 0.7888286589677115, 'f1': 0.7952716148385757, 'number': 16972}, 'PER': {'precision': 0.9009302971396834, 'recall': 0.8858625162127107, 'f1': 0.8933328744019551, 'number': 14649}, 'overall_precision': 0.8587096774193549, 'overall_recall': 0.8589704654164452, 'overall_f1': 0.8588400516207393, 'overall_accuracy': 0.9414067982653447}\n"
     ]
    },
    {
     "name": "stderr",
     "output_type": "stream",
     "text": [
      "***** Running Evaluation *****\n",
      "  Num examples = 20000\n",
      "  Batch size = 8\n"
     ]
    },
    {
     "name": "stdout",
     "output_type": "stream",
     "text": [
      "{'LOC': {'precision': 0.8745312282976063, 'recall': 0.8967858329772587, 'f1': 0.8855187286109417, 'number': 21063}, 'ORG': {'precision': 0.8018206863508415, 'recall': 0.7888286589677115, 'f1': 0.7952716148385757, 'number': 16972}, 'PER': {'precision': 0.9009302971396834, 'recall': 0.8858625162127107, 'f1': 0.8933328744019551, 'number': 14649}, 'overall_precision': 0.8587096774193549, 'overall_recall': 0.8589704654164452, 'overall_f1': 0.8588400516207393, 'overall_accuracy': 0.9414067982653447}\n"
     ]
    },
    {
     "name": "stderr",
     "output_type": "stream",
     "text": [
      "***** Running Evaluation *****\n",
      "  Num examples = 20000\n",
      "  Batch size = 8\n"
     ]
    },
    {
     "name": "stdout",
     "output_type": "stream",
     "text": [
      "{'LOC': {'precision': 0.8745312282976063, 'recall': 0.8967858329772587, 'f1': 0.8855187286109417, 'number': 21063}, 'ORG': {'precision': 0.8018206863508415, 'recall': 0.7888286589677115, 'f1': 0.7952716148385757, 'number': 16972}, 'PER': {'precision': 0.9009302971396834, 'recall': 0.8858625162127107, 'f1': 0.8933328744019551, 'number': 14649}, 'overall_precision': 0.8587096774193549, 'overall_recall': 0.8589704654164452, 'overall_f1': 0.8588400516207393, 'overall_accuracy': 0.9414067982653447}\n"
     ]
    },
    {
     "name": "stderr",
     "output_type": "stream",
     "text": [
      "***** Running Evaluation *****\n",
      "  Num examples = 20000\n",
      "  Batch size = 8\n"
     ]
    },
    {
     "name": "stdout",
     "output_type": "stream",
     "text": [
      "{'LOC': {'precision': 0.8745312282976063, 'recall': 0.8967858329772587, 'f1': 0.8855187286109417, 'number': 21063}, 'ORG': {'precision': 0.8018206863508415, 'recall': 0.7888286589677115, 'f1': 0.7952716148385757, 'number': 16972}, 'PER': {'precision': 0.9009302971396834, 'recall': 0.8858625162127107, 'f1': 0.8933328744019551, 'number': 14649}, 'overall_precision': 0.8587096774193549, 'overall_recall': 0.8589704654164452, 'overall_f1': 0.8588400516207393, 'overall_accuracy': 0.9414067982653447}\n"
     ]
    },
    {
     "name": "stderr",
     "output_type": "stream",
     "text": [
      "***** Running Evaluation *****\n",
      "  Num examples = 20000\n",
      "  Batch size = 8\n"
     ]
    },
    {
     "name": "stdout",
     "output_type": "stream",
     "text": [
      "{'LOC': {'precision': 0.8745312282976063, 'recall': 0.8967858329772587, 'f1': 0.8855187286109417, 'number': 21063}, 'ORG': {'precision': 0.8018206863508415, 'recall': 0.7888286589677115, 'f1': 0.7952716148385757, 'number': 16972}, 'PER': {'precision': 0.9009302971396834, 'recall': 0.8858625162127107, 'f1': 0.8933328744019551, 'number': 14649}, 'overall_precision': 0.8587096774193549, 'overall_recall': 0.8589704654164452, 'overall_f1': 0.8588400516207393, 'overall_accuracy': 0.9414067982653447}\n"
     ]
    },
    {
     "name": "stderr",
     "output_type": "stream",
     "text": [
      "***** Running Evaluation *****\n",
      "  Num examples = 20000\n",
      "  Batch size = 8\n"
     ]
    },
    {
     "name": "stdout",
     "output_type": "stream",
     "text": [
      "{'LOC': {'precision': 0.8745312282976063, 'recall': 0.8967858329772587, 'f1': 0.8855187286109417, 'number': 21063}, 'ORG': {'precision': 0.8018206863508415, 'recall': 0.7888286589677115, 'f1': 0.7952716148385757, 'number': 16972}, 'PER': {'precision': 0.9009302971396834, 'recall': 0.8858625162127107, 'f1': 0.8933328744019551, 'number': 14649}, 'overall_precision': 0.8587096774193549, 'overall_recall': 0.8589704654164452, 'overall_f1': 0.8588400516207393, 'overall_accuracy': 0.9414067982653447}\n"
     ]
    },
    {
     "name": "stderr",
     "output_type": "stream",
     "text": [
      "\n",
      "\n",
      "Training completed. Do not forget to share your model on huggingface.co/models =)\n",
      "\n",
      "\n"
     ]
    },
    {
     "data": {
      "text/plain": [
       "TrainOutput(global_step=50000, training_loss=0.1999744415283203, metrics={'train_runtime': 15170.5335, 'train_samples_per_second': 13.183, 'train_steps_per_second': 3.296, 'total_flos': 8985225592171752.0, 'train_loss': 0.1999744415283203, 'epoch': 5.0})"
      ]
     },
     "execution_count": 34,
     "metadata": {},
     "output_type": "execute_result"
    }
   ],
   "source": [
    "trainer.train()"
   ]
  },
  {
   "cell_type": "markdown",
   "id": "cad17b82",
   "metadata": {
    "papermill": {
     "duration": 0.028012,
     "end_time": "2022-09-05T19:38:44.116241",
     "exception": false,
     "start_time": "2022-09-05T19:38:44.088229",
     "status": "completed"
    },
    "tags": []
   },
   "source": [
    "**Saving the fine tuned model & tokenizer:**"
   ]
  },
  {
   "cell_type": "code",
   "execution_count": 35,
   "id": "efe247d2",
   "metadata": {
    "execution": {
     "iopub.execute_input": "2022-09-05T19:38:44.177318Z",
     "iopub.status.busy": "2022-09-05T19:38:44.176177Z",
     "iopub.status.idle": "2022-09-05T19:38:55.714955Z",
     "shell.execute_reply": "2022-09-05T19:38:55.713564Z"
    },
    "papermill": {
     "duration": 11.57328,
     "end_time": "2022-09-05T19:38:55.718104",
     "exception": false,
     "start_time": "2022-09-05T19:38:44.144824",
     "status": "completed"
    },
    "tags": []
   },
   "outputs": [
    {
     "name": "stderr",
     "output_type": "stream",
     "text": [
      "Saving model checkpoint to ./results/checkpoint-final/\n",
      "Configuration saved in ./results/checkpoint-final/config.json\n",
      "Model weights saved in ./results/checkpoint-final/pytorch_model.bin\n",
      "tokenizer config file saved in ./results/checkpoint-final/tokenizer_config.json\n",
      "Special tokens file saved in ./results/checkpoint-final/special_tokens_map.json\n"
     ]
    }
   ],
   "source": [
    "trainer.save_model(f'./results/checkpoint-final/')"
   ]
  },
  {
   "cell_type": "code",
   "execution_count": 36,
   "id": "44fc8858",
   "metadata": {
    "execution": {
     "iopub.execute_input": "2022-09-05T19:38:55.782019Z",
     "iopub.status.busy": "2022-09-05T19:38:55.781670Z",
     "iopub.status.idle": "2022-09-05T19:38:55.787704Z",
     "shell.execute_reply": "2022-09-05T19:38:55.786334Z"
    },
    "papermill": {
     "duration": 0.041651,
     "end_time": "2022-09-05T19:38:55.790725",
     "exception": false,
     "start_time": "2022-09-05T19:38:55.749074",
     "status": "completed"
    },
    "tags": []
   },
   "outputs": [],
   "source": [
    "#model_path = \"./results/final-pretrained/\"\n",
    "#model.save_pretrained(model_path)\n",
    "#tokenizer.save_pretrained(model_path)"
   ]
  },
  {
   "cell_type": "code",
   "execution_count": 37,
   "id": "bc40b774",
   "metadata": {
    "execution": {
     "iopub.execute_input": "2022-09-05T19:38:55.852510Z",
     "iopub.status.busy": "2022-09-05T19:38:55.852090Z",
     "iopub.status.idle": "2022-09-05T19:38:55.857248Z",
     "shell.execute_reply": "2022-09-05T19:38:55.855843Z"
    },
    "papermill": {
     "duration": 0.038968,
     "end_time": "2022-09-05T19:38:55.859877",
     "exception": false,
     "start_time": "2022-09-05T19:38:55.820909",
     "status": "completed"
    },
    "tags": []
   },
   "outputs": [],
   "source": [
    "#eval_results = trainer.evaluate()\n",
    "#print(f\"Eval Loss: {eval_results['eval_loss']}\")"
   ]
  },
  {
   "cell_type": "markdown",
   "id": "0ebcaa50",
   "metadata": {
    "papermill": {
     "duration": 0.030153,
     "end_time": "2022-09-05T19:38:55.920514",
     "exception": false,
     "start_time": "2022-09-05T19:38:55.890361",
     "status": "completed"
    },
    "tags": []
   },
   "source": [
    "**Calculate Accuracy:**"
   ]
  },
  {
   "cell_type": "code",
   "execution_count": 38,
   "id": "c9343bb4",
   "metadata": {
    "execution": {
     "iopub.execute_input": "2022-09-05T19:38:55.982608Z",
     "iopub.status.busy": "2022-09-05T19:38:55.982268Z",
     "iopub.status.idle": "2022-09-05T19:38:55.987628Z",
     "shell.execute_reply": "2022-09-05T19:38:55.986218Z"
    },
    "papermill": {
     "duration": 0.039699,
     "end_time": "2022-09-05T19:38:55.990369",
     "exception": false,
     "start_time": "2022-09-05T19:38:55.950670",
     "status": "completed"
    },
    "tags": []
   },
   "outputs": [],
   "source": [
    "from pprint import pprint"
   ]
  },
  {
   "cell_type": "code",
   "execution_count": 39,
   "id": "cd6686fc",
   "metadata": {
    "execution": {
     "iopub.execute_input": "2022-09-05T19:38:56.051071Z",
     "iopub.status.busy": "2022-09-05T19:38:56.050743Z",
     "iopub.status.idle": "2022-09-05T19:41:00.638323Z",
     "shell.execute_reply": "2022-09-05T19:41:00.636861Z"
    },
    "papermill": {
     "duration": 124.622022,
     "end_time": "2022-09-05T19:41:00.641878",
     "exception": false,
     "start_time": "2022-09-05T19:38:56.019856",
     "status": "completed"
    },
    "tags": []
   },
   "outputs": [
    {
     "name": "stderr",
     "output_type": "stream",
     "text": [
      "***** Running Prediction *****\n",
      "  Num examples = 20000\n",
      "  Batch size = 8\n"
     ]
    },
    {
     "data": {
      "text/html": [
       "\n",
       "    <div>\n",
       "      \n",
       "      <progress value='2500' max='2500' style='width:300px; height:20px; vertical-align: middle;'></progress>\n",
       "      [2500/2500 01:53]\n",
       "    </div>\n",
       "    "
      ],
      "text/plain": [
       "<IPython.core.display.HTML object>"
      ]
     },
     "metadata": {},
     "output_type": "display_data"
    },
    {
     "name": "stdout",
     "output_type": "stream",
     "text": [
      "{'LOC': {'precision': 0.8726371386212008, 'recall': 0.8914710336993563, 'f1': 0.8819535493538115, 'number': 21128}, 'ORG': {'precision': 0.7941449275362319, 'recall': 0.7903421219638839, 'f1': 0.7922389613393864, 'number': 17333}, 'PER': {'precision': 0.8996973323009784, 'recall': 0.884996191926885, 'f1': 0.8922862129144852, 'number': 14443}, 'overall_precision': 0.8543579495107558, 'overall_recall': 0.8565703916528051, 'overall_f1': 0.8554627401009959, 'overall_accuracy': 0.94009783035769}\n"
     ]
    }
   ],
   "source": [
    "predictions, labels, _ = trainer.predict(tokenized_dataset_valid)\n",
    "predictions = np.argmax(predictions, axis=-1)"
   ]
  },
  {
   "cell_type": "code",
   "execution_count": 40,
   "id": "88a2ba88",
   "metadata": {
    "execution": {
     "iopub.execute_input": "2022-09-05T19:41:00.751283Z",
     "iopub.status.busy": "2022-09-05T19:41:00.750921Z",
     "iopub.status.idle": "2022-09-05T19:41:12.343395Z",
     "shell.execute_reply": "2022-09-05T19:41:12.341903Z"
    },
    "papermill": {
     "duration": 11.64952,
     "end_time": "2022-09-05T19:41:12.346087",
     "exception": false,
     "start_time": "2022-09-05T19:41:00.696567",
     "status": "completed"
    },
    "tags": []
   },
   "outputs": [
    {
     "name": "stdout",
     "output_type": "stream",
     "text": [
      "{'LOC': {'f1': 0.8819535493538115,\n",
      "         'number': 21128,\n",
      "         'precision': 0.8726371386212008,\n",
      "         'recall': 0.8914710336993563},\n",
      " 'ORG': {'f1': 0.7922389613393864,\n",
      "         'number': 17333,\n",
      "         'precision': 0.7941449275362319,\n",
      "         'recall': 0.7903421219638839},\n",
      " 'PER': {'f1': 0.8922862129144852,\n",
      "         'number': 14443,\n",
      "         'precision': 0.8996973323009784,\n",
      "         'recall': 0.884996191926885},\n",
      " 'overall_accuracy': 0.94009783035769,\n",
      " 'overall_f1': 0.8554627401009959,\n",
      " 'overall_precision': 0.8543579495107558,\n",
      " 'overall_recall': 0.8565703916528051}\n"
     ]
    }
   ],
   "source": [
    "true_labels = [\n",
    "    [label_names[l] for l in label  if l != -100] \n",
    "    for label in labels\n",
    "]\n",
    "\n",
    "true_predictions = [\n",
    "    [label_names[p] for (p, l) in zip(prediction, label)  if l != -100]\n",
    "    for prediction, label in zip(predictions, labels)\n",
    "]\n",
    "\n",
    "results = metric.compute(predictions=true_predictions, references=true_labels)\n",
    "pprint(results)"
   ]
  },
  {
   "cell_type": "code",
   "execution_count": 41,
   "id": "eebb05c9",
   "metadata": {
    "execution": {
     "iopub.execute_input": "2022-09-05T19:41:12.410603Z",
     "iopub.status.busy": "2022-09-05T19:41:12.409765Z",
     "iopub.status.idle": "2022-09-05T19:41:12.426750Z",
     "shell.execute_reply": "2022-09-05T19:41:12.425318Z"
    },
    "papermill": {
     "duration": 0.05145,
     "end_time": "2022-09-05T19:41:12.429670",
     "exception": false,
     "start_time": "2022-09-05T19:41:12.378220",
     "status": "completed"
    },
    "tags": []
   },
   "outputs": [
    {
     "data": {
      "text/plain": [
       "[0.916527810267576,\n",
       " 0.9203282169398809,\n",
       " 0.9193565220520756,\n",
       " 0.9199863242941716,\n",
       " 0.9334604934050708,\n",
       " 0.932870278732478,\n",
       " 0.9355334424990553,\n",
       " 0.9368722221222536,\n",
       " 0.9386788548395804,\n",
       " 0.9407877926331132,\n",
       " 0.9414247926151188,\n",
       " 0.9414067982653447,\n",
       " 0.9414067982653447,\n",
       " 0.9414067982653447,\n",
       " 0.9414067982653447,\n",
       " 0.9414067982653447,\n",
       " 0.9414067982653447,\n",
       " 0.9414067982653447,\n",
       " 0.9414067982653447,\n",
       " 0.9414067982653447,\n",
       " 0.9414067982653447,\n",
       " 0.9414067982653447,\n",
       " 0.9414067982653447,\n",
       " 0.9414067982653447,\n",
       " 0.9414067982653447]"
      ]
     },
     "execution_count": 41,
     "metadata": {},
     "output_type": "execute_result"
    }
   ],
   "source": [
    "training_history = trainer.state.log_history\n",
    "\n",
    "# Training\n",
    "epochs = [epoch.get(\"epoch\") for epoch in  training_history if epoch.get(\"loss\") is not None]\n",
    "steps = [epoch.get(\"step\") for epoch in  training_history if epoch.get(\"loss\") is not None]\n",
    "loss = [epoch.get(\"loss\") for epoch in  training_history if epoch.get(\"loss\") is not None]\n",
    "\n",
    "# Eval\n",
    "eval_epochs = [epoch.get(\"epoch\") for epoch in  training_history if epoch.get(\"eval_loss\") is not None]\n",
    "eval_steps = [epoch.get(\"step\") for epoch in  training_history if epoch.get(\"eval_loss\") is not None]\n",
    "eval_loss = [epoch.get(\"eval_loss\") for epoch in  training_history if epoch.get(\"eval_loss\") is not None]\n",
    "eval_precision = [epoch.get(\"eval_precision\") for epoch in  training_history if epoch.get(\"eval_precision\") is not None]\n",
    "eval_recall = [epoch.get(\"eval_recall\") for epoch in  training_history if epoch.get(\"eval_recall\") is not None]\n",
    "eval_f1 = [epoch.get(\"eval_recall\") for epoch in  training_history if epoch.get(\"eval_f1\") is not None]\n",
    "eval_accuracy = [epoch.get(\"eval_accuracy\") for epoch in  training_history if epoch.get(\"eval_accuracy\") is not None]\n",
    "\n",
    "eval_accuracy"
   ]
  },
  {
   "cell_type": "code",
   "execution_count": 42,
   "id": "5f1d39c9",
   "metadata": {
    "execution": {
     "iopub.execute_input": "2022-09-05T19:41:12.493087Z",
     "iopub.status.busy": "2022-09-05T19:41:12.491967Z",
     "iopub.status.idle": "2022-09-05T19:41:12.579625Z",
     "shell.execute_reply": "2022-09-05T19:41:12.578287Z"
    },
    "papermill": {
     "duration": 0.122837,
     "end_time": "2022-09-05T19:41:12.582649",
     "exception": false,
     "start_time": "2022-09-05T19:41:12.459812",
     "status": "completed"
    },
    "tags": []
   },
   "outputs": [],
   "source": [
    "import seaborn as sns"
   ]
  },
  {
   "cell_type": "code",
   "execution_count": 43,
   "id": "864fb0a5",
   "metadata": {
    "execution": {
     "iopub.execute_input": "2022-09-05T19:41:12.646114Z",
     "iopub.status.busy": "2022-09-05T19:41:12.645002Z",
     "iopub.status.idle": "2022-09-05T19:41:12.979457Z",
     "shell.execute_reply": "2022-09-05T19:41:12.978179Z"
    },
    "papermill": {
     "duration": 0.369049,
     "end_time": "2022-09-05T19:41:12.982541",
     "exception": false,
     "start_time": "2022-09-05T19:41:12.613492",
     "status": "completed"
    },
    "tags": []
   },
   "outputs": [
    {
     "data": {
      "text/plain": [
       "Text(0, 0.5, 'Loss')"
      ]
     },
     "execution_count": 43,
     "metadata": {},
     "output_type": "execute_result"
    },
    {
     "data": {
      "image/png": "[encoded data removed]",
      "text/plain": [
       "<Figure size 432x288 with 1 Axes>"
      ]
     },
     "metadata": {
      "needs_background": "light"
     },
     "output_type": "display_data"
    }
   ],
   "source": [
    "p = sns.lineplot( x=steps, y=loss)\n",
    "p.set_xlabel(\"Training Steps\")\n",
    "p.set_ylabel(\"Loss\")"
   ]
  },
  {
   "cell_type": "code",
   "execution_count": 44,
   "id": "661b7dd2",
   "metadata": {
    "execution": {
     "iopub.execute_input": "2022-09-05T19:41:13.047699Z",
     "iopub.status.busy": "2022-09-05T19:41:13.046371Z",
     "iopub.status.idle": "2022-09-05T19:41:13.296578Z",
     "shell.execute_reply": "2022-09-05T19:41:13.295351Z"
    },
    "papermill": {
     "duration": 0.284852,
     "end_time": "2022-09-05T19:41:13.299082",
     "exception": false,
     "start_time": "2022-09-05T19:41:13.014230",
     "status": "completed"
    },
    "tags": []
   },
   "outputs": [
    {
     "data": {
      "text/plain": [
       "Text(0, 0.5, 'Loss')"
      ]
     },
     "execution_count": 44,
     "metadata": {},
     "output_type": "execute_result"
    },
    {
     "data": {
      "image/png": "[encoded data removed]",
      "text/plain": [
       "<Figure size 432x288 with 1 Axes>"
      ]
     },
     "metadata": {
      "needs_background": "light"
     },
     "output_type": "display_data"
    }
   ],
   "source": [
    "p = sns.lineplot(x=eval_steps, y=eval_loss)\n",
    "p.set_xlabel(\"Eval Steps\")\n",
    "p.set_ylabel(\"Loss\")"
   ]
  },
  {
   "cell_type": "code",
   "execution_count": 45,
   "id": "f262b9a1",
   "metadata": {
    "execution": {
     "iopub.execute_input": "2022-09-05T19:41:13.363302Z",
     "iopub.status.busy": "2022-09-05T19:41:13.362932Z",
     "iopub.status.idle": "2022-09-05T19:41:13.849537Z",
     "shell.execute_reply": "2022-09-05T19:41:13.848205Z"
    },
    "papermill": {
     "duration": 0.522072,
     "end_time": "2022-09-05T19:41:13.852741",
     "exception": false,
     "start_time": "2022-09-05T19:41:13.330669",
     "status": "completed"
    },
    "tags": []
   },
   "outputs": [
    {
     "data": {
      "text/plain": [
       "Text(0, 0.5, 'Loss')"
      ]
     },
     "execution_count": 45,
     "metadata": {},
     "output_type": "execute_result"
    },
    {
     "data": {
      "image/png": "[encoded data removed]",
      "text/plain": [
       "<Figure size 432x288 with 1 Axes>"
      ]
     },
     "metadata": {
      "needs_background": "light"
     },
     "output_type": "display_data"
    }
   ],
   "source": [
    "p = sns.lineplot(x=eval_steps, y=eval_accuracy)\n",
    "p.set_xlabel(\"Eval Steps\")\n",
    "p.set_ylabel(\"Loss\")"
   ]
  },
  {
   "cell_type": "markdown",
   "id": "34ca64ff",
   "metadata": {
    "papermill": {
     "duration": 0.03188,
     "end_time": "2022-09-05T19:41:13.917704",
     "exception": false,
     "start_time": "2022-09-05T19:41:13.885824",
     "status": "completed"
    },
    "tags": []
   },
   "source": [
    "## Use Fine-tuned Model:"
   ]
  },
  {
   "cell_type": "markdown",
   "id": "7d34dd48",
   "metadata": {
    "papermill": {
     "duration": 0.030951,
     "end_time": "2022-09-05T19:41:13.980336",
     "exception": false,
     "start_time": "2022-09-05T19:41:13.949385",
     "status": "completed"
    },
    "tags": []
   },
   "source": [
    "Load checkpoint:"
   ]
  },
  {
   "cell_type": "code",
   "execution_count": 7,
   "id": "98bb3a18",
   "metadata": {
    "papermill": {
     "duration": 13.893833,
     "end_time": "2022-09-05T19:41:27.904658",
     "exception": true,
     "start_time": "2022-09-05T19:41:14.010825",
     "status": "failed"
    },
    "tags": []
   },
   "outputs": [
    {
     "name": "stderr",
     "output_type": "stream",
     "text": [
      "You are using a model of type xlm-roberta to instantiate a model of type roberta. This is not supported for all configurations of models and can yield errors.\n"
     ]
    }
   ],
   "source": [
    "model_tuned = RobertaForTokenClassification.from_pretrained(\"./results/checkpoint-final/\")"
   ]
  },
  {
   "cell_type": "markdown",
   "id": "579b10e6",
   "metadata": {
    "papermill": {
     "duration": null,
     "end_time": null,
     "exception": null,
     "start_time": null,
     "status": "pending"
    },
    "tags": []
   },
   "source": [
    "Set correct class labels:"
   ]
  },
  {
   "cell_type": "code",
   "execution_count": 4,
   "id": "1179b6c2",
   "metadata": {
    "execution": {
     "iopub.status.busy": "2022-09-05T14:43:04.197864Z",
     "iopub.status.idle": "2022-09-05T14:43:04.198348Z",
     "shell.execute_reply": "2022-09-05T14:43:04.198118Z",
     "shell.execute_reply.started": "2022-09-05T14:43:04.198095Z"
    },
    "papermill": {
     "duration": null,
     "end_time": null,
     "exception": null,
     "start_time": null,
     "status": "pending"
    },
    "tags": []
   },
   "outputs": [
    {
     "ename": "NameError",
     "evalue": "name 'dataset_train' is not defined",
     "output_type": "error",
     "traceback": [
      "\u001b[0;31m---------------------------------------------------------------------------\u001b[0m",
      "\u001b[0;31mNameError\u001b[0m                                 Traceback (most recent call last)",
      "\u001b[1;32m/home/julian/Documents/Workspace_Python/roberta-ner-multilingual/finetune-roberta-token-classification-mutl.ipynb Cell 83\u001b[0m in \u001b[0;36m<cell line: 1>\u001b[0;34m()\u001b[0m\n\u001b[0;32m----> <a href='vscode-notebook-cell:/home/julian/Documents/Workspace_Python/roberta-ner-multilingual/finetune-roberta-token-classification-mutl.ipynb#Y145sZmlsZQ%3D%3D?line=0'>1</a>\u001b[0m label_names \u001b[39m=\u001b[39m dataset_train\u001b[39m.\u001b[39mfeatures[\u001b[39mf\u001b[39m\u001b[39m\"\u001b[39m\u001b[39mner_tags\u001b[39m\u001b[39m\"\u001b[39m]\u001b[39m.\u001b[39mfeature\u001b[39m.\u001b[39mnames\n\u001b[1;32m      <a href='vscode-notebook-cell:/home/julian/Documents/Workspace_Python/roberta-ner-multilingual/finetune-roberta-token-classification-mutl.ipynb#Y145sZmlsZQ%3D%3D?line=2'>3</a>\u001b[0m id2label \u001b[39m=\u001b[39m {\u001b[39mid\u001b[39m : label \u001b[39mfor\u001b[39;00m \u001b[39mid\u001b[39m, label \u001b[39min\u001b[39;00m \u001b[39menumerate\u001b[39m(label_names)}\n\u001b[1;32m      <a href='vscode-notebook-cell:/home/julian/Documents/Workspace_Python/roberta-ner-multilingual/finetune-roberta-token-classification-mutl.ipynb#Y145sZmlsZQ%3D%3D?line=3'>4</a>\u001b[0m label2id \u001b[39m=\u001b[39m {label: \u001b[39mid\u001b[39m \u001b[39mfor\u001b[39;00m \u001b[39mid\u001b[39m, label \u001b[39min\u001b[39;00m \u001b[39menumerate\u001b[39m(label_names)}\n",
      "\u001b[0;31mNameError\u001b[0m: name 'dataset_train' is not defined"
     ]
    }
   ],
   "source": [
    "label_names = dataset_train.features[f\"ner_tags\"].feature.names\n",
    "\n",
    "id2label = {id : label for id, label in enumerate(label_names)}\n",
    "label2id = {label: id for id, label in enumerate(label_names)}\n",
    "\n",
    "model_tuned.config.id2label = id2label\n",
    "model_tuned.config.label2id = label2id"
   ]
  },
  {
   "cell_type": "code",
   "execution_count": 5,
   "id": "3ec9ae32",
   "metadata": {
    "execution": {
     "iopub.status.busy": "2022-09-05T14:43:04.200066Z",
     "iopub.status.idle": "2022-09-05T14:43:04.200561Z",
     "shell.execute_reply": "2022-09-05T14:43:04.200322Z",
     "shell.execute_reply.started": "2022-09-05T14:43:04.200299Z"
    },
    "papermill": {
     "duration": null,
     "end_time": null,
     "exception": null,
     "start_time": null,
     "status": "pending"
    },
    "tags": []
   },
   "outputs": [
    {
     "data": {
      "text/plain": [
       "{0: 'O',\n",
       " 1: 'B-PER',\n",
       " 2: 'I-PER',\n",
       " 3: 'B-ORG',\n",
       " 4: 'I-ORG',\n",
       " 5: 'B-LOC',\n",
       " 6: 'I-LOC'}"
      ]
     },
     "execution_count": 5,
     "metadata": {},
     "output_type": "execute_result"
    }
   ],
   "source": [
    "model_tuned.config.id2label"
   ]
  },
  {
   "cell_type": "code",
   "execution_count": 7,
   "id": "f0d0da9c",
   "metadata": {
    "execution": {
     "iopub.status.busy": "2022-09-05T14:43:04.202526Z",
     "iopub.status.idle": "2022-09-05T14:43:04.202995Z",
     "shell.execute_reply": "2022-09-05T14:43:04.202772Z",
     "shell.execute_reply.started": "2022-09-05T14:43:04.202749Z"
    },
    "papermill": {
     "duration": null,
     "end_time": null,
     "exception": null,
     "start_time": null,
     "status": "pending"
    },
    "tags": []
   },
   "outputs": [
    {
     "data": {
      "text/plain": [
       "['O',\n",
       " 'B-PER',\n",
       " 'I-PER',\n",
       " 'I-PER',\n",
       " 'I-PER',\n",
       " 'I-PER',\n",
       " 'I-PER',\n",
       " 'O',\n",
       " 'O',\n",
       " 'O',\n",
       " 'O',\n",
       " 'O',\n",
       " 'B-LOC',\n",
       " 'I-LOC',\n",
       " 'O',\n",
       " 'O',\n",
       " 'O',\n",
       " 'O',\n",
       " 'O',\n",
       " 'O',\n",
       " 'O',\n",
       " 'O',\n",
       " 'O',\n",
       " 'O',\n",
       " 'O',\n",
       " 'O',\n",
       " 'O',\n",
       " 'O',\n",
       " 'O',\n",
       " 'O',\n",
       " 'O',\n",
       " 'O',\n",
       " 'O',\n",
       " 'O',\n",
       " 'O',\n",
       " 'O',\n",
       " 'O',\n",
       " 'O',\n",
       " 'O',\n",
       " 'O']"
      ]
     },
     "execution_count": 7,
     "metadata": {},
     "output_type": "execute_result"
    }
   ],
   "source": [
    "text = \"Für Richard Phillips Feynman war es immer wichtig in New York, die unanschaulichen Gesetzmäßigkeiten der Quantenphysik Laien und Studenten nahezubringen und verständlich zu machen.\"\n",
    "\n",
    "inputs = tokenizer(\n",
    "    text, \n",
    "    add_special_tokens=False, return_tensors=\"pt\"\n",
    ")\n",
    "\n",
    "with torch.no_grad():\n",
    "    logits = model_tuned(**inputs).logits\n",
    "\n",
    "predicted_token_class_ids = logits.argmax(-1)\n",
    "\n",
    "# Note that tokens are classified rather then input words which means that\n",
    "# there might be more predicted token classes than words.\n",
    "# Multiple token classes might account for the same word\n",
    "predicted_tokens_classes = [model_tuned.config.id2label[t.item()] for t in predicted_token_class_ids[0]]\n",
    "predicted_tokens_classes"
   ]
  },
  {
   "cell_type": "code",
   "execution_count": 8,
   "id": "d3bdad43",
   "metadata": {
    "execution": {
     "iopub.status.busy": "2022-09-05T14:43:04.204528Z",
     "iopub.status.idle": "2022-09-05T14:43:04.206044Z",
     "shell.execute_reply": "2022-09-05T14:43:04.205807Z",
     "shell.execute_reply.started": "2022-09-05T14:43:04.205779Z"
    },
    "papermill": {
     "duration": null,
     "end_time": null,
     "exception": null,
     "start_time": null,
     "status": "pending"
    },
    "tags": []
   },
   "outputs": [
    {
     "data": {
      "text/plain": [
       "['O',\n",
       " 'O',\n",
       " 'O',\n",
       " 'O',\n",
       " 'B-LOC',\n",
       " 'O',\n",
       " 'B-ORG',\n",
       " 'I-ORG',\n",
       " 'I-ORG',\n",
       " 'I-ORG',\n",
       " 'I-ORG',\n",
       " 'I-ORG',\n",
       " 'O',\n",
       " 'O',\n",
       " 'B-PER',\n",
       " 'I-PER',\n",
       " 'I-PER',\n",
       " 'O',\n",
       " 'B-PER',\n",
       " 'I-PER',\n",
       " 'I-PER',\n",
       " 'O',\n",
       " 'O',\n",
       " 'B-PER',\n",
       " 'I-PER',\n",
       " 'I-PER',\n",
       " 'I-PER',\n",
       " 'I-PER',\n",
       " 'O',\n",
       " 'B-ORG',\n",
       " 'I-ORG',\n",
       " 'I-ORG',\n",
       " 'I-ORG',\n",
       " 'I-ORG',\n",
       " 'I-ORG']"
      ]
     },
     "execution_count": 8,
     "metadata": {},
     "output_type": "execute_result"
    }
   ],
   "source": [
    "text = \"In December 1903 in France the Royal Swedish Academy of Sciences awarded Pierre Curie, Marie Curie, and Henri Becquerel the Nobel Prize in Physics\"\n",
    "\n",
    "inputs = tokenizer(\n",
    "    text, \n",
    "    add_special_tokens=False, return_tensors=\"pt\"\n",
    ")\n",
    "\n",
    "with torch.no_grad():\n",
    "    logits = model_tuned(**inputs).logits\n",
    "\n",
    "predicted_token_class_ids = logits.argmax(-1)\n",
    "\n",
    "# Note that tokens are classified rather then input words which means that\n",
    "# there might be more predicted token classes than words.\n",
    "# Multiple token classes might account for the same word\n",
    "predicted_tokens_classes = [model_tuned.config.id2label[t.item()] for t in predicted_token_class_ids[0]]\n",
    "predicted_tokens_classes"
   ]
  },
  {
   "cell_type": "markdown",
   "id": "2bf3dd7f",
   "metadata": {},
   "source": [
    "## Upload to Huggingface"
   ]
  },
  {
   "cell_type": "code",
   "execution_count": 2,
   "id": "70b9258e",
   "metadata": {},
   "outputs": [
    {
     "data": {
      "application/vnd.jupyter.widget-view+json": {
       "model_id": "47310982a4c748f0ba39c2b007e9b690",
       "version_major": 2,
       "version_minor": 0
      },
      "text/plain": [
       "VBox(children=(HTML(value='<center> <img\\nsrc=https://huggingface.co/front/assets/huggingface_logo-noborder.sv…"
      ]
     },
     "metadata": {},
     "output_type": "display_data"
    }
   ],
   "source": [
    "from huggingface_hub import notebook_login\n",
    "notebook_login()"
   ]
  },
  {
   "cell_type": "code",
   "execution_count": null,
   "id": "9824809c-d155-480b-819d-bc4065f4aeac",
   "metadata": {},
   "outputs": [
    {
     "name": "stderr",
     "output_type": "stream",
     "text": [
      "/home/julian/Documents/Workspace_Python/bloom-ner-multilingual/venv/lib/python3.10/site-packages/huggingface_hub/utils/_deprecation.py:38: FutureWarning: Deprecated positional argument(s) used in 'create_repo': pass token='roberta-ner-multilingual' as keyword args. From version 0.12 passing these as positional arguments will result in an error,\n",
      "  warnings.warn(\n",
      "/home/julian/Documents/Workspace_Python/bloom-ner-multilingual/venv/lib/python3.10/site-packages/huggingface_hub/hf_api.py:681: FutureWarning: `create_repo` now takes `token` as an optional positional argument. Be sure to adapt your code!\n",
      "  warnings.warn(\n",
      "Cloning https://huggingface.co/julian-schelb/roberta-ner-multilingual into local empty directory.\n"
     ]
    }
   ],
   "source": [
    "model_tuned.push_to_hub(\"roberta-ner-multilingual\", use_temp_dir=True )"
   ]
  },
  {
   "cell_type": "code",
   "execution_count": null,
   "id": "dc7afc80-a06c-4335-bd03-ba30b3130249",
   "metadata": {},
   "outputs": [],
   "source": []
  }
 ],
 "metadata": {
  "kernelspec": {
   "display_name": "Python 3 (ipykernel)",
   "language": "python",
   "name": "python3"
  },
  "language_info": {
   "codemirror_mode": {
    "name": "ipython",
    "version": 3
   },
   "file_extension": ".py",
   "mimetype": "text/x-python",
   "name": "python",
   "nbconvert_exporter": "python",
   "pygments_lexer": "ipython3",
   "version": "3.10.4"
  },
  "papermill": {
   "default_parameters": {},
   "duration": 16587.54063,
   "end_time": "2022-09-05T19:41:32.181494",
   "environment_variables": {},
   "exception": true,
   "input_path": "__notebook__.ipynb",
   "output_path": "__notebook__.ipynb",
   "parameters": {},
   "start_time": "2022-09-05T15:05:04.640864",
   "version": "2.3.4"
  },
  "vscode": {
   "interpreter": {
    "hash": "32e93707c1a2f9a2f1d05d982b458165e036cb795c927e54d273ad8fede7ab81"
   }
  },
  "widgets": {
   "application/vnd.jupyter.widget-state+json": {
    "state": {
     "004ad26ba20b43de8768e7b80753bab4": {
      "model_module": "@jupyter-widgets/base",
      "model_module_version": "1.2.0",
      "model_name": "LayoutModel",
      "state": {
       "_model_module": "@jupyter-widgets/base",
       "_model_module_version": "1.2.0",
       "_model_name": "LayoutModel",
       "_view_count": null,
       "_view_module": "@jupyter-widgets/base",
       "_view_module_version": "1.2.0",
       "_view_name": "LayoutView",
       "align_content": null,
       "align_items": null,
       "align_self": null,
       "border": null,
       "bottom": null,
       "display": null,
       "flex": null,
       "flex_flow": null,
       "grid_area": null,
       "grid_auto_columns": null,
       "grid_auto_flow": null,
       "grid_auto_rows": null,
       "grid_column": null,
       "grid_gap": null,
       "grid_row": null,
       "grid_template_areas": null,
       "grid_template_columns": null,
       "grid_template_rows": null,
       "height": null,
       "justify_content": null,
       "justify_items": null,
       "left": null,
       "margin": null,
       "max_height": null,
       "max_width": null,
       "min_height": null,
       "min_width": null,
       "object_fit": null,
       "object_position": null,
       "order": null,
       "overflow": null,
       "overflow_x": null,
       "overflow_y": null,
       "padding": null,
       "right": null,
       "top": null,
       "visibility": null,
       "width": null
      }
     },
     "016eceae765f40c1be2248a86462c6de": {
      "model_module": "@jupyter-widgets/controls",
      "model_module_version": "1.5.0",
      "model_name": "HBoxModel",
      "state": {
       "_dom_classes": [],
       "_model_module": "@jupyter-widgets/controls",
       "_model_module_version": "1.5.0",
       "_model_name": "HBoxModel",
       "_view_count": null,
       "_view_module": "@jupyter-widgets/controls",
       "_view_module_version": "1.5.0",
       "_view_name": "HBoxView",
       "box_style": "",
       "children": [
        "IPY_MODEL_e17623b5760d4bd1ab3e2ef18ea3c7f4",
        "IPY_MODEL_35f1d3e618b342be8d8aa729c74908b6",
        "IPY_MODEL_8fe78610e8a7475f8c71ad22f32640de"
       ],
       "layout": "IPY_MODEL_372b8b110a1b4b5ca5da53463c56a1d3"
      }
     },
     "01af3703e17a443c8cd383178fc6c162": {
      "model_module": "@jupyter-widgets/controls",
      "model_module_version": "1.5.0",
      "model_name": "DescriptionStyleModel",
      "state": {
       "_model_module": "@jupyter-widgets/controls",
       "_model_module_version": "1.5.0",
       "_model_name": "DescriptionStyleModel",
       "_view_count": null,
       "_view_module": "@jupyter-widgets/base",
       "_view_module_version": "1.2.0",
       "_view_name": "StyleView",
       "description_width": ""
      }
     },
     "01e15aaa706141f8ae5880dcfaa56979": {
      "model_module": "@jupyter-widgets/base",
      "model_module_version": "1.2.0",
      "model_name": "LayoutModel",
      "state": {
       "_model_module": "@jupyter-widgets/base",
       "_model_module_version": "1.2.0",
       "_model_name": "LayoutModel",
       "_view_count": null,
       "_view_module": "@jupyter-widgets/base",
       "_view_module_version": "1.2.0",
       "_view_name": "LayoutView",
       "align_content": null,
       "align_items": null,
       "align_self": null,
       "border": null,
       "bottom": null,
       "display": null,
       "flex": null,
       "flex_flow": null,
       "grid_area": null,
       "grid_auto_columns": null,
       "grid_auto_flow": null,
       "grid_auto_rows": null,
       "grid_column": null,
       "grid_gap": null,
       "grid_row": null,
       "grid_template_areas": null,
       "grid_template_columns": null,
       "grid_template_rows": null,
       "height": null,
       "justify_content": null,
       "justify_items": null,
       "left": null,
       "margin": null,
       "max_height": null,
       "max_width": null,
       "min_height": null,
       "min_width": null,
       "object_fit": null,
       "object_position": null,
       "order": null,
       "overflow": null,
       "overflow_x": null,
       "overflow_y": null,
       "padding": null,
       "right": null,
       "top": null,
       "visibility": null,
       "width": null
      }
     },
     "036323ce9d304f7799a239050c35029f": {
      "model_module": "@jupyter-widgets/controls",
      "model_module_version": "1.5.0",
      "model_name": "ProgressStyleModel",
      "state": {
       "_model_module": "@jupyter-widgets/controls",
       "_model_module_version": "1.5.0",
       "_model_name": "ProgressStyleModel",
       "_view_count": null,
       "_view_module": "@jupyter-widgets/base",
       "_view_module_version": "1.2.0",
       "_view_name": "StyleView",
       "bar_color": null,
       "description_width": ""
      }
     },
     "03d8079acd4e4fe38e54226b039101fe": {
      "model_module": "@jupyter-widgets/controls",
      "model_module_version": "1.5.0",
      "model_name": "HTMLModel",
      "state": {
       "_dom_classes": [],
       "_model_module": "@jupyter-widgets/controls",
       "_model_module_version": "1.5.0",
       "_model_name": "HTMLModel",
       "_view_count": null,
       "_view_module": "@jupyter-widgets/controls",
       "_view_module_version": "1.5.0",
       "_view_name": "HTMLView",
       "description": "",
       "description_tooltip": null,
       "layout": "IPY_MODEL_bf92cdd2d7fd42d99b4566119f3291cf",
       "placeholder": "​",
       "style": "IPY_MODEL_1f41f6638c1e43609efdd1ed204aedc6",
       "value": "Generating test split:  99%"
      }
     },
     "056d2d29c3f643e296bd3f4833408125": {
      "model_module": "@jupyter-widgets/base",
      "model_module_version": "1.2.0",
      "model_name": "LayoutModel",
      "state": {
       "_model_module": "@jupyter-widgets/base",
       "_model_module_version": "1.2.0",
       "_model_name": "LayoutModel",
       "_view_count": null,
       "_view_module": "@jupyter-widgets/base",
       "_view_module_version": "1.2.0",
       "_view_name": "LayoutView",
       "align_content": null,
       "align_items": null,
       "align_self": null,
       "border": null,
       "bottom": null,
       "display": null,
       "flex": null,
       "flex_flow": null,
       "grid_area": null,
       "grid_auto_columns": null,
       "grid_auto_flow": null,
       "grid_auto_rows": null,
       "grid_column": null,
       "grid_gap": null,
       "grid_row": null,
       "grid_template_areas": null,
       "grid_template_columns": null,
       "grid_template_rows": null,
       "height": null,
       "justify_content": null,
       "justify_items": null,
       "left": null,
       "margin": null,
       "max_height": null,
       "max_width": null,
       "min_height": null,
       "min_width": null,
       "object_fit": null,
       "object_position": null,
       "order": null,
       "overflow": null,
       "overflow_x": null,
       "overflow_y": null,
       "padding": null,
       "right": null,
       "top": null,
       "visibility": null,
       "width": null
      }
     },
     "058f19bc67d149a3b7b5338a2a4553ef": {
      "model_module": "@jupyter-widgets/controls",
      "model_module_version": "1.5.0",
      "model_name": "DescriptionStyleModel",
      "state": {
       "_model_module": "@jupyter-widgets/controls",
       "_model_module_version": "1.5.0",
       "_model_name": "DescriptionStyleModel",
       "_view_count": null,
       "_view_module": "@jupyter-widgets/base",
       "_view_module_version": "1.2.0",
       "_view_name": "StyleView",
       "description_width": ""
      }
     },
     "0628b8514d2b49608de7d8cdd980c217": {
      "model_module": "@jupyter-widgets/controls",
      "model_module_version": "1.5.0",
      "model_name": "ProgressStyleModel",
      "state": {
       "_model_module": "@jupyter-widgets/controls",
       "_model_module_version": "1.5.0",
       "_model_name": "ProgressStyleModel",
       "_view_count": null,
       "_view_module": "@jupyter-widgets/base",
       "_view_module_version": "1.2.0",
       "_view_name": "StyleView",
       "bar_color": null,
       "description_width": ""
      }
     },
     "0809f72358b94f85ad5f7a845700836f": {
      "model_module": "@jupyter-widgets/base",
      "model_module_version": "1.2.0",
      "model_name": "LayoutModel",
      "state": {
       "_model_module": "@jupyter-widgets/base",
       "_model_module_version": "1.2.0",
       "_model_name": "LayoutModel",
       "_view_count": null,
       "_view_module": "@jupyter-widgets/base",
       "_view_module_version": "1.2.0",
       "_view_name": "LayoutView",
       "align_content": null,
       "align_items": null,
       "align_self": null,
       "border": null,
       "bottom": null,
       "display": null,
       "flex": null,
       "flex_flow": null,
       "grid_area": null,
       "grid_auto_columns": null,
       "grid_auto_flow": null,
       "grid_auto_rows": null,
       "grid_column": null,
       "grid_gap": null,
       "grid_row": null,
       "grid_template_areas": null,
       "grid_template_columns": null,
       "grid_template_rows": null,
       "height": null,
       "justify_content": null,
       "justify_items": null,
       "left": null,
       "margin": null,
       "max_height": null,
       "max_width": null,
       "min_height": null,
       "min_width": null,
       "object_fit": null,
       "object_position": null,
       "order": null,
       "overflow": null,
       "overflow_x": null,
       "overflow_y": null,
       "padding": null,
       "right": null,
       "top": null,
       "visibility": null,
       "width": null
      }
     },
     "09301e7c47304424a39270667f594d44": {
      "model_module": "@jupyter-widgets/controls",
      "model_module_version": "1.5.0",
      "model_name": "DescriptionStyleModel",
      "state": {
       "_model_module": "@jupyter-widgets/controls",
       "_model_module_version": "1.5.0",
       "_model_name": "DescriptionStyleModel",
       "_view_count": null,
       "_view_module": "@jupyter-widgets/base",
       "_view_module_version": "1.2.0",
       "_view_name": "StyleView",
       "description_width": ""
      }
     },
     "0a683972e1a04c879cd379b80e8692c2": {
      "model_module": "@jupyter-widgets/controls",
      "model_module_version": "1.5.0",
      "model_name": "HBoxModel",
      "state": {
       "_dom_classes": [],
       "_model_module": "@jupyter-widgets/controls",
       "_model_module_version": "1.5.0",
       "_model_name": "HBoxModel",
       "_view_count": null,
       "_view_module": "@jupyter-widgets/controls",
       "_view_module_version": "1.5.0",
       "_view_name": "HBoxView",
       "box_style": "",
       "children": [
        "IPY_MODEL_5a681621b349447f8477a7ac81de799c",
        "IPY_MODEL_9eff72032e1440589c7536edbae56912",
        "IPY_MODEL_bb0b3891cdd44c208ea82b2aed0bfaf3"
       ],
       "layout": "IPY_MODEL_ae6d0eee4ffd46139ac96493bf91b894"
      }
     },
     "0bad412d98d04def9b5d17956cd95906": {
      "model_module": "@jupyter-widgets/base",
      "model_module_version": "1.2.0",
      "model_name": "LayoutModel",
      "state": {
       "_model_module": "@jupyter-widgets/base",
       "_model_module_version": "1.2.0",
       "_model_name": "LayoutModel",
       "_view_count": null,
       "_view_module": "@jupyter-widgets/base",
       "_view_module_version": "1.2.0",
       "_view_name": "LayoutView",
       "align_content": null,
       "align_items": null,
       "align_self": null,
       "border": null,
       "bottom": null,
       "display": null,
       "flex": null,
       "flex_flow": null,
       "grid_area": null,
       "grid_auto_columns": null,
       "grid_auto_flow": null,
       "grid_auto_rows": null,
       "grid_column": null,
       "grid_gap": null,
       "grid_row": null,
       "grid_template_areas": null,
       "grid_template_columns": null,
       "grid_template_rows": null,
       "height": null,
       "justify_content": null,
       "justify_items": null,
       "left": null,
       "margin": null,
       "max_height": null,
       "max_width": null,
       "min_height": null,
       "min_width": null,
       "object_fit": null,
       "object_position": null,
       "order": null,
       "overflow": null,
       "overflow_x": null,
       "overflow_y": null,
       "padding": null,
       "right": null,
       "top": null,
       "visibility": null,
       "width": null
      }
     },
     "100ae87cff9b4bb9a08abc27ed3b477e": {
      "model_module": "@jupyter-widgets/controls",
      "model_module_version": "1.5.0",
      "model_name": "FloatProgressModel",
      "state": {
       "_dom_classes": [],
       "_model_module": "@jupyter-widgets/controls",
       "_model_module_version": "1.5.0",
       "_model_name": "FloatProgressModel",
       "_view_count": null,
       "_view_module": "@jupyter-widgets/controls",
       "_view_module_version": "1.5.0",
       "_view_name": "ProgressView",
       "bar_style": "success",
       "description": "",
       "description_tooltip": null,
       "layout": "IPY_MODEL_9d06716c4bcf4fd896fac4019e00c12b",
       "max": 3937,
       "min": 0,
       "orientation": "horizontal",
       "style": "IPY_MODEL_64e87df960fe4d2284f972ba2c988f5e",
       "value": 3937
      }
     },
     "119e60999fcc47bcb9dc68f949966084": {
      "model_module": "@jupyter-widgets/controls",
      "model_module_version": "1.5.0",
      "model_name": "HTMLModel",
      "state": {
       "_dom_classes": [],
       "_model_module": "@jupyter-widgets/controls",
       "_model_module_version": "1.5.0",
       "_model_name": "HTMLModel",
       "_view_count": null,
       "_view_module": "@jupyter-widgets/controls",
       "_view_module_version": "1.5.0",
       "_view_name": "HTMLView",
       "description": "",
       "description_tooltip": null,
       "layout": "IPY_MODEL_9d4cf98b988047a1b2a7e1d222c7a607",
       "placeholder": "​",
       "style": "IPY_MODEL_3531b13072eb4b94bd6a68db99fd706e",
       "value": " 9943/10000 [00:02&lt;00:00, 4733.06 examples/s]"
      }
     },
     "1873ca6d46eb4c1fabe058b62e5ec74b": {
      "model_module": "@jupyter-widgets/controls",
      "model_module_version": "1.5.0",
      "model_name": "DescriptionStyleModel",
      "state": {
       "_model_module": "@jupyter-widgets/controls",
       "_model_module_version": "1.5.0",
       "_model_name": "DescriptionStyleModel",
       "_view_count": null,
       "_view_module": "@jupyter-widgets/base",
       "_view_module_version": "1.2.0",
       "_view_name": "StyleView",
       "description_width": ""
      }
     },
     "189a8454113b4490b31825aad81755d5": {
      "model_module": "@jupyter-widgets/base",
      "model_module_version": "1.2.0",
      "model_name": "LayoutModel",
      "state": {
       "_model_module": "@jupyter-widgets/base",
       "_model_module_version": "1.2.0",
       "_model_name": "LayoutModel",
       "_view_count": null,
       "_view_module": "@jupyter-widgets/base",
       "_view_module_version": "1.2.0",
       "_view_name": "LayoutView",
       "align_content": null,
       "align_items": null,
       "align_self": null,
       "border": null,
       "bottom": null,
       "display": null,
       "flex": null,
       "flex_flow": null,
       "grid_area": null,
       "grid_auto_columns": null,
       "grid_auto_flow": null,
       "grid_auto_rows": null,
       "grid_column": null,
       "grid_gap": null,
       "grid_row": null,
       "grid_template_areas": null,
       "grid_template_columns": null,
       "grid_template_rows": null,
       "height": null,
       "justify_content": null,
       "justify_items": null,
       "left": null,
       "margin": null,
       "max_height": null,
       "max_width": null,
       "min_height": null,
       "min_width": null,
       "object_fit": null,
       "object_position": null,
       "order": null,
       "overflow": null,
       "overflow_x": null,
       "overflow_y": null,
       "padding": null,
       "right": null,
       "top": null,
       "visibility": null,
       "width": null
      }
     },
     "1c533932431b4b32bc9131c1b6fd908d": {
      "model_module": "@jupyter-widgets/controls",
      "model_module_version": "1.5.0",
      "model_name": "HTMLModel",
      "state": {
       "_dom_classes": [],
       "_model_module": "@jupyter-widgets/controls",
       "_model_module_version": "1.5.0",
       "_model_name": "HTMLModel",
       "_view_count": null,
       "_view_module": "@jupyter-widgets/controls",
       "_view_module_version": "1.5.0",
       "_view_name": "HTMLView",
       "description": "",
       "description_tooltip": null,
       "layout": "IPY_MODEL_619130d631454f9c9a6b592c086cf94b",
       "placeholder": "​",
       "style": "IPY_MODEL_372e8a3f353a436ca7425aad27ca28d1",
       "value": " 2.09G/2.09G [03:12&lt;00:00, 10.4MB/s]"
      }
     },
     "1ecac002c707420da7cdab511c1c0790": {
      "model_module": "@jupyter-widgets/controls",
      "model_module_version": "1.5.0",
      "model_name": "FloatProgressModel",
      "state": {
       "_dom_classes": [],
       "_model_module": "@jupyter-widgets/controls",
       "_model_module_version": "1.5.0",
       "_model_name": "FloatProgressModel",
       "_view_count": null,
       "_view_module": "@jupyter-widgets/controls",
       "_view_module_version": "1.5.0",
       "_view_name": "ProgressView",
       "bar_style": "",
       "description": "",
       "description_tooltip": null,
       "layout": "IPY_MODEL_a019904a6ea14dee9732c10eb092df6c",
       "max": 20000,
       "min": 0,
       "orientation": "horizontal",
       "style": "IPY_MODEL_84660b984a82493995b7007ad298659a",
       "value": 20000
      }
     },
     "1ecf2b7f2f824d9299ba1e28405b12bc": {
      "model_module": "@jupyter-widgets/controls",
      "model_module_version": "1.5.0",
      "model_name": "HBoxModel",
      "state": {
       "_dom_classes": [],
       "_model_module": "@jupyter-widgets/controls",
       "_model_module_version": "1.5.0",
       "_model_name": "HBoxModel",
       "_view_count": null,
       "_view_module": "@jupyter-widgets/controls",
       "_view_module_version": "1.5.0",
       "_view_name": "HBoxView",
       "box_style": "",
       "children": [
        "IPY_MODEL_e2346c7b9ad94a548686af4ccf4e0744",
        "IPY_MODEL_875bb42b80594e5986e201fb49ca5ed0",
        "IPY_MODEL_b4112920cb8a4ddfa11e63ef9816f67f"
       ],
       "layout": "IPY_MODEL_e232774827404ad2a118c7fb2fdb2491"
      }
     },
     "1f238b6ac2c249f890b26fa0c6ffedb8": {
      "model_module": "@jupyter-widgets/controls",
      "model_module_version": "1.5.0",
      "model_name": "ProgressStyleModel",
      "state": {
       "_model_module": "@jupyter-widgets/controls",
       "_model_module_version": "1.5.0",
       "_model_name": "ProgressStyleModel",
       "_view_count": null,
       "_view_module": "@jupyter-widgets/base",
       "_view_module_version": "1.2.0",
       "_view_name": "StyleView",
       "bar_color": null,
       "description_width": ""
      }
     },
     "1f41f6638c1e43609efdd1ed204aedc6": {
      "model_module": "@jupyter-widgets/controls",
      "model_module_version": "1.5.0",
      "model_name": "DescriptionStyleModel",
      "state": {
       "_model_module": "@jupyter-widgets/controls",
       "_model_module_version": "1.5.0",
       "_model_name": "DescriptionStyleModel",
       "_view_count": null,
       "_view_module": "@jupyter-widgets/base",
       "_view_module_version": "1.2.0",
       "_view_name": "StyleView",
       "description_width": ""
      }
     },
     "203b473eebd24d2fb5ba1e1d74bb2dc2": {
      "model_module": "@jupyter-widgets/controls",
      "model_module_version": "1.5.0",
      "model_name": "DescriptionStyleModel",
      "state": {
       "_model_module": "@jupyter-widgets/controls",
       "_model_module_version": "1.5.0",
       "_model_name": "DescriptionStyleModel",
       "_view_count": null,
       "_view_module": "@jupyter-widgets/base",
       "_view_module_version": "1.2.0",
       "_view_name": "StyleView",
       "description_width": ""
      }
     },
     "21afe78bbc56403ebd1bd288d2d14631": {
      "model_module": "@jupyter-widgets/controls",
      "model_module_version": "1.5.0",
      "model_name": "HTMLModel",
      "state": {
       "_dom_classes": [],
       "_model_module": "@jupyter-widgets/controls",
       "_model_module_version": "1.5.0",
       "_model_name": "HTMLModel",
       "_view_count": null,
       "_view_module": "@jupyter-widgets/controls",
       "_view_module_version": "1.5.0",
       "_view_name": "HTMLView",
       "description": "",
       "description_tooltip": null,
       "layout": "IPY_MODEL_25d43341538f4102acb14ed4c9572d7a",
       "placeholder": "​",
       "style": "IPY_MODEL_d1c9b84dd8fa4d9ab277b64cc9e63d14",
       "value": " 9686/10000 [00:02&lt;00:00, 4393.02 examples/s]"
      }
     },
     "226a78c5948649ac9f7bd2511596ac84": {
      "model_module": "@jupyter-widgets/controls",
      "model_module_version": "1.5.0",
      "model_name": "DescriptionStyleModel",
      "state": {
       "_model_module": "@jupyter-widgets/controls",
       "_model_module_version": "1.5.0",
       "_model_name": "DescriptionStyleModel",
       "_view_count": null,
       "_view_module": "@jupyter-widgets/base",
       "_view_module_version": "1.2.0",
       "_view_name": "StyleView",
       "description_width": ""
      }
     },
     "227ed8e140c742fa9999d0b3322127a0": {
      "model_module": "@jupyter-widgets/controls",
      "model_module_version": "1.5.0",
      "model_name": "DescriptionStyleModel",
      "state": {
       "_model_module": "@jupyter-widgets/controls",
       "_model_module_version": "1.5.0",
       "_model_name": "DescriptionStyleModel",
       "_view_count": null,
       "_view_module": "@jupyter-widgets/base",
       "_view_module_version": "1.2.0",
       "_view_name": "StyleView",
       "description_width": ""
      }
     },
     "2458b3f9e4a9404e988535f0e61aab10": {
      "model_module": "@jupyter-widgets/controls",
      "model_module_version": "1.5.0",
      "model_name": "HBoxModel",
      "state": {
       "_dom_classes": [],
       "_model_module": "@jupyter-widgets/controls",
       "_model_module_version": "1.5.0",
       "_model_name": "HBoxModel",
       "_view_count": null,
       "_view_module": "@jupyter-widgets/controls",
       "_view_module_version": "1.5.0",
       "_view_name": "HBoxView",
       "box_style": "",
       "children": [
        "IPY_MODEL_6a0c44484ee94bbeadd6718ac46994cf",
        "IPY_MODEL_dce6879463ab46f890f6928448e1fe75",
        "IPY_MODEL_51b05dc14f354f4dac2dbcb56689442b"
       ],
       "layout": "IPY_MODEL_8b36107139224a7f9f2413d1de4d109e"
      }
     },
     "245d7da1dee94982b5de4ccbb88d0df3": {
      "model_module": "@jupyter-widgets/controls",
      "model_module_version": "1.5.0",
      "model_name": "FloatProgressModel",
      "state": {
       "_dom_classes": [],
       "_model_module": "@jupyter-widgets/controls",
       "_model_module_version": "1.5.0",
       "_model_name": "FloatProgressModel",
       "_view_count": null,
       "_view_module": "@jupyter-widgets/controls",
       "_view_module_version": "1.5.0",
       "_view_name": "ProgressView",
       "bar_style": "",
       "description": "",
       "description_tooltip": null,
       "layout": "IPY_MODEL_4c73bdf1692145e6b87c519a522f4d05",
       "max": 10000,
       "min": 0,
       "orientation": "horizontal",
       "style": "IPY_MODEL_769d6fdca0b04e91980e55cb5e649c98",
       "value": 10000
      }
     },
     "24fe4602eb56453bb40ce799bb201626": {
      "model_module": "@jupyter-widgets/base",
      "model_module_version": "1.2.0",
      "model_name": "LayoutModel",
      "state": {
       "_model_module": "@jupyter-widgets/base",
       "_model_module_version": "1.2.0",
       "_model_name": "LayoutModel",
       "_view_count": null,
       "_view_module": "@jupyter-widgets/base",
       "_view_module_version": "1.2.0",
       "_view_name": "LayoutView",
       "align_content": null,
       "align_items": null,
       "align_self": null,
       "border": null,
       "bottom": null,
       "display": null,
       "flex": null,
       "flex_flow": null,
       "grid_area": null,
       "grid_auto_columns": null,
       "grid_auto_flow": null,
       "grid_auto_rows": null,
       "grid_column": null,
       "grid_gap": null,
       "grid_row": null,
       "grid_template_areas": null,
       "grid_template_columns": null,
       "grid_template_rows": null,
       "height": null,
       "justify_content": null,
       "justify_items": null,
       "left": null,
       "margin": null,
       "max_height": null,
       "max_width": null,
       "min_height": null,
       "min_width": null,
       "object_fit": null,
       "object_position": null,
       "order": null,
       "overflow": null,
       "overflow_x": null,
       "overflow_y": null,
       "padding": null,
       "right": null,
       "top": null,
       "visibility": null,
       "width": null
      }
     },
     "25d43341538f4102acb14ed4c9572d7a": {
      "model_module": "@jupyter-widgets/base",
      "model_module_version": "1.2.0",
      "model_name": "LayoutModel",
      "state": {
       "_model_module": "@jupyter-widgets/base",
       "_model_module_version": "1.2.0",
       "_model_name": "LayoutModel",
       "_view_count": null,
       "_view_module": "@jupyter-widgets/base",
       "_view_module_version": "1.2.0",
       "_view_name": "LayoutView",
       "align_content": null,
       "align_items": null,
       "align_self": null,
       "border": null,
       "bottom": null,
       "display": null,
       "flex": null,
       "flex_flow": null,
       "grid_area": null,
       "grid_auto_columns": null,
       "grid_auto_flow": null,
       "grid_auto_rows": null,
       "grid_column": null,
       "grid_gap": null,
       "grid_row": null,
       "grid_template_areas": null,
       "grid_template_columns": null,
       "grid_template_rows": null,
       "height": null,
       "justify_content": null,
       "justify_items": null,
       "left": null,
       "margin": null,
       "max_height": null,
       "max_width": null,
       "min_height": null,
       "min_width": null,
       "object_fit": null,
       "object_position": null,
       "order": null,
       "overflow": null,
       "overflow_x": null,
       "overflow_y": null,
       "padding": null,
       "right": null,
       "top": null,
       "visibility": null,
       "width": null
      }
     },
     "29b6e98735b04bb88e5ed3f9654ff136": {
      "model_module": "@jupyter-widgets/controls",
      "model_module_version": "1.5.0",
      "model_name": "HTMLModel",
      "state": {
       "_dom_classes": [],
       "_model_module": "@jupyter-widgets/controls",
       "_model_module_version": "1.5.0",
       "_model_name": "HTMLModel",
       "_view_count": null,
       "_view_module": "@jupyter-widgets/controls",
       "_view_module_version": "1.5.0",
       "_view_name": "HTMLView",
       "description": "",
       "description_tooltip": null,
       "layout": "IPY_MODEL_ba33a64f14154d3282263477c19ff0cb",
       "placeholder": "​",
       "style": "IPY_MODEL_65a59f96246a4ce1aa17de6923c5afc9",
       "value": " 9964/10000 [00:02&lt;00:00, 4219.68 examples/s]"
      }
     },
     "2aafd317c44f449d9dd5f94a24e4b0a9": {
      "model_module": "@jupyter-widgets/base",
      "model_module_version": "1.2.0",
      "model_name": "LayoutModel",
      "state": {
       "_model_module": "@jupyter-widgets/base",
       "_model_module_version": "1.2.0",
       "_model_name": "LayoutModel",
       "_view_count": null,
       "_view_module": "@jupyter-widgets/base",
       "_view_module_version": "1.2.0",
       "_view_name": "LayoutView",
       "align_content": null,
       "align_items": null,
       "align_self": null,
       "border": null,
       "bottom": null,
       "display": null,
       "flex": null,
       "flex_flow": null,
       "grid_area": null,
       "grid_auto_columns": null,
       "grid_auto_flow": null,
       "grid_auto_rows": null,
       "grid_column": null,
       "grid_gap": null,
       "grid_row": null,
       "grid_template_areas": null,
       "grid_template_columns": null,
       "grid_template_rows": null,
       "height": null,
       "justify_content": null,
       "justify_items": null,
       "left": null,
       "margin": null,
       "max_height": null,
       "max_width": null,
       "min_height": null,
       "min_width": null,
       "object_fit": null,
       "object_position": null,
       "order": null,
       "overflow": null,
       "overflow_x": null,
       "overflow_y": null,
       "padding": null,
       "right": null,
       "top": null,
       "visibility": null,
       "width": null
      }
     },
     "2cc15b3dddcf4d9caec115ad15a09493": {
      "model_module": "@jupyter-widgets/controls",
      "model_module_version": "1.5.0",
      "model_name": "DescriptionStyleModel",
      "state": {
       "_model_module": "@jupyter-widgets/controls",
       "_model_module_version": "1.5.0",
       "_model_name": "DescriptionStyleModel",
       "_view_count": null,
       "_view_module": "@jupyter-widgets/base",
       "_view_module_version": "1.2.0",
       "_view_name": "StyleView",
       "description_width": ""
      }
     },
     "31b203b918694a58b67e61febc301b15": {
      "model_module": "@jupyter-widgets/base",
      "model_module_version": "1.2.0",
      "model_name": "LayoutModel",
      "state": {
       "_model_module": "@jupyter-widgets/base",
       "_model_module_version": "1.2.0",
       "_model_name": "LayoutModel",
       "_view_count": null,
       "_view_module": "@jupyter-widgets/base",
       "_view_module_version": "1.2.0",
       "_view_name": "LayoutView",
       "align_content": null,
       "align_items": null,
       "align_self": null,
       "border": null,
       "bottom": null,
       "display": null,
       "flex": null,
       "flex_flow": null,
       "grid_area": null,
       "grid_auto_columns": null,
       "grid_auto_flow": null,
       "grid_auto_rows": null,
       "grid_column": null,
       "grid_gap": null,
       "grid_row": null,
       "grid_template_areas": null,
       "grid_template_columns": null,
       "grid_template_rows": null,
       "height": null,
       "justify_content": null,
       "justify_items": null,
       "left": null,
       "margin": null,
       "max_height": null,
       "max_width": null,
       "min_height": null,
       "min_width": null,
       "object_fit": null,
       "object_position": null,
       "order": null,
       "overflow": null,
       "overflow_x": null,
       "overflow_y": null,
       "padding": null,
       "right": null,
       "top": null,
       "visibility": null,
       "width": null
      }
     },
     "323078410bda4e51b8522ba91e73e07b": {
      "model_module": "@jupyter-widgets/base",
      "model_module_version": "1.2.0",
      "model_name": "LayoutModel",
      "state": {
       "_model_module": "@jupyter-widgets/base",
       "_model_module_version": "1.2.0",
       "_model_name": "LayoutModel",
       "_view_count": null,
       "_view_module": "@jupyter-widgets/base",
       "_view_module_version": "1.2.0",
       "_view_name": "LayoutView",
       "align_content": null,
       "align_items": null,
       "align_self": null,
       "border": null,
       "bottom": null,
       "display": null,
       "flex": null,
       "flex_flow": null,
       "grid_area": null,
       "grid_auto_columns": null,
       "grid_auto_flow": null,
       "grid_auto_rows": null,
       "grid_column": null,
       "grid_gap": null,
       "grid_row": null,
       "grid_template_areas": null,
       "grid_template_columns": null,
       "grid_template_rows": null,
       "height": null,
       "justify_content": null,
       "justify_items": null,
       "left": null,
       "margin": null,
       "max_height": null,
       "max_width": null,
       "min_height": null,
       "min_width": null,
       "object_fit": null,
       "object_position": null,
       "order": null,
       "overflow": null,
       "overflow_x": null,
       "overflow_y": null,
       "padding": null,
       "right": null,
       "top": null,
       "visibility": null,
       "width": null
      }
     },
     "34ac026d301a4c64992740571a8b30dc": {
      "model_module": "@jupyter-widgets/controls",
      "model_module_version": "1.5.0",
      "model_name": "HBoxModel",
      "state": {
       "_dom_classes": [],
       "_model_module": "@jupyter-widgets/controls",
       "_model_module_version": "1.5.0",
       "_model_name": "HBoxModel",
       "_view_count": null,
       "_view_module": "@jupyter-widgets/controls",
       "_view_module_version": "1.5.0",
       "_view_name": "HBoxView",
       "box_style": "",
       "children": [
        "IPY_MODEL_45c8830ac74e44cca198abda7c173e16",
        "IPY_MODEL_525df2b0166046099542a5dc9b1b31c3",
        "IPY_MODEL_29b6e98735b04bb88e5ed3f9654ff136"
       ],
       "layout": "IPY_MODEL_f81261d9f7ac45688979e3847662e6b2"
      }
     },
     "34b2e890b2e54f94aa5a8fbc6dc93200": {
      "model_module": "@jupyter-widgets/base",
      "model_module_version": "1.2.0",
      "model_name": "LayoutModel",
      "state": {
       "_model_module": "@jupyter-widgets/base",
       "_model_module_version": "1.2.0",
       "_model_name": "LayoutModel",
       "_view_count": null,
       "_view_module": "@jupyter-widgets/base",
       "_view_module_version": "1.2.0",
       "_view_name": "LayoutView",
       "align_content": null,
       "align_items": null,
       "align_self": null,
       "border": null,
       "bottom": null,
       "display": null,
       "flex": null,
       "flex_flow": null,
       "grid_area": null,
       "grid_auto_columns": null,
       "grid_auto_flow": null,
       "grid_auto_rows": null,
       "grid_column": null,
       "grid_gap": null,
       "grid_row": null,
       "grid_template_areas": null,
       "grid_template_columns": null,
       "grid_template_rows": null,
       "height": null,
       "justify_content": null,
       "justify_items": null,
       "left": null,
       "margin": null,
       "max_height": null,
       "max_width": null,
       "min_height": null,
       "min_width": null,
       "object_fit": null,
       "object_position": null,
       "order": null,
       "overflow": null,
       "overflow_x": null,
       "overflow_y": null,
       "padding": null,
       "right": null,
       "top": null,
       "visibility": null,
       "width": null
      }
     },
     "34d36b580a5e4ae7ae51facb421d546d": {
      "model_module": "@jupyter-widgets/base",
      "model_module_version": "1.2.0",
      "model_name": "LayoutModel",
      "state": {
       "_model_module": "@jupyter-widgets/base",
       "_model_module_version": "1.2.0",
       "_model_name": "LayoutModel",
       "_view_count": null,
       "_view_module": "@jupyter-widgets/base",
       "_view_module_version": "1.2.0",
       "_view_name": "LayoutView",
       "align_content": null,
       "align_items": null,
       "align_self": null,
       "border": null,
       "bottom": null,
       "display": null,
       "flex": null,
       "flex_flow": null,
       "grid_area": null,
       "grid_auto_columns": null,
       "grid_auto_flow": null,
       "grid_auto_rows": null,
       "grid_column": null,
       "grid_gap": null,
       "grid_row": null,
       "grid_template_areas": null,
       "grid_template_columns": null,
       "grid_template_rows": null,
       "height": null,
       "justify_content": null,
       "justify_items": null,
       "left": null,
       "margin": null,
       "max_height": null,
       "max_width": null,
       "min_height": null,
       "min_width": null,
       "object_fit": null,
       "object_position": null,
       "order": null,
       "overflow": null,
       "overflow_x": null,
       "overflow_y": null,
       "padding": null,
       "right": null,
       "top": null,
       "visibility": null,
       "width": null
      }
     },
     "351005def0ba48acb3780462a67643f8": {
      "model_module": "@jupyter-widgets/controls",
      "model_module_version": "1.5.0",
      "model_name": "HBoxModel",
      "state": {
       "_dom_classes": [],
       "_model_module": "@jupyter-widgets/controls",
       "_model_module_version": "1.5.0",
       "_model_name": "HBoxModel",
       "_view_count": null,
       "_view_module": "@jupyter-widgets/controls",
       "_view_module_version": "1.5.0",
       "_view_name": "HBoxView",
       "box_style": "",
       "children": [
        "IPY_MODEL_eb83dcdddf814d9b84bb597c83c6c898",
        "IPY_MODEL_1ecac002c707420da7cdab511c1c0790",
        "IPY_MODEL_65c27626ef45489998dfd52f134225d3"
       ],
       "layout": "IPY_MODEL_52be3e7d541e40d69ea64edcc6812527"
      }
     },
     "3531b13072eb4b94bd6a68db99fd706e": {
      "model_module": "@jupyter-widgets/controls",
      "model_module_version": "1.5.0",
      "model_name": "DescriptionStyleModel",
      "state": {
       "_model_module": "@jupyter-widgets/controls",
       "_model_module_version": "1.5.0",
       "_model_name": "DescriptionStyleModel",
       "_view_count": null,
       "_view_module": "@jupyter-widgets/base",
       "_view_module_version": "1.2.0",
       "_view_name": "StyleView",
       "description_width": ""
      }
     },
     "35f1d3e618b342be8d8aa729c74908b6": {
      "model_module": "@jupyter-widgets/controls",
      "model_module_version": "1.5.0",
      "model_name": "FloatProgressModel",
      "state": {
       "_dom_classes": [],
       "_model_module": "@jupyter-widgets/controls",
       "_model_module_version": "1.5.0",
       "_model_name": "FloatProgressModel",
       "_view_count": null,
       "_view_module": "@jupyter-widgets/controls",
       "_view_module_version": "1.5.0",
       "_view_name": "ProgressView",
       "bar_style": "success",
       "description": "",
       "description_tooltip": null,
       "layout": "IPY_MODEL_d764fc3503964a37b03fa715e7727c96",
       "max": 9096718,
       "min": 0,
       "orientation": "horizontal",
       "style": "IPY_MODEL_7ef59438f9144f40b05c3de68409368c",
       "value": 9096718
      }
     },
     "372b8b110a1b4b5ca5da53463c56a1d3": {
      "model_module": "@jupyter-widgets/base",
      "model_module_version": "1.2.0",
      "model_name": "LayoutModel",
      "state": {
       "_model_module": "@jupyter-widgets/base",
       "_model_module_version": "1.2.0",
       "_model_name": "LayoutModel",
       "_view_count": null,
       "_view_module": "@jupyter-widgets/base",
       "_view_module_version": "1.2.0",
       "_view_name": "LayoutView",
       "align_content": null,
       "align_items": null,
       "align_self": null,
       "border": null,
       "bottom": null,
       "display": null,
       "flex": null,
       "flex_flow": null,
       "grid_area": null,
       "grid_auto_columns": null,
       "grid_auto_flow": null,
       "grid_auto_rows": null,
       "grid_column": null,
       "grid_gap": null,
       "grid_row": null,
       "grid_template_areas": null,
       "grid_template_columns": null,
       "grid_template_rows": null,
       "height": null,
       "justify_content": null,
       "justify_items": null,
       "left": null,
       "margin": null,
       "max_height": null,
       "max_width": null,
       "min_height": null,
       "min_width": null,
       "object_fit": null,
       "object_position": null,
       "order": null,
       "overflow": null,
       "overflow_x": null,
       "overflow_y": null,
       "padding": null,
       "right": null,
       "top": null,
       "visibility": null,
       "width": null
      }
     },
     "372e8a3f353a436ca7425aad27ca28d1": {
      "model_module": "@jupyter-widgets/controls",
      "model_module_version": "1.5.0",
      "model_name": "DescriptionStyleModel",
      "state": {
       "_model_module": "@jupyter-widgets/controls",
       "_model_module_version": "1.5.0",
       "_model_name": "DescriptionStyleModel",
       "_view_count": null,
       "_view_module": "@jupyter-widgets/base",
       "_view_module_version": "1.2.0",
       "_view_name": "StyleView",
       "description_width": ""
      }
     },
     "38319da17f3b4d438a369dbe0223dbc5": {
      "model_module": "@jupyter-widgets/base",
      "model_module_version": "1.2.0",
      "model_name": "LayoutModel",
      "state": {
       "_model_module": "@jupyter-widgets/base",
       "_model_module_version": "1.2.0",
       "_model_name": "LayoutModel",
       "_view_count": null,
       "_view_module": "@jupyter-widgets/base",
       "_view_module_version": "1.2.0",
       "_view_name": "LayoutView",
       "align_content": null,
       "align_items": null,
       "align_self": null,
       "border": null,
       "bottom": null,
       "display": null,
       "flex": null,
       "flex_flow": null,
       "grid_area": null,
       "grid_auto_columns": null,
       "grid_auto_flow": null,
       "grid_auto_rows": null,
       "grid_column": null,
       "grid_gap": null,
       "grid_row": null,
       "grid_template_areas": null,
       "grid_template_columns": null,
       "grid_template_rows": null,
       "height": null,
       "justify_content": null,
       "justify_items": null,
       "left": null,
       "margin": null,
       "max_height": null,
       "max_width": null,
       "min_height": null,
       "min_width": null,
       "object_fit": null,
       "object_position": null,
       "order": null,
       "overflow": null,
       "overflow_x": null,
       "overflow_y": null,
       "padding": null,
       "right": null,
       "top": null,
       "visibility": null,
       "width": null
      }
     },
     "3df578d87bf24e52a23f60d2ff518ec8": {
      "model_module": "@jupyter-widgets/controls",
      "model_module_version": "1.5.0",
      "model_name": "DescriptionStyleModel",
      "state": {
       "_model_module": "@jupyter-widgets/controls",
       "_model_module_version": "1.5.0",
       "_model_name": "DescriptionStyleModel",
       "_view_count": null,
       "_view_module": "@jupyter-widgets/base",
       "_view_module_version": "1.2.0",
       "_view_name": "StyleView",
       "description_width": ""
      }
     },
     "41fbe4fd6415499faa16a35558454e44": {
      "model_module": "@jupyter-widgets/controls",
      "model_module_version": "1.5.0",
      "model_name": "HBoxModel",
      "state": {
       "_dom_classes": [],
       "_model_module": "@jupyter-widgets/controls",
       "_model_module_version": "1.5.0",
       "_model_name": "HBoxModel",
       "_view_count": null,
       "_view_module": "@jupyter-widgets/controls",
       "_view_module_version": "1.5.0",
       "_view_name": "HBoxView",
       "box_style": "",
       "children": [
        "IPY_MODEL_f95526e59e964a1fb3e551df48dcc6e3",
        "IPY_MODEL_ab983edbbb0d4233b0a22ccf81a869c1",
        "IPY_MODEL_e95327eb9bbe4b1593a954e711be32d1"
       ],
       "layout": "IPY_MODEL_900a4f04fb4b4f6b910841643b77873f"
      }
     },
     "45c8830ac74e44cca198abda7c173e16": {
      "model_module": "@jupyter-widgets/controls",
      "model_module_version": "1.5.0",
      "model_name": "HTMLModel",
      "state": {
       "_dom_classes": [],
       "_model_module": "@jupyter-widgets/controls",
       "_model_module_version": "1.5.0",
       "_model_name": "HTMLModel",
       "_view_count": null,
       "_view_module": "@jupyter-widgets/controls",
       "_view_module_version": "1.5.0",
       "_view_name": "HTMLView",
       "description": "",
       "description_tooltip": null,
       "layout": "IPY_MODEL_f78c807ba119488898570a0e75b34386",
       "placeholder": "​",
       "style": "IPY_MODEL_8d8a7f2f90d443da9abe457d73b1307b",
       "value": "Generating validation split: 100%"
      }
     },
     "46ae200a4a64458a87244d38e8daad21": {
      "model_module": "@jupyter-widgets/controls",
      "model_module_version": "1.5.0",
      "model_name": "ProgressStyleModel",
      "state": {
       "_model_module": "@jupyter-widgets/controls",
       "_model_module_version": "1.5.0",
       "_model_name": "ProgressStyleModel",
       "_view_count": null,
       "_view_module": "@jupyter-widgets/base",
       "_view_module_version": "1.2.0",
       "_view_name": "StyleView",
       "bar_color": null,
       "description_width": ""
      }
     },
     "47034783fdb345988554a1e18c381f4e": {
      "model_module": "@jupyter-widgets/base",
      "model_module_version": "1.2.0",
      "model_name": "LayoutModel",
      "state": {
       "_model_module": "@jupyter-widgets/base",
       "_model_module_version": "1.2.0",
       "_model_name": "LayoutModel",
       "_view_count": null,
       "_view_module": "@jupyter-widgets/base",
       "_view_module_version": "1.2.0",
       "_view_name": "LayoutView",
       "align_content": null,
       "align_items": null,
       "align_self": null,
       "border": null,
       "bottom": null,
       "display": null,
       "flex": null,
       "flex_flow": null,
       "grid_area": null,
       "grid_auto_columns": null,
       "grid_auto_flow": null,
       "grid_auto_rows": null,
       "grid_column": null,
       "grid_gap": null,
       "grid_row": null,
       "grid_template_areas": null,
       "grid_template_columns": null,
       "grid_template_rows": null,
       "height": null,
       "justify_content": null,
       "justify_items": null,
       "left": null,
       "margin": null,
       "max_height": null,
       "max_width": null,
       "min_height": null,
       "min_width": null,
       "object_fit": null,
       "object_position": null,
       "order": null,
       "overflow": null,
       "overflow_x": null,
       "overflow_y": null,
       "padding": null,
       "right": null,
       "top": null,
       "visibility": null,
       "width": null
      }
     },
     "47983a8a99d24761aecd580bd7e26bdb": {
      "model_module": "@jupyter-widgets/base",
      "model_module_version": "1.2.0",
      "model_name": "LayoutModel",
      "state": {
       "_model_module": "@jupyter-widgets/base",
       "_model_module_version": "1.2.0",
       "_model_name": "LayoutModel",
       "_view_count": null,
       "_view_module": "@jupyter-widgets/base",
       "_view_module_version": "1.2.0",
       "_view_name": "LayoutView",
       "align_content": null,
       "align_items": null,
       "align_self": null,
       "border": null,
       "bottom": null,
       "display": null,
       "flex": null,
       "flex_flow": null,
       "grid_area": null,
       "grid_auto_columns": null,
       "grid_auto_flow": null,
       "grid_auto_rows": null,
       "grid_column": null,
       "grid_gap": null,
       "grid_row": null,
       "grid_template_areas": null,
       "grid_template_columns": null,
       "grid_template_rows": null,
       "height": null,
       "justify_content": null,
       "justify_items": null,
       "left": null,
       "margin": null,
       "max_height": null,
       "max_width": null,
       "min_height": null,
       "min_width": null,
       "object_fit": null,
       "object_position": null,
       "order": null,
       "overflow": null,
       "overflow_x": null,
       "overflow_y": null,
       "padding": null,
       "right": null,
       "top": null,
       "visibility": null,
       "width": null
      }
     },
     "479df3fbb8574d5a9f4fa3bdf28da60c": {
      "model_module": "@jupyter-widgets/controls",
      "model_module_version": "1.5.0",
      "model_name": "HBoxModel",
      "state": {
       "_dom_classes": [],
       "_model_module": "@jupyter-widgets/controls",
       "_model_module_version": "1.5.0",
       "_model_name": "HBoxModel",
       "_view_count": null,
       "_view_module": "@jupyter-widgets/controls",
       "_view_module_version": "1.5.0",
       "_view_name": "HBoxView",
       "box_style": "",
       "children": [
        "IPY_MODEL_b591a78e937044b79304fc396a5d5a51",
        "IPY_MODEL_fc8aef249a4b4cb4ad958b4664ec47eb",
        "IPY_MODEL_1c533932431b4b32bc9131c1b6fd908d"
       ],
       "layout": "IPY_MODEL_fa757a8f671a4f7191ab04891922952f"
      }
     },
     "48d4a0679b5b4e99b49fa488a06b6eb8": {
      "model_module": "@jupyter-widgets/base",
      "model_module_version": "1.2.0",
      "model_name": "LayoutModel",
      "state": {
       "_model_module": "@jupyter-widgets/base",
       "_model_module_version": "1.2.0",
       "_model_name": "LayoutModel",
       "_view_count": null,
       "_view_module": "@jupyter-widgets/base",
       "_view_module_version": "1.2.0",
       "_view_name": "LayoutView",
       "align_content": null,
       "align_items": null,
       "align_self": null,
       "border": null,
       "bottom": null,
       "display": null,
       "flex": null,
       "flex_flow": null,
       "grid_area": null,
       "grid_auto_columns": null,
       "grid_auto_flow": null,
       "grid_auto_rows": null,
       "grid_column": null,
       "grid_gap": null,
       "grid_row": null,
       "grid_template_areas": null,
       "grid_template_columns": null,
       "grid_template_rows": null,
       "height": null,
       "justify_content": null,
       "justify_items": null,
       "left": null,
       "margin": null,
       "max_height": null,
       "max_width": null,
       "min_height": null,
       "min_width": null,
       "object_fit": null,
       "object_position": null,
       "order": null,
       "overflow": null,
       "overflow_x": null,
       "overflow_y": null,
       "padding": null,
       "right": null,
       "top": null,
       "visibility": null,
       "width": null
      }
     },
     "4a5d28797ef640e4b947d9a50f05daa2": {
      "model_module": "@jupyter-widgets/base",
      "model_module_version": "1.2.0",
      "model_name": "LayoutModel",
      "state": {
       "_model_module": "@jupyter-widgets/base",
       "_model_module_version": "1.2.0",
       "_model_name": "LayoutModel",
       "_view_count": null,
       "_view_module": "@jupyter-widgets/base",
       "_view_module_version": "1.2.0",
       "_view_name": "LayoutView",
       "align_content": null,
       "align_items": null,
       "align_self": null,
       "border": null,
       "bottom": null,
       "display": null,
       "flex": null,
       "flex_flow": null,
       "grid_area": null,
       "grid_auto_columns": null,
       "grid_auto_flow": null,
       "grid_auto_rows": null,
       "grid_column": null,
       "grid_gap": null,
       "grid_row": null,
       "grid_template_areas": null,
       "grid_template_columns": null,
       "grid_template_rows": null,
       "height": null,
       "justify_content": null,
       "justify_items": null,
       "left": null,
       "margin": null,
       "max_height": null,
       "max_width": null,
       "min_height": null,
       "min_width": null,
       "object_fit": null,
       "object_position": null,
       "order": null,
       "overflow": null,
       "overflow_x": null,
       "overflow_y": null,
       "padding": null,
       "right": null,
       "top": null,
       "visibility": null,
       "width": null
      }
     },
     "4c73bdf1692145e6b87c519a522f4d05": {
      "model_module": "@jupyter-widgets/base",
      "model_module_version": "1.2.0",
      "model_name": "LayoutModel",
      "state": {
       "_model_module": "@jupyter-widgets/base",
       "_model_module_version": "1.2.0",
       "_model_name": "LayoutModel",
       "_view_count": null,
       "_view_module": "@jupyter-widgets/base",
       "_view_module_version": "1.2.0",
       "_view_name": "LayoutView",
       "align_content": null,
       "align_items": null,
       "align_self": null,
       "border": null,
       "bottom": null,
       "display": null,
       "flex": null,
       "flex_flow": null,
       "grid_area": null,
       "grid_auto_columns": null,
       "grid_auto_flow": null,
       "grid_auto_rows": null,
       "grid_column": null,
       "grid_gap": null,
       "grid_row": null,
       "grid_template_areas": null,
       "grid_template_columns": null,
       "grid_template_rows": null,
       "height": null,
       "justify_content": null,
       "justify_items": null,
       "left": null,
       "margin": null,
       "max_height": null,
       "max_width": null,
       "min_height": null,
       "min_width": null,
       "object_fit": null,
       "object_position": null,
       "order": null,
       "overflow": null,
       "overflow_x": null,
       "overflow_y": null,
       "padding": null,
       "right": null,
       "top": null,
       "visibility": null,
       "width": null
      }
     },
     "4dd08d8334a94554a0bda59e379efc87": {
      "model_module": "@jupyter-widgets/base",
      "model_module_version": "1.2.0",
      "model_name": "LayoutModel",
      "state": {
       "_model_module": "@jupyter-widgets/base",
       "_model_module_version": "1.2.0",
       "_model_name": "LayoutModel",
       "_view_count": null,
       "_view_module": "@jupyter-widgets/base",
       "_view_module_version": "1.2.0",
       "_view_name": "LayoutView",
       "align_content": null,
       "align_items": null,
       "align_self": null,
       "border": null,
       "bottom": null,
       "display": null,
       "flex": null,
       "flex_flow": null,
       "grid_area": null,
       "grid_auto_columns": null,
       "grid_auto_flow": null,
       "grid_auto_rows": null,
       "grid_column": null,
       "grid_gap": null,
       "grid_row": null,
       "grid_template_areas": null,
       "grid_template_columns": null,
       "grid_template_rows": null,
       "height": null,
       "justify_content": null,
       "justify_items": null,
       "left": null,
       "margin": null,
       "max_height": null,
       "max_width": null,
       "min_height": null,
       "min_width": null,
       "object_fit": null,
       "object_position": null,
       "order": null,
       "overflow": null,
       "overflow_x": null,
       "overflow_y": null,
       "padding": null,
       "right": null,
       "top": null,
       "visibility": null,
       "width": null
      }
     },
     "51b05dc14f354f4dac2dbcb56689442b": {
      "model_module": "@jupyter-widgets/controls",
      "model_module_version": "1.5.0",
      "model_name": "HTMLModel",
      "state": {
       "_dom_classes": [],
       "_model_module": "@jupyter-widgets/controls",
       "_model_module_version": "1.5.0",
       "_model_name": "HTMLModel",
       "_view_count": null,
       "_view_module": "@jupyter-widgets/controls",
       "_view_module_version": "1.5.0",
       "_view_name": "HTMLView",
       "description": "",
       "description_tooltip": null,
       "layout": "IPY_MODEL_a379623ed87348aca97333f28b014755",
       "placeholder": "​",
       "style": "IPY_MODEL_7479fa878af341198ceec2e694b5a975",
       "value": " 616/616 [00:00&lt;00:00, 19.3kB/s]"
      }
     },
     "525df2b0166046099542a5dc9b1b31c3": {
      "model_module": "@jupyter-widgets/controls",
      "model_module_version": "1.5.0",
      "model_name": "FloatProgressModel",
      "state": {
       "_dom_classes": [],
       "_model_module": "@jupyter-widgets/controls",
       "_model_module_version": "1.5.0",
       "_model_name": "FloatProgressModel",
       "_view_count": null,
       "_view_module": "@jupyter-widgets/controls",
       "_view_module_version": "1.5.0",
       "_view_name": "ProgressView",
       "bar_style": "",
       "description": "",
       "description_tooltip": null,
       "layout": "IPY_MODEL_a506d108cc8b4eba8f1a29f764e5e020",
       "max": 10000,
       "min": 0,
       "orientation": "horizontal",
       "style": "IPY_MODEL_edcc4fae09c24e43a6e6c936d53df71c",
       "value": 10000
      }
     },
     "52be3e7d541e40d69ea64edcc6812527": {
      "model_module": "@jupyter-widgets/base",
      "model_module_version": "1.2.0",
      "model_name": "LayoutModel",
      "state": {
       "_model_module": "@jupyter-widgets/base",
       "_model_module_version": "1.2.0",
       "_model_name": "LayoutModel",
       "_view_count": null,
       "_view_module": "@jupyter-widgets/base",
       "_view_module_version": "1.2.0",
       "_view_name": "LayoutView",
       "align_content": null,
       "align_items": null,
       "align_self": null,
       "border": null,
       "bottom": null,
       "display": null,
       "flex": null,
       "flex_flow": null,
       "grid_area": null,
       "grid_auto_columns": null,
       "grid_auto_flow": null,
       "grid_auto_rows": null,
       "grid_column": null,
       "grid_gap": null,
       "grid_row": null,
       "grid_template_areas": null,
       "grid_template_columns": null,
       "grid_template_rows": null,
       "height": null,
       "justify_content": null,
       "justify_items": null,
       "left": null,
       "margin": null,
       "max_height": null,
       "max_width": null,
       "min_height": null,
       "min_width": null,
       "object_fit": null,
       "object_position": null,
       "order": null,
       "overflow": null,
       "overflow_x": null,
       "overflow_y": null,
       "padding": null,
       "right": null,
       "top": null,
       "visibility": null,
       "width": null
      }
     },
     "52e4e81aa13e4bc68e0432440706c382": {
      "model_module": "@jupyter-widgets/controls",
      "model_module_version": "1.5.0",
      "model_name": "HTMLModel",
      "state": {
       "_dom_classes": [],
       "_model_module": "@jupyter-widgets/controls",
       "_model_module_version": "1.5.0",
       "_model_name": "HTMLModel",
       "_view_count": null,
       "_view_module": "@jupyter-widgets/controls",
       "_view_module_version": "1.5.0",
       "_view_name": "HTMLView",
       "description": "",
       "description_tooltip": null,
       "layout": "IPY_MODEL_d3fcfd367da84d3892d4c96e487dba03",
       "placeholder": "​",
       "style": "IPY_MODEL_65471986123f4ea882d4e1fd9da7a538",
       "value": " 19877/20000 [00:05&lt;00:00, 5322.72 examples/s]"
      }
     },
     "5357183eac1844989726af7b3e33141d": {
      "model_module": "@jupyter-widgets/controls",
      "model_module_version": "1.5.0",
      "model_name": "DescriptionStyleModel",
      "state": {
       "_model_module": "@jupyter-widgets/controls",
       "_model_module_version": "1.5.0",
       "_model_name": "DescriptionStyleModel",
       "_view_count": null,
       "_view_module": "@jupyter-widgets/base",
       "_view_module_version": "1.2.0",
       "_view_name": "StyleView",
       "description_width": ""
      }
     },
     "53b82f77de08488f89fce898eb0f4797": {
      "model_module": "@jupyter-widgets/controls",
      "model_module_version": "1.5.0",
      "model_name": "FloatProgressModel",
      "state": {
       "_dom_classes": [],
       "_model_module": "@jupyter-widgets/controls",
       "_model_module_version": "1.5.0",
       "_model_name": "FloatProgressModel",
       "_view_count": null,
       "_view_module": "@jupyter-widgets/controls",
       "_view_module_version": "1.5.0",
       "_view_name": "ProgressView",
       "bar_style": "",
       "description": "",
       "description_tooltip": null,
       "layout": "IPY_MODEL_0bad412d98d04def9b5d17956cd95906",
       "max": 10000,
       "min": 0,
       "orientation": "horizontal",
       "style": "IPY_MODEL_563ea49996c142e49a1b768660e0dd4b",
       "value": 10000
      }
     },
     "563ea49996c142e49a1b768660e0dd4b": {
      "model_module": "@jupyter-widgets/controls",
      "model_module_version": "1.5.0",
      "model_name": "ProgressStyleModel",
      "state": {
       "_model_module": "@jupyter-widgets/controls",
       "_model_module_version": "1.5.0",
       "_model_name": "ProgressStyleModel",
       "_view_count": null,
       "_view_module": "@jupyter-widgets/base",
       "_view_module_version": "1.2.0",
       "_view_name": "StyleView",
       "bar_color": null,
       "description_width": ""
      }
     },
     "580d5cf082214196863fba3500020050": {
      "model_module": "@jupyter-widgets/controls",
      "model_module_version": "1.5.0",
      "model_name": "HBoxModel",
      "state": {
       "_dom_classes": [],
       "_model_module": "@jupyter-widgets/controls",
       "_model_module_version": "1.5.0",
       "_model_name": "HBoxModel",
       "_view_count": null,
       "_view_module": "@jupyter-widgets/controls",
       "_view_module_version": "1.5.0",
       "_view_name": "HBoxView",
       "box_style": "",
       "children": [
        "IPY_MODEL_03d8079acd4e4fe38e54226b039101fe",
        "IPY_MODEL_53b82f77de08488f89fce898eb0f4797",
        "IPY_MODEL_119e60999fcc47bcb9dc68f949966084"
       ],
       "layout": "IPY_MODEL_a97b0b34eb8c4581991ee068b4174462"
      }
     },
     "5a681621b349447f8477a7ac81de799c": {
      "model_module": "@jupyter-widgets/controls",
      "model_module_version": "1.5.0",
      "model_name": "HTMLModel",
      "state": {
       "_dom_classes": [],
       "_model_module": "@jupyter-widgets/controls",
       "_model_module_version": "1.5.0",
       "_model_name": "HTMLModel",
       "_view_count": null,
       "_view_module": "@jupyter-widgets/controls",
       "_view_module_version": "1.5.0",
       "_view_name": "HTMLView",
       "description": "",
       "description_tooltip": null,
       "layout": "IPY_MODEL_7e5d1b8d7ef14432ab5aaf786eb04964",
       "placeholder": "​",
       "style": "IPY_MODEL_227ed8e140c742fa9999d0b3322127a0",
       "value": "Downloading metadata: "
      }
     },
     "5dd9b0729f534e32bf6fa08692d6b789": {
      "model_module": "@jupyter-widgets/base",
      "model_module_version": "1.2.0",
      "model_name": "LayoutModel",
      "state": {
       "_model_module": "@jupyter-widgets/base",
       "_model_module_version": "1.2.0",
       "_model_name": "LayoutModel",
       "_view_count": null,
       "_view_module": "@jupyter-widgets/base",
       "_view_module_version": "1.2.0",
       "_view_name": "LayoutView",
       "align_content": null,
       "align_items": null,
       "align_self": null,
       "border": null,
       "bottom": null,
       "display": null,
       "flex": null,
       "flex_flow": null,
       "grid_area": null,
       "grid_auto_columns": null,
       "grid_auto_flow": null,
       "grid_auto_rows": null,
       "grid_column": null,
       "grid_gap": null,
       "grid_row": null,
       "grid_template_areas": null,
       "grid_template_columns": null,
       "grid_template_rows": null,
       "height": null,
       "justify_content": null,
       "justify_items": null,
       "left": null,
       "margin": null,
       "max_height": null,
       "max_width": null,
       "min_height": null,
       "min_width": null,
       "object_fit": null,
       "object_position": null,
       "order": null,
       "overflow": null,
       "overflow_x": null,
       "overflow_y": null,
       "padding": null,
       "right": null,
       "top": null,
       "visibility": null,
       "width": null
      }
     },
     "5ec906241e8143b4b8936bcab2a1346c": {
      "model_module": "@jupyter-widgets/controls",
      "model_module_version": "1.5.0",
      "model_name": "DescriptionStyleModel",
      "state": {
       "_model_module": "@jupyter-widgets/controls",
       "_model_module_version": "1.5.0",
       "_model_name": "DescriptionStyleModel",
       "_view_count": null,
       "_view_module": "@jupyter-widgets/base",
       "_view_module_version": "1.2.0",
       "_view_name": "StyleView",
       "description_width": ""
      }
     },
     "619130d631454f9c9a6b592c086cf94b": {
      "model_module": "@jupyter-widgets/base",
      "model_module_version": "1.2.0",
      "model_name": "LayoutModel",
      "state": {
       "_model_module": "@jupyter-widgets/base",
       "_model_module_version": "1.2.0",
       "_model_name": "LayoutModel",
       "_view_count": null,
       "_view_module": "@jupyter-widgets/base",
       "_view_module_version": "1.2.0",
       "_view_name": "LayoutView",
       "align_content": null,
       "align_items": null,
       "align_self": null,
       "border": null,
       "bottom": null,
       "display": null,
       "flex": null,
       "flex_flow": null,
       "grid_area": null,
       "grid_auto_columns": null,
       "grid_auto_flow": null,
       "grid_auto_rows": null,
       "grid_column": null,
       "grid_gap": null,
       "grid_row": null,
       "grid_template_areas": null,
       "grid_template_columns": null,
       "grid_template_rows": null,
       "height": null,
       "justify_content": null,
       "justify_items": null,
       "left": null,
       "margin": null,
       "max_height": null,
       "max_width": null,
       "min_height": null,
       "min_width": null,
       "object_fit": null,
       "object_position": null,
       "order": null,
       "overflow": null,
       "overflow_x": null,
       "overflow_y": null,
       "padding": null,
       "right": null,
       "top": null,
       "visibility": null,
       "width": null
      }
     },
     "63cc2ca0b2544b6c9659dc6ecd686b5b": {
      "model_module": "@jupyter-widgets/controls",
      "model_module_version": "1.5.0",
      "model_name": "DescriptionStyleModel",
      "state": {
       "_model_module": "@jupyter-widgets/controls",
       "_model_module_version": "1.5.0",
       "_model_name": "DescriptionStyleModel",
       "_view_count": null,
       "_view_module": "@jupyter-widgets/base",
       "_view_module_version": "1.2.0",
       "_view_name": "StyleView",
       "description_width": ""
      }
     },
     "64e87df960fe4d2284f972ba2c988f5e": {
      "model_module": "@jupyter-widgets/controls",
      "model_module_version": "1.5.0",
      "model_name": "ProgressStyleModel",
      "state": {
       "_model_module": "@jupyter-widgets/controls",
       "_model_module_version": "1.5.0",
       "_model_name": "ProgressStyleModel",
       "_view_count": null,
       "_view_module": "@jupyter-widgets/base",
       "_view_module_version": "1.2.0",
       "_view_name": "StyleView",
       "bar_color": null,
       "description_width": ""
      }
     },
     "65471986123f4ea882d4e1fd9da7a538": {
      "model_module": "@jupyter-widgets/controls",
      "model_module_version": "1.5.0",
      "model_name": "DescriptionStyleModel",
      "state": {
       "_model_module": "@jupyter-widgets/controls",
       "_model_module_version": "1.5.0",
       "_model_name": "DescriptionStyleModel",
       "_view_count": null,
       "_view_module": "@jupyter-widgets/base",
       "_view_module_version": "1.2.0",
       "_view_name": "StyleView",
       "description_width": ""
      }
     },
     "65a59f96246a4ce1aa17de6923c5afc9": {
      "model_module": "@jupyter-widgets/controls",
      "model_module_version": "1.5.0",
      "model_name": "DescriptionStyleModel",
      "state": {
       "_model_module": "@jupyter-widgets/controls",
       "_model_module_version": "1.5.0",
       "_model_name": "DescriptionStyleModel",
       "_view_count": null,
       "_view_module": "@jupyter-widgets/base",
       "_view_module_version": "1.2.0",
       "_view_name": "StyleView",
       "description_width": ""
      }
     },
     "65c27626ef45489998dfd52f134225d3": {
      "model_module": "@jupyter-widgets/controls",
      "model_module_version": "1.5.0",
      "model_name": "HTMLModel",
      "state": {
       "_dom_classes": [],
       "_model_module": "@jupyter-widgets/controls",
       "_model_module_version": "1.5.0",
       "_model_name": "HTMLModel",
       "_view_count": null,
       "_view_module": "@jupyter-widgets/controls",
       "_view_module_version": "1.5.0",
       "_view_name": "HTMLView",
       "description": "",
       "description_tooltip": null,
       "layout": "IPY_MODEL_47034783fdb345988554a1e18c381f4e",
       "placeholder": "​",
       "style": "IPY_MODEL_3df578d87bf24e52a23f60d2ff518ec8",
       "value": " 19827/20000 [00:04&lt;00:00, 4747.90 examples/s]"
      }
     },
     "6a031cf07201408a8668ec571a7a6300": {
      "model_module": "@jupyter-widgets/controls",
      "model_module_version": "1.5.0",
      "model_name": "DescriptionStyleModel",
      "state": {
       "_model_module": "@jupyter-widgets/controls",
       "_model_module_version": "1.5.0",
       "_model_name": "DescriptionStyleModel",
       "_view_count": null,
       "_view_module": "@jupyter-widgets/base",
       "_view_module_version": "1.2.0",
       "_view_name": "StyleView",
       "description_width": ""
      }
     },
     "6a0c44484ee94bbeadd6718ac46994cf": {
      "model_module": "@jupyter-widgets/controls",
      "model_module_version": "1.5.0",
      "model_name": "HTMLModel",
      "state": {
       "_dom_classes": [],
       "_model_module": "@jupyter-widgets/controls",
       "_model_module_version": "1.5.0",
       "_model_name": "HTMLModel",
       "_view_count": null,
       "_view_module": "@jupyter-widgets/controls",
       "_view_module_version": "1.5.0",
       "_view_name": "HTMLView",
       "description": "",
       "description_tooltip": null,
       "layout": "IPY_MODEL_5dd9b0729f534e32bf6fa08692d6b789",
       "placeholder": "​",
       "style": "IPY_MODEL_226a78c5948649ac9f7bd2511596ac84",
       "value": "Downloading: 100%"
      }
     },
     "6bacaa11524d43578ac2b7fc364fb209": {
      "model_module": "@jupyter-widgets/controls",
      "model_module_version": "1.5.0",
      "model_name": "DescriptionStyleModel",
      "state": {
       "_model_module": "@jupyter-widgets/controls",
       "_model_module_version": "1.5.0",
       "_model_name": "DescriptionStyleModel",
       "_view_count": null,
       "_view_module": "@jupyter-widgets/base",
       "_view_module_version": "1.2.0",
       "_view_name": "StyleView",
       "description_width": ""
      }
     },
     "6c0e9328fad8411da4b9b193c7feaf56": {
      "model_module": "@jupyter-widgets/controls",
      "model_module_version": "1.5.0",
      "model_name": "HTMLModel",
      "state": {
       "_dom_classes": [],
       "_model_module": "@jupyter-widgets/controls",
       "_model_module_version": "1.5.0",
       "_model_name": "HTMLModel",
       "_view_count": null,
       "_view_module": "@jupyter-widgets/controls",
       "_view_module_version": "1.5.0",
       "_view_name": "HTMLView",
       "description": "",
       "description_tooltip": null,
       "layout": "IPY_MODEL_b8c63bd0a6c4428ca954ed509662d446",
       "placeholder": "​",
       "style": "IPY_MODEL_5ec906241e8143b4b8936bcab2a1346c",
       "value": "Generating test split:  97%"
      }
     },
     "6c7da9597a0745c6b8a9af73b7a80cbf": {
      "model_module": "@jupyter-widgets/controls",
      "model_module_version": "1.5.0",
      "model_name": "HBoxModel",
      "state": {
       "_dom_classes": [],
       "_model_module": "@jupyter-widgets/controls",
       "_model_module_version": "1.5.0",
       "_model_name": "HBoxModel",
       "_view_count": null,
       "_view_module": "@jupyter-widgets/controls",
       "_view_module_version": "1.5.0",
       "_view_name": "HBoxView",
       "box_style": "",
       "children": [
        "IPY_MODEL_97a38a058f5146bfa823a44465160060",
        "IPY_MODEL_100ae87cff9b4bb9a08abc27ed3b477e",
        "IPY_MODEL_7759017d53a248d8b72223398576a001"
       ],
       "layout": "IPY_MODEL_056d2d29c3f643e296bd3f4833408125"
      }
     },
     "6deb3c44e33445e3aac31ae276860824": {
      "model_module": "@jupyter-widgets/controls",
      "model_module_version": "1.5.0",
      "model_name": "HBoxModel",
      "state": {
       "_dom_classes": [],
       "_model_module": "@jupyter-widgets/controls",
       "_model_module_version": "1.5.0",
       "_model_name": "HBoxModel",
       "_view_count": null,
       "_view_module": "@jupyter-widgets/controls",
       "_view_module_version": "1.5.0",
       "_view_name": "HBoxView",
       "box_style": "",
       "children": [
        "IPY_MODEL_7fa54d57c7ac4c95960ff66950afffd7",
        "IPY_MODEL_245d7da1dee94982b5de4ccbb88d0df3",
        "IPY_MODEL_e83cd488e7854610920ec30b161d4259"
       ],
       "layout": "IPY_MODEL_c89ad14c15e7494e8bea9d7fbf89e5c7"
      }
     },
     "6e9b82cab7094a7cbe8536ce689ce130": {
      "model_module": "@jupyter-widgets/controls",
      "model_module_version": "1.5.0",
      "model_name": "HTMLModel",
      "state": {
       "_dom_classes": [],
       "_model_module": "@jupyter-widgets/controls",
       "_model_module_version": "1.5.0",
       "_model_name": "HTMLModel",
       "_view_count": null,
       "_view_module": "@jupyter-widgets/controls",
       "_view_module_version": "1.5.0",
       "_view_name": "HTMLView",
       "description": "",
       "description_tooltip": null,
       "layout": "IPY_MODEL_9c9158eb75d644718549e40876098433",
       "placeholder": "​",
       "style": "IPY_MODEL_5357183eac1844989726af7b3e33141d",
       "value": " 20000/20000 [00:10&lt;00:00, 2059.29ex/s]"
      }
     },
     "73a5c947474642e0b1f04c5ddf0183d8": {
      "model_module": "@jupyter-widgets/base",
      "model_module_version": "1.2.0",
      "model_name": "LayoutModel",
      "state": {
       "_model_module": "@jupyter-widgets/base",
       "_model_module_version": "1.2.0",
       "_model_name": "LayoutModel",
       "_view_count": null,
       "_view_module": "@jupyter-widgets/base",
       "_view_module_version": "1.2.0",
       "_view_name": "LayoutView",
       "align_content": null,
       "align_items": null,
       "align_self": null,
       "border": null,
       "bottom": null,
       "display": null,
       "flex": null,
       "flex_flow": null,
       "grid_area": null,
       "grid_auto_columns": null,
       "grid_auto_flow": null,
       "grid_auto_rows": null,
       "grid_column": null,
       "grid_gap": null,
       "grid_row": null,
       "grid_template_areas": null,
       "grid_template_columns": null,
       "grid_template_rows": null,
       "height": null,
       "justify_content": null,
       "justify_items": null,
       "left": null,
       "margin": null,
       "max_height": null,
       "max_width": null,
       "min_height": null,
       "min_width": null,
       "object_fit": null,
       "object_position": null,
       "order": null,
       "overflow": null,
       "overflow_x": null,
       "overflow_y": null,
       "padding": null,
       "right": null,
       "top": null,
       "visibility": null,
       "width": null
      }
     },
     "7409916b1b944f19b36d3e8437c28497": {
      "model_module": "@jupyter-widgets/base",
      "model_module_version": "1.2.0",
      "model_name": "LayoutModel",
      "state": {
       "_model_module": "@jupyter-widgets/base",
       "_model_module_version": "1.2.0",
       "_model_name": "LayoutModel",
       "_view_count": null,
       "_view_module": "@jupyter-widgets/base",
       "_view_module_version": "1.2.0",
       "_view_name": "LayoutView",
       "align_content": null,
       "align_items": null,
       "align_self": null,
       "border": null,
       "bottom": null,
       "display": null,
       "flex": null,
       "flex_flow": null,
       "grid_area": null,
       "grid_auto_columns": null,
       "grid_auto_flow": null,
       "grid_auto_rows": null,
       "grid_column": null,
       "grid_gap": null,
       "grid_row": null,
       "grid_template_areas": null,
       "grid_template_columns": null,
       "grid_template_rows": null,
       "height": null,
       "justify_content": null,
       "justify_items": null,
       "left": null,
       "margin": null,
       "max_height": null,
       "max_width": null,
       "min_height": null,
       "min_width": null,
       "object_fit": null,
       "object_position": null,
       "order": null,
       "overflow": null,
       "overflow_x": null,
       "overflow_y": null,
       "padding": null,
       "right": null,
       "top": null,
       "visibility": null,
       "width": null
      }
     },
     "7479fa878af341198ceec2e694b5a975": {
      "model_module": "@jupyter-widgets/controls",
      "model_module_version": "1.5.0",
      "model_name": "DescriptionStyleModel",
      "state": {
       "_model_module": "@jupyter-widgets/controls",
       "_model_module_version": "1.5.0",
       "_model_name": "DescriptionStyleModel",
       "_view_count": null,
       "_view_module": "@jupyter-widgets/base",
       "_view_module_version": "1.2.0",
       "_view_name": "StyleView",
       "description_width": ""
      }
     },
     "769d6fdca0b04e91980e55cb5e649c98": {
      "model_module": "@jupyter-widgets/controls",
      "model_module_version": "1.5.0",
      "model_name": "ProgressStyleModel",
      "state": {
       "_model_module": "@jupyter-widgets/controls",
       "_model_module_version": "1.5.0",
       "_model_name": "ProgressStyleModel",
       "_view_count": null,
       "_view_module": "@jupyter-widgets/base",
       "_view_module_version": "1.2.0",
       "_view_name": "StyleView",
       "bar_color": null,
       "description_width": ""
      }
     },
     "7759017d53a248d8b72223398576a001": {
      "model_module": "@jupyter-widgets/controls",
      "model_module_version": "1.5.0",
      "model_name": "HTMLModel",
      "state": {
       "_dom_classes": [],
       "_model_module": "@jupyter-widgets/controls",
       "_model_module_version": "1.5.0",
       "_model_name": "HTMLModel",
       "_view_count": null,
       "_view_module": "@jupyter-widgets/controls",
       "_view_module_version": "1.5.0",
       "_view_name": "HTMLView",
       "description": "",
       "description_tooltip": null,
       "layout": "IPY_MODEL_b3b04c7dbccf4d19a5e991ae9d45f9a7",
       "placeholder": "​",
       "style": "IPY_MODEL_058f19bc67d149a3b7b5338a2a4553ef",
       "value": " 11.6k/? [00:00&lt;00:00, 6.73kB/s]"
      }
     },
     "7778dc7d04f84590807090fed2763aa4": {
      "model_module": "@jupyter-widgets/controls",
      "model_module_version": "1.5.0",
      "model_name": "FloatProgressModel",
      "state": {
       "_dom_classes": [],
       "_model_module": "@jupyter-widgets/controls",
       "_model_module_version": "1.5.0",
       "_model_name": "FloatProgressModel",
       "_view_count": null,
       "_view_module": "@jupyter-widgets/controls",
       "_view_module_version": "1.5.0",
       "_view_name": "ProgressView",
       "bar_style": "success",
       "description": "",
       "description_tooltip": null,
       "layout": "IPY_MODEL_e12f6943ac1a444293f6213dfc500511",
       "max": 234008884,
       "min": 0,
       "orientation": "horizontal",
       "style": "IPY_MODEL_e37458b5bc6c4ef8983fceefb1c41a64",
       "value": 234008884
      }
     },
     "7d0f5b2731db4fc788dfa907206f0778": {
      "model_module": "@jupyter-widgets/controls",
      "model_module_version": "1.5.0",
      "model_name": "HBoxModel",
      "state": {
       "_dom_classes": [],
       "_model_module": "@jupyter-widgets/controls",
       "_model_module_version": "1.5.0",
       "_model_name": "HBoxModel",
       "_view_count": null,
       "_view_module": "@jupyter-widgets/controls",
       "_view_module_version": "1.5.0",
       "_view_name": "HBoxView",
       "box_style": "",
       "children": [
        "IPY_MODEL_bbe329be64244c23b3b7bd6f0c373b91",
        "IPY_MODEL_7778dc7d04f84590807090fed2763aa4",
        "IPY_MODEL_cd3b55d2629f4d08997c19ad6d737bbd"
       ],
       "layout": "IPY_MODEL_004ad26ba20b43de8768e7b80753bab4"
      }
     },
     "7e5d1b8d7ef14432ab5aaf786eb04964": {
      "model_module": "@jupyter-widgets/base",
      "model_module_version": "1.2.0",
      "model_name": "LayoutModel",
      "state": {
       "_model_module": "@jupyter-widgets/base",
       "_model_module_version": "1.2.0",
       "_model_name": "LayoutModel",
       "_view_count": null,
       "_view_module": "@jupyter-widgets/base",
       "_view_module_version": "1.2.0",
       "_view_name": "LayoutView",
       "align_content": null,
       "align_items": null,
       "align_self": null,
       "border": null,
       "bottom": null,
       "display": null,
       "flex": null,
       "flex_flow": null,
       "grid_area": null,
       "grid_auto_columns": null,
       "grid_auto_flow": null,
       "grid_auto_rows": null,
       "grid_column": null,
       "grid_gap": null,
       "grid_row": null,
       "grid_template_areas": null,
       "grid_template_columns": null,
       "grid_template_rows": null,
       "height": null,
       "justify_content": null,
       "justify_items": null,
       "left": null,
       "margin": null,
       "max_height": null,
       "max_width": null,
       "min_height": null,
       "min_width": null,
       "object_fit": null,
       "object_position": null,
       "order": null,
       "overflow": null,
       "overflow_x": null,
       "overflow_y": null,
       "padding": null,
       "right": null,
       "top": null,
       "visibility": null,
       "width": null
      }
     },
     "7ef59438f9144f40b05c3de68409368c": {
      "model_module": "@jupyter-widgets/controls",
      "model_module_version": "1.5.0",
      "model_name": "ProgressStyleModel",
      "state": {
       "_model_module": "@jupyter-widgets/controls",
       "_model_module_version": "1.5.0",
       "_model_name": "ProgressStyleModel",
       "_view_count": null,
       "_view_module": "@jupyter-widgets/base",
       "_view_module_version": "1.2.0",
       "_view_name": "StyleView",
       "bar_color": null,
       "description_width": ""
      }
     },
     "7fa54d57c7ac4c95960ff66950afffd7": {
      "model_module": "@jupyter-widgets/controls",
      "model_module_version": "1.5.0",
      "model_name": "HTMLModel",
      "state": {
       "_dom_classes": [],
       "_model_module": "@jupyter-widgets/controls",
       "_model_module_version": "1.5.0",
       "_model_name": "HTMLModel",
       "_view_count": null,
       "_view_module": "@jupyter-widgets/controls",
       "_view_module_version": "1.5.0",
       "_view_name": "HTMLView",
       "description": "",
       "description_tooltip": null,
       "layout": "IPY_MODEL_24fe4602eb56453bb40ce799bb201626",
       "placeholder": "​",
       "style": "IPY_MODEL_b99b862a7ae64cb4a46cb4515340c341",
       "value": "Generating validation split: 100%"
      }
     },
     "80940964df8f48b0a1026a55398a43f8": {
      "model_module": "@jupyter-widgets/controls",
      "model_module_version": "1.5.0",
      "model_name": "DescriptionStyleModel",
      "state": {
       "_model_module": "@jupyter-widgets/controls",
       "_model_module_version": "1.5.0",
       "_model_name": "DescriptionStyleModel",
       "_view_count": null,
       "_view_module": "@jupyter-widgets/base",
       "_view_module_version": "1.2.0",
       "_view_name": "StyleView",
       "description_width": ""
      }
     },
     "83c985d00a60483da1d5cd9aeea620ad": {
      "model_module": "@jupyter-widgets/controls",
      "model_module_version": "1.5.0",
      "model_name": "DescriptionStyleModel",
      "state": {
       "_model_module": "@jupyter-widgets/controls",
       "_model_module_version": "1.5.0",
       "_model_name": "DescriptionStyleModel",
       "_view_count": null,
       "_view_module": "@jupyter-widgets/base",
       "_view_module_version": "1.2.0",
       "_view_name": "StyleView",
       "description_width": ""
      }
     },
     "840734985f1e44d7811d7971ac40c770": {
      "model_module": "@jupyter-widgets/controls",
      "model_module_version": "1.5.0",
      "model_name": "DescriptionStyleModel",
      "state": {
       "_model_module": "@jupyter-widgets/controls",
       "_model_module_version": "1.5.0",
       "_model_name": "DescriptionStyleModel",
       "_view_count": null,
       "_view_module": "@jupyter-widgets/base",
       "_view_module_version": "1.2.0",
       "_view_name": "StyleView",
       "description_width": ""
      }
     },
     "84660b984a82493995b7007ad298659a": {
      "model_module": "@jupyter-widgets/controls",
      "model_module_version": "1.5.0",
      "model_name": "ProgressStyleModel",
      "state": {
       "_model_module": "@jupyter-widgets/controls",
       "_model_module_version": "1.5.0",
       "_model_name": "ProgressStyleModel",
       "_view_count": null,
       "_view_module": "@jupyter-widgets/base",
       "_view_module_version": "1.2.0",
       "_view_name": "StyleView",
       "bar_color": null,
       "description_width": ""
      }
     },
     "875bb42b80594e5986e201fb49ca5ed0": {
      "model_module": "@jupyter-widgets/controls",
      "model_module_version": "1.5.0",
      "model_name": "FloatProgressModel",
      "state": {
       "_dom_classes": [],
       "_model_module": "@jupyter-widgets/controls",
       "_model_module_version": "1.5.0",
       "_model_name": "FloatProgressModel",
       "_view_count": null,
       "_view_module": "@jupyter-widgets/controls",
       "_view_module_version": "1.5.0",
       "_view_name": "ProgressView",
       "bar_style": "success",
       "description": "",
       "description_tooltip": null,
       "layout": "IPY_MODEL_34d36b580a5e4ae7ae51facb421d546d",
       "max": 40000,
       "min": 0,
       "orientation": "horizontal",
       "style": "IPY_MODEL_1f238b6ac2c249f890b26fa0c6ffedb8",
       "value": 40000
      }
     },
     "8913a95f61f34a2395c286097030d270": {
      "model_module": "@jupyter-widgets/controls",
      "model_module_version": "1.5.0",
      "model_name": "ProgressStyleModel",
      "state": {
       "_model_module": "@jupyter-widgets/controls",
       "_model_module_version": "1.5.0",
       "_model_name": "ProgressStyleModel",
       "_view_count": null,
       "_view_module": "@jupyter-widgets/base",
       "_view_module_version": "1.2.0",
       "_view_name": "StyleView",
       "bar_color": null,
       "description_width": ""
      }
     },
     "89efd55fb77a4b36b4ea74b0d7ac9cb7": {
      "model_module": "@jupyter-widgets/base",
      "model_module_version": "1.2.0",
      "model_name": "LayoutModel",
      "state": {
       "_model_module": "@jupyter-widgets/base",
       "_model_module_version": "1.2.0",
       "_model_name": "LayoutModel",
       "_view_count": null,
       "_view_module": "@jupyter-widgets/base",
       "_view_module_version": "1.2.0",
       "_view_name": "LayoutView",
       "align_content": null,
       "align_items": null,
       "align_self": null,
       "border": null,
       "bottom": null,
       "display": null,
       "flex": null,
       "flex_flow": null,
       "grid_area": null,
       "grid_auto_columns": null,
       "grid_auto_flow": null,
       "grid_auto_rows": null,
       "grid_column": null,
       "grid_gap": null,
       "grid_row": null,
       "grid_template_areas": null,
       "grid_template_columns": null,
       "grid_template_rows": null,
       "height": null,
       "justify_content": null,
       "justify_items": null,
       "left": null,
       "margin": null,
       "max_height": null,
       "max_width": null,
       "min_height": null,
       "min_width": null,
       "object_fit": null,
       "object_position": null,
       "order": null,
       "overflow": null,
       "overflow_x": null,
       "overflow_y": null,
       "padding": null,
       "right": null,
       "top": null,
       "visibility": null,
       "width": null
      }
     },
     "8a9662e234494e608adcc9871b9e2597": {
      "model_module": "@jupyter-widgets/controls",
      "model_module_version": "1.5.0",
      "model_name": "DescriptionStyleModel",
      "state": {
       "_model_module": "@jupyter-widgets/controls",
       "_model_module_version": "1.5.0",
       "_model_name": "DescriptionStyleModel",
       "_view_count": null,
       "_view_module": "@jupyter-widgets/base",
       "_view_module_version": "1.2.0",
       "_view_name": "StyleView",
       "description_width": ""
      }
     },
     "8b36107139224a7f9f2413d1de4d109e": {
      "model_module": "@jupyter-widgets/base",
      "model_module_version": "1.2.0",
      "model_name": "LayoutModel",
      "state": {
       "_model_module": "@jupyter-widgets/base",
       "_model_module_version": "1.2.0",
       "_model_name": "LayoutModel",
       "_view_count": null,
       "_view_module": "@jupyter-widgets/base",
       "_view_module_version": "1.2.0",
       "_view_name": "LayoutView",
       "align_content": null,
       "align_items": null,
       "align_self": null,
       "border": null,
       "bottom": null,
       "display": null,
       "flex": null,
       "flex_flow": null,
       "grid_area": null,
       "grid_auto_columns": null,
       "grid_auto_flow": null,
       "grid_auto_rows": null,
       "grid_column": null,
       "grid_gap": null,
       "grid_row": null,
       "grid_template_areas": null,
       "grid_template_columns": null,
       "grid_template_rows": null,
       "height": null,
       "justify_content": null,
       "justify_items": null,
       "left": null,
       "margin": null,
       "max_height": null,
       "max_width": null,
       "min_height": null,
       "min_width": null,
       "object_fit": null,
       "object_position": null,
       "order": null,
       "overflow": null,
       "overflow_x": null,
       "overflow_y": null,
       "padding": null,
       "right": null,
       "top": null,
       "visibility": null,
       "width": null
      }
     },
     "8c79de413f6f475e890623683e3ee1d6": {
      "model_module": "@jupyter-widgets/base",
      "model_module_version": "1.2.0",
      "model_name": "LayoutModel",
      "state": {
       "_model_module": "@jupyter-widgets/base",
       "_model_module_version": "1.2.0",
       "_model_name": "LayoutModel",
       "_view_count": null,
       "_view_module": "@jupyter-widgets/base",
       "_view_module_version": "1.2.0",
       "_view_name": "LayoutView",
       "align_content": null,
       "align_items": null,
       "align_self": null,
       "border": null,
       "bottom": null,
       "display": null,
       "flex": null,
       "flex_flow": null,
       "grid_area": null,
       "grid_auto_columns": null,
       "grid_auto_flow": null,
       "grid_auto_rows": null,
       "grid_column": null,
       "grid_gap": null,
       "grid_row": null,
       "grid_template_areas": null,
       "grid_template_columns": null,
       "grid_template_rows": null,
       "height": null,
       "justify_content": null,
       "justify_items": null,
       "left": null,
       "margin": null,
       "max_height": null,
       "max_width": null,
       "min_height": null,
       "min_width": null,
       "object_fit": null,
       "object_position": null,
       "order": null,
       "overflow": null,
       "overflow_x": null,
       "overflow_y": null,
       "padding": null,
       "right": null,
       "top": null,
       "visibility": null,
       "width": null
      }
     },
     "8d8a7f2f90d443da9abe457d73b1307b": {
      "model_module": "@jupyter-widgets/controls",
      "model_module_version": "1.5.0",
      "model_name": "DescriptionStyleModel",
      "state": {
       "_model_module": "@jupyter-widgets/controls",
       "_model_module_version": "1.5.0",
       "_model_name": "DescriptionStyleModel",
       "_view_count": null,
       "_view_module": "@jupyter-widgets/base",
       "_view_module_version": "1.2.0",
       "_view_name": "StyleView",
       "description_width": ""
      }
     },
     "8fe78610e8a7475f8c71ad22f32640de": {
      "model_module": "@jupyter-widgets/controls",
      "model_module_version": "1.5.0",
      "model_name": "HTMLModel",
      "state": {
       "_dom_classes": [],
       "_model_module": "@jupyter-widgets/controls",
       "_model_module_version": "1.5.0",
       "_model_name": "HTMLModel",
       "_view_count": null,
       "_view_module": "@jupyter-widgets/controls",
       "_view_module_version": "1.5.0",
       "_view_name": "HTMLView",
       "description": "",
       "description_tooltip": null,
       "layout": "IPY_MODEL_4dd08d8334a94554a0bda59e379efc87",
       "placeholder": "​",
       "style": "IPY_MODEL_203b473eebd24d2fb5ba1e1d74bb2dc2",
       "value": " 8.68M/8.68M [00:00&lt;00:00, 15.2MB/s]"
      }
     },
     "900a4f04fb4b4f6b910841643b77873f": {
      "model_module": "@jupyter-widgets/base",
      "model_module_version": "1.2.0",
      "model_name": "LayoutModel",
      "state": {
       "_model_module": "@jupyter-widgets/base",
       "_model_module_version": "1.2.0",
       "_model_name": "LayoutModel",
       "_view_count": null,
       "_view_module": "@jupyter-widgets/base",
       "_view_module_version": "1.2.0",
       "_view_name": "LayoutView",
       "align_content": null,
       "align_items": null,
       "align_self": null,
       "border": null,
       "bottom": null,
       "display": null,
       "flex": null,
       "flex_flow": null,
       "grid_area": null,
       "grid_auto_columns": null,
       "grid_auto_flow": null,
       "grid_auto_rows": null,
       "grid_column": null,
       "grid_gap": null,
       "grid_row": null,
       "grid_template_areas": null,
       "grid_template_columns": null,
       "grid_template_rows": null,
       "height": null,
       "justify_content": null,
       "justify_items": null,
       "left": null,
       "margin": null,
       "max_height": null,
       "max_width": null,
       "min_height": null,
       "min_width": null,
       "object_fit": null,
       "object_position": null,
       "order": null,
       "overflow": null,
       "overflow_x": null,
       "overflow_y": null,
       "padding": null,
       "right": null,
       "top": null,
       "visibility": null,
       "width": null
      }
     },
     "92b70605146748a4bb91c1571885dd1d": {
      "model_module": "@jupyter-widgets/controls",
      "model_module_version": "1.5.0",
      "model_name": "HBoxModel",
      "state": {
       "_dom_classes": [],
       "_model_module": "@jupyter-widgets/controls",
       "_model_module_version": "1.5.0",
       "_model_name": "HBoxModel",
       "_view_count": null,
       "_view_module": "@jupyter-widgets/controls",
       "_view_module_version": "1.5.0",
       "_view_name": "HBoxView",
       "box_style": "",
       "children": [
        "IPY_MODEL_b2381253cdbb4111970ebe4863618f5b",
        "IPY_MODEL_9b651c3c798548229aa562a65b953df1",
        "IPY_MODEL_52e4e81aa13e4bc68e0432440706c382"
       ],
       "layout": "IPY_MODEL_98891ddc5a104b76829dbc996c18594b"
      }
     },
     "952455922e9a419a9d5219d6486c82cc": {
      "model_module": "@jupyter-widgets/base",
      "model_module_version": "1.2.0",
      "model_name": "LayoutModel",
      "state": {
       "_model_module": "@jupyter-widgets/base",
       "_model_module_version": "1.2.0",
       "_model_name": "LayoutModel",
       "_view_count": null,
       "_view_module": "@jupyter-widgets/base",
       "_view_module_version": "1.2.0",
       "_view_name": "LayoutView",
       "align_content": null,
       "align_items": null,
       "align_self": null,
       "border": null,
       "bottom": null,
       "display": null,
       "flex": null,
       "flex_flow": null,
       "grid_area": null,
       "grid_auto_columns": null,
       "grid_auto_flow": null,
       "grid_auto_rows": null,
       "grid_column": null,
       "grid_gap": null,
       "grid_row": null,
       "grid_template_areas": null,
       "grid_template_columns": null,
       "grid_template_rows": null,
       "height": null,
       "justify_content": null,
       "justify_items": null,
       "left": null,
       "margin": null,
       "max_height": null,
       "max_width": null,
       "min_height": null,
       "min_width": null,
       "object_fit": null,
       "object_position": null,
       "order": null,
       "overflow": null,
       "overflow_x": null,
       "overflow_y": null,
       "padding": null,
       "right": null,
       "top": null,
       "visibility": null,
       "width": null
      }
     },
     "9726dc342d944243b3b4dc60031317e7": {
      "model_module": "@jupyter-widgets/base",
      "model_module_version": "1.2.0",
      "model_name": "LayoutModel",
      "state": {
       "_model_module": "@jupyter-widgets/base",
       "_model_module_version": "1.2.0",
       "_model_name": "LayoutModel",
       "_view_count": null,
       "_view_module": "@jupyter-widgets/base",
       "_view_module_version": "1.2.0",
       "_view_name": "LayoutView",
       "align_content": null,
       "align_items": null,
       "align_self": null,
       "border": null,
       "bottom": null,
       "display": null,
       "flex": null,
       "flex_flow": null,
       "grid_area": null,
       "grid_auto_columns": null,
       "grid_auto_flow": null,
       "grid_auto_rows": null,
       "grid_column": null,
       "grid_gap": null,
       "grid_row": null,
       "grid_template_areas": null,
       "grid_template_columns": null,
       "grid_template_rows": null,
       "height": null,
       "justify_content": null,
       "justify_items": null,
       "left": null,
       "margin": null,
       "max_height": null,
       "max_width": null,
       "min_height": null,
       "min_width": null,
       "object_fit": null,
       "object_position": null,
       "order": null,
       "overflow": null,
       "overflow_x": null,
       "overflow_y": null,
       "padding": null,
       "right": null,
       "top": null,
       "visibility": null,
       "width": null
      }
     },
     "97a38a058f5146bfa823a44465160060": {
      "model_module": "@jupyter-widgets/controls",
      "model_module_version": "1.5.0",
      "model_name": "HTMLModel",
      "state": {
       "_dom_classes": [],
       "_model_module": "@jupyter-widgets/controls",
       "_model_module_version": "1.5.0",
       "_model_name": "HTMLModel",
       "_view_count": null,
       "_view_module": "@jupyter-widgets/controls",
       "_view_module_version": "1.5.0",
       "_view_name": "HTMLView",
       "description": "",
       "description_tooltip": null,
       "layout": "IPY_MODEL_9ca7ac0b912d4fc89fdefa9d9f2adb1d",
       "placeholder": "​",
       "style": "IPY_MODEL_840734985f1e44d7811d7971ac40c770",
       "value": "Downloading builder script: "
      }
     },
     "98891ddc5a104b76829dbc996c18594b": {
      "model_module": "@jupyter-widgets/base",
      "model_module_version": "1.2.0",
      "model_name": "LayoutModel",
      "state": {
       "_model_module": "@jupyter-widgets/base",
       "_model_module_version": "1.2.0",
       "_model_name": "LayoutModel",
       "_view_count": null,
       "_view_module": "@jupyter-widgets/base",
       "_view_module_version": "1.2.0",
       "_view_name": "LayoutView",
       "align_content": null,
       "align_items": null,
       "align_self": null,
       "border": null,
       "bottom": null,
       "display": null,
       "flex": null,
       "flex_flow": null,
       "grid_area": null,
       "grid_auto_columns": null,
       "grid_auto_flow": null,
       "grid_auto_rows": null,
       "grid_column": null,
       "grid_gap": null,
       "grid_row": null,
       "grid_template_areas": null,
       "grid_template_columns": null,
       "grid_template_rows": null,
       "height": null,
       "justify_content": null,
       "justify_items": null,
       "left": null,
       "margin": null,
       "max_height": null,
       "max_width": null,
       "min_height": null,
       "min_width": null,
       "object_fit": null,
       "object_position": null,
       "order": null,
       "overflow": null,
       "overflow_x": null,
       "overflow_y": null,
       "padding": null,
       "right": null,
       "top": null,
       "visibility": null,
       "width": null
      }
     },
     "98df22c8293b476aa2071e2275f5e021": {
      "model_module": "@jupyter-widgets/controls",
      "model_module_version": "1.5.0",
      "model_name": "DescriptionStyleModel",
      "state": {
       "_model_module": "@jupyter-widgets/controls",
       "_model_module_version": "1.5.0",
       "_model_name": "DescriptionStyleModel",
       "_view_count": null,
       "_view_module": "@jupyter-widgets/base",
       "_view_module_version": "1.2.0",
       "_view_name": "StyleView",
       "description_width": ""
      }
     },
     "9b651c3c798548229aa562a65b953df1": {
      "model_module": "@jupyter-widgets/controls",
      "model_module_version": "1.5.0",
      "model_name": "FloatProgressModel",
      "state": {
       "_dom_classes": [],
       "_model_module": "@jupyter-widgets/controls",
       "_model_module_version": "1.5.0",
       "_model_name": "FloatProgressModel",
       "_view_count": null,
       "_view_module": "@jupyter-widgets/controls",
       "_view_module_version": "1.5.0",
       "_view_name": "ProgressView",
       "bar_style": "",
       "description": "",
       "description_tooltip": null,
       "layout": "IPY_MODEL_a74c21fd96264a7c8a78d6c8cc12dc2c",
       "max": 20000,
       "min": 0,
       "orientation": "horizontal",
       "style": "IPY_MODEL_46ae200a4a64458a87244d38e8daad21",
       "value": 20000
      }
     },
     "9c298f7fb7194ec8b4209764e09ce77d": {
      "model_module": "@jupyter-widgets/controls",
      "model_module_version": "1.5.0",
      "model_name": "FloatProgressModel",
      "state": {
       "_dom_classes": [],
       "_model_module": "@jupyter-widgets/controls",
       "_model_module_version": "1.5.0",
       "_model_name": "FloatProgressModel",
       "_view_count": null,
       "_view_module": "@jupyter-widgets/controls",
       "_view_module_version": "1.5.0",
       "_view_name": "ProgressView",
       "bar_style": "success",
       "description": "",
       "description_tooltip": null,
       "layout": "IPY_MODEL_e2572d5a0b954321b741545ecc1d2143",
       "max": 20000,
       "min": 0,
       "orientation": "horizontal",
       "style": "IPY_MODEL_d0f56e48ec0d446ba3b34a2d549e8d95",
       "value": 20000
      }
     },
     "9c9158eb75d644718549e40876098433": {
      "model_module": "@jupyter-widgets/base",
      "model_module_version": "1.2.0",
      "model_name": "LayoutModel",
      "state": {
       "_model_module": "@jupyter-widgets/base",
       "_model_module_version": "1.2.0",
       "_model_name": "LayoutModel",
       "_view_count": null,
       "_view_module": "@jupyter-widgets/base",
       "_view_module_version": "1.2.0",
       "_view_name": "LayoutView",
       "align_content": null,
       "align_items": null,
       "align_self": null,
       "border": null,
       "bottom": null,
       "display": null,
       "flex": null,
       "flex_flow": null,
       "grid_area": null,
       "grid_auto_columns": null,
       "grid_auto_flow": null,
       "grid_auto_rows": null,
       "grid_column": null,
       "grid_gap": null,
       "grid_row": null,
       "grid_template_areas": null,
       "grid_template_columns": null,
       "grid_template_rows": null,
       "height": null,
       "justify_content": null,
       "justify_items": null,
       "left": null,
       "margin": null,
       "max_height": null,
       "max_width": null,
       "min_height": null,
       "min_width": null,
       "object_fit": null,
       "object_position": null,
       "order": null,
       "overflow": null,
       "overflow_x": null,
       "overflow_y": null,
       "padding": null,
       "right": null,
       "top": null,
       "visibility": null,
       "width": null
      }
     },
     "9ca7ac0b912d4fc89fdefa9d9f2adb1d": {
      "model_module": "@jupyter-widgets/base",
      "model_module_version": "1.2.0",
      "model_name": "LayoutModel",
      "state": {
       "_model_module": "@jupyter-widgets/base",
       "_model_module_version": "1.2.0",
       "_model_name": "LayoutModel",
       "_view_count": null,
       "_view_module": "@jupyter-widgets/base",
       "_view_module_version": "1.2.0",
       "_view_name": "LayoutView",
       "align_content": null,
       "align_items": null,
       "align_self": null,
       "border": null,
       "bottom": null,
       "display": null,
       "flex": null,
       "flex_flow": null,
       "grid_area": null,
       "grid_auto_columns": null,
       "grid_auto_flow": null,
       "grid_auto_rows": null,
       "grid_column": null,
       "grid_gap": null,
       "grid_row": null,
       "grid_template_areas": null,
       "grid_template_columns": null,
       "grid_template_rows": null,
       "height": null,
       "justify_content": null,
       "justify_items": null,
       "left": null,
       "margin": null,
       "max_height": null,
       "max_width": null,
       "min_height": null,
       "min_width": null,
       "object_fit": null,
       "object_position": null,
       "order": null,
       "overflow": null,
       "overflow_x": null,
       "overflow_y": null,
       "padding": null,
       "right": null,
       "top": null,
       "visibility": null,
       "width": null
      }
     },
     "9d06716c4bcf4fd896fac4019e00c12b": {
      "model_module": "@jupyter-widgets/base",
      "model_module_version": "1.2.0",
      "model_name": "LayoutModel",
      "state": {
       "_model_module": "@jupyter-widgets/base",
       "_model_module_version": "1.2.0",
       "_model_name": "LayoutModel",
       "_view_count": null,
       "_view_module": "@jupyter-widgets/base",
       "_view_module_version": "1.2.0",
       "_view_name": "LayoutView",
       "align_content": null,
       "align_items": null,
       "align_self": null,
       "border": null,
       "bottom": null,
       "display": null,
       "flex": null,
       "flex_flow": null,
       "grid_area": null,
       "grid_auto_columns": null,
       "grid_auto_flow": null,
       "grid_auto_rows": null,
       "grid_column": null,
       "grid_gap": null,
       "grid_row": null,
       "grid_template_areas": null,
       "grid_template_columns": null,
       "grid_template_rows": null,
       "height": null,
       "justify_content": null,
       "justify_items": null,
       "left": null,
       "margin": null,
       "max_height": null,
       "max_width": null,
       "min_height": null,
       "min_width": null,
       "object_fit": null,
       "object_position": null,
       "order": null,
       "overflow": null,
       "overflow_x": null,
       "overflow_y": null,
       "padding": null,
       "right": null,
       "top": null,
       "visibility": null,
       "width": null
      }
     },
     "9d4cf98b988047a1b2a7e1d222c7a607": {
      "model_module": "@jupyter-widgets/base",
      "model_module_version": "1.2.0",
      "model_name": "LayoutModel",
      "state": {
       "_model_module": "@jupyter-widgets/base",
       "_model_module_version": "1.2.0",
       "_model_name": "LayoutModel",
       "_view_count": null,
       "_view_module": "@jupyter-widgets/base",
       "_view_module_version": "1.2.0",
       "_view_name": "LayoutView",
       "align_content": null,
       "align_items": null,
       "align_self": null,
       "border": null,
       "bottom": null,
       "display": null,
       "flex": null,
       "flex_flow": null,
       "grid_area": null,
       "grid_auto_columns": null,
       "grid_auto_flow": null,
       "grid_auto_rows": null,
       "grid_column": null,
       "grid_gap": null,
       "grid_row": null,
       "grid_template_areas": null,
       "grid_template_columns": null,
       "grid_template_rows": null,
       "height": null,
       "justify_content": null,
       "justify_items": null,
       "left": null,
       "margin": null,
       "max_height": null,
       "max_width": null,
       "min_height": null,
       "min_width": null,
       "object_fit": null,
       "object_position": null,
       "order": null,
       "overflow": null,
       "overflow_x": null,
       "overflow_y": null,
       "padding": null,
       "right": null,
       "top": null,
       "visibility": null,
       "width": null
      }
     },
     "9eff72032e1440589c7536edbae56912": {
      "model_module": "@jupyter-widgets/controls",
      "model_module_version": "1.5.0",
      "model_name": "FloatProgressModel",
      "state": {
       "_dom_classes": [],
       "_model_module": "@jupyter-widgets/controls",
       "_model_module_version": "1.5.0",
       "_model_name": "FloatProgressModel",
       "_view_count": null,
       "_view_module": "@jupyter-widgets/controls",
       "_view_module_version": "1.5.0",
       "_view_name": "ProgressView",
       "bar_style": "success",
       "description": "",
       "description_tooltip": null,
       "layout": "IPY_MODEL_38319da17f3b4d438a369dbe0223dbc5",
       "max": 12617,
       "min": 0,
       "orientation": "horizontal",
       "style": "IPY_MODEL_036323ce9d304f7799a239050c35029f",
       "value": 12617
      }
     },
     "a019904a6ea14dee9732c10eb092df6c": {
      "model_module": "@jupyter-widgets/base",
      "model_module_version": "1.2.0",
      "model_name": "LayoutModel",
      "state": {
       "_model_module": "@jupyter-widgets/base",
       "_model_module_version": "1.2.0",
       "_model_name": "LayoutModel",
       "_view_count": null,
       "_view_module": "@jupyter-widgets/base",
       "_view_module_version": "1.2.0",
       "_view_name": "LayoutView",
       "align_content": null,
       "align_items": null,
       "align_self": null,
       "border": null,
       "bottom": null,
       "display": null,
       "flex": null,
       "flex_flow": null,
       "grid_area": null,
       "grid_auto_columns": null,
       "grid_auto_flow": null,
       "grid_auto_rows": null,
       "grid_column": null,
       "grid_gap": null,
       "grid_row": null,
       "grid_template_areas": null,
       "grid_template_columns": null,
       "grid_template_rows": null,
       "height": null,
       "justify_content": null,
       "justify_items": null,
       "left": null,
       "margin": null,
       "max_height": null,
       "max_width": null,
       "min_height": null,
       "min_width": null,
       "object_fit": null,
       "object_position": null,
       "order": null,
       "overflow": null,
       "overflow_x": null,
       "overflow_y": null,
       "padding": null,
       "right": null,
       "top": null,
       "visibility": null,
       "width": null
      }
     },
     "a13644ee783e4cf583dade75d8254d61": {
      "model_module": "@jupyter-widgets/controls",
      "model_module_version": "1.5.0",
      "model_name": "HTMLModel",
      "state": {
       "_dom_classes": [],
       "_model_module": "@jupyter-widgets/controls",
       "_model_module_version": "1.5.0",
       "_model_name": "HTMLModel",
       "_view_count": null,
       "_view_module": "@jupyter-widgets/controls",
       "_view_module_version": "1.5.0",
       "_view_name": "HTMLView",
       "description": "",
       "description_tooltip": null,
       "layout": "IPY_MODEL_c3f60b503b4e4c678bed24bd9b8479a8",
       "placeholder": "​",
       "style": "IPY_MODEL_6a031cf07201408a8668ec571a7a6300",
       "value": " 6.33k/? [00:00&lt;00:00, 182kB/s]"
      }
     },
     "a379623ed87348aca97333f28b014755": {
      "model_module": "@jupyter-widgets/base",
      "model_module_version": "1.2.0",
      "model_name": "LayoutModel",
      "state": {
       "_model_module": "@jupyter-widgets/base",
       "_model_module_version": "1.2.0",
       "_model_name": "LayoutModel",
       "_view_count": null,
       "_view_module": "@jupyter-widgets/base",
       "_view_module_version": "1.2.0",
       "_view_name": "LayoutView",
       "align_content": null,
       "align_items": null,
       "align_self": null,
       "border": null,
       "bottom": null,
       "display": null,
       "flex": null,
       "flex_flow": null,
       "grid_area": null,
       "grid_auto_columns": null,
       "grid_auto_flow": null,
       "grid_auto_rows": null,
       "grid_column": null,
       "grid_gap": null,
       "grid_row": null,
       "grid_template_areas": null,
       "grid_template_columns": null,
       "grid_template_rows": null,
       "height": null,
       "justify_content": null,
       "justify_items": null,
       "left": null,
       "margin": null,
       "max_height": null,
       "max_width": null,
       "min_height": null,
       "min_width": null,
       "object_fit": null,
       "object_position": null,
       "order": null,
       "overflow": null,
       "overflow_x": null,
       "overflow_y": null,
       "padding": null,
       "right": null,
       "top": null,
       "visibility": null,
       "width": null
      }
     },
     "a506d108cc8b4eba8f1a29f764e5e020": {
      "model_module": "@jupyter-widgets/base",
      "model_module_version": "1.2.0",
      "model_name": "LayoutModel",
      "state": {
       "_model_module": "@jupyter-widgets/base",
       "_model_module_version": "1.2.0",
       "_model_name": "LayoutModel",
       "_view_count": null,
       "_view_module": "@jupyter-widgets/base",
       "_view_module_version": "1.2.0",
       "_view_name": "LayoutView",
       "align_content": null,
       "align_items": null,
       "align_self": null,
       "border": null,
       "bottom": null,
       "display": null,
       "flex": null,
       "flex_flow": null,
       "grid_area": null,
       "grid_auto_columns": null,
       "grid_auto_flow": null,
       "grid_auto_rows": null,
       "grid_column": null,
       "grid_gap": null,
       "grid_row": null,
       "grid_template_areas": null,
       "grid_template_columns": null,
       "grid_template_rows": null,
       "height": null,
       "justify_content": null,
       "justify_items": null,
       "left": null,
       "margin": null,
       "max_height": null,
       "max_width": null,
       "min_height": null,
       "min_width": null,
       "object_fit": null,
       "object_position": null,
       "order": null,
       "overflow": null,
       "overflow_x": null,
       "overflow_y": null,
       "padding": null,
       "right": null,
       "top": null,
       "visibility": null,
       "width": null
      }
     },
     "a633277798bd41198b3c944869cceb81": {
      "model_module": "@jupyter-widgets/controls",
      "model_module_version": "1.5.0",
      "model_name": "ProgressStyleModel",
      "state": {
       "_model_module": "@jupyter-widgets/controls",
       "_model_module_version": "1.5.0",
       "_model_name": "ProgressStyleModel",
       "_view_count": null,
       "_view_module": "@jupyter-widgets/base",
       "_view_module_version": "1.2.0",
       "_view_name": "StyleView",
       "bar_color": null,
       "description_width": ""
      }
     },
     "a74c21fd96264a7c8a78d6c8cc12dc2c": {
      "model_module": "@jupyter-widgets/base",
      "model_module_version": "1.2.0",
      "model_name": "LayoutModel",
      "state": {
       "_model_module": "@jupyter-widgets/base",
       "_model_module_version": "1.2.0",
       "_model_name": "LayoutModel",
       "_view_count": null,
       "_view_module": "@jupyter-widgets/base",
       "_view_module_version": "1.2.0",
       "_view_name": "LayoutView",
       "align_content": null,
       "align_items": null,
       "align_self": null,
       "border": null,
       "bottom": null,
       "display": null,
       "flex": null,
       "flex_flow": null,
       "grid_area": null,
       "grid_auto_columns": null,
       "grid_auto_flow": null,
       "grid_auto_rows": null,
       "grid_column": null,
       "grid_gap": null,
       "grid_row": null,
       "grid_template_areas": null,
       "grid_template_columns": null,
       "grid_template_rows": null,
       "height": null,
       "justify_content": null,
       "justify_items": null,
       "left": null,
       "margin": null,
       "max_height": null,
       "max_width": null,
       "min_height": null,
       "min_width": null,
       "object_fit": null,
       "object_position": null,
       "order": null,
       "overflow": null,
       "overflow_x": null,
       "overflow_y": null,
       "padding": null,
       "right": null,
       "top": null,
       "visibility": null,
       "width": null
      }
     },
     "a97b0b34eb8c4581991ee068b4174462": {
      "model_module": "@jupyter-widgets/base",
      "model_module_version": "1.2.0",
      "model_name": "LayoutModel",
      "state": {
       "_model_module": "@jupyter-widgets/base",
       "_model_module_version": "1.2.0",
       "_model_name": "LayoutModel",
       "_view_count": null,
       "_view_module": "@jupyter-widgets/base",
       "_view_module_version": "1.2.0",
       "_view_name": "LayoutView",
       "align_content": null,
       "align_items": null,
       "align_self": null,
       "border": null,
       "bottom": null,
       "display": null,
       "flex": null,
       "flex_flow": null,
       "grid_area": null,
       "grid_auto_columns": null,
       "grid_auto_flow": null,
       "grid_auto_rows": null,
       "grid_column": null,
       "grid_gap": null,
       "grid_row": null,
       "grid_template_areas": null,
       "grid_template_columns": null,
       "grid_template_rows": null,
       "height": null,
       "justify_content": null,
       "justify_items": null,
       "left": null,
       "margin": null,
       "max_height": null,
       "max_width": null,
       "min_height": null,
       "min_width": null,
       "object_fit": null,
       "object_position": null,
       "order": null,
       "overflow": null,
       "overflow_x": null,
       "overflow_y": null,
       "padding": null,
       "right": null,
       "top": null,
       "visibility": null,
       "width": null
      }
     },
     "ab983edbbb0d4233b0a22ccf81a869c1": {
      "model_module": "@jupyter-widgets/controls",
      "model_module_version": "1.5.0",
      "model_name": "FloatProgressModel",
      "state": {
       "_dom_classes": [],
       "_model_module": "@jupyter-widgets/controls",
       "_model_module_version": "1.5.0",
       "_model_name": "FloatProgressModel",
       "_view_count": null,
       "_view_module": "@jupyter-widgets/controls",
       "_view_module_version": "1.5.0",
       "_view_name": "ProgressView",
       "bar_style": "success",
       "description": "",
       "description_tooltip": null,
       "layout": "IPY_MODEL_31b203b918694a58b67e61febc301b15",
       "max": 20000,
       "min": 0,
       "orientation": "horizontal",
       "style": "IPY_MODEL_0628b8514d2b49608de7d8cdd980c217",
       "value": 20000
      }
     },
     "ae13f3d0fc064831a1e197e49122e57f": {
      "model_module": "@jupyter-widgets/controls",
      "model_module_version": "1.5.0",
      "model_name": "DescriptionStyleModel",
      "state": {
       "_model_module": "@jupyter-widgets/controls",
       "_model_module_version": "1.5.0",
       "_model_name": "DescriptionStyleModel",
       "_view_count": null,
       "_view_module": "@jupyter-widgets/base",
       "_view_module_version": "1.2.0",
       "_view_name": "StyleView",
       "description_width": ""
      }
     },
     "ae6d0eee4ffd46139ac96493bf91b894": {
      "model_module": "@jupyter-widgets/base",
      "model_module_version": "1.2.0",
      "model_name": "LayoutModel",
      "state": {
       "_model_module": "@jupyter-widgets/base",
       "_model_module_version": "1.2.0",
       "_model_name": "LayoutModel",
       "_view_count": null,
       "_view_module": "@jupyter-widgets/base",
       "_view_module_version": "1.2.0",
       "_view_name": "LayoutView",
       "align_content": null,
       "align_items": null,
       "align_self": null,
       "border": null,
       "bottom": null,
       "display": null,
       "flex": null,
       "flex_flow": null,
       "grid_area": null,
       "grid_auto_columns": null,
       "grid_auto_flow": null,
       "grid_auto_rows": null,
       "grid_column": null,
       "grid_gap": null,
       "grid_row": null,
       "grid_template_areas": null,
       "grid_template_columns": null,
       "grid_template_rows": null,
       "height": null,
       "justify_content": null,
       "justify_items": null,
       "left": null,
       "margin": null,
       "max_height": null,
       "max_width": null,
       "min_height": null,
       "min_width": null,
       "object_fit": null,
       "object_position": null,
       "order": null,
       "overflow": null,
       "overflow_x": null,
       "overflow_y": null,
       "padding": null,
       "right": null,
       "top": null,
       "visibility": null,
       "width": null
      }
     },
     "b2381253cdbb4111970ebe4863618f5b": {
      "model_module": "@jupyter-widgets/controls",
      "model_module_version": "1.5.0",
      "model_name": "HTMLModel",
      "state": {
       "_dom_classes": [],
       "_model_module": "@jupyter-widgets/controls",
       "_model_module_version": "1.5.0",
       "_model_name": "HTMLModel",
       "_view_count": null,
       "_view_module": "@jupyter-widgets/controls",
       "_view_module_version": "1.5.0",
       "_view_name": "HTMLView",
       "description": "",
       "description_tooltip": null,
       "layout": "IPY_MODEL_189a8454113b4490b31825aad81755d5",
       "placeholder": "​",
       "style": "IPY_MODEL_98df22c8293b476aa2071e2275f5e021",
       "value": "Generating train split:  99%"
      }
     },
     "b2d6aa54067c452aa92a3fe42e22ff06": {
      "model_module": "@jupyter-widgets/base",
      "model_module_version": "1.2.0",
      "model_name": "LayoutModel",
      "state": {
       "_model_module": "@jupyter-widgets/base",
       "_model_module_version": "1.2.0",
       "_model_name": "LayoutModel",
       "_view_count": null,
       "_view_module": "@jupyter-widgets/base",
       "_view_module_version": "1.2.0",
       "_view_name": "LayoutView",
       "align_content": null,
       "align_items": null,
       "align_self": null,
       "border": null,
       "bottom": null,
       "display": null,
       "flex": null,
       "flex_flow": null,
       "grid_area": null,
       "grid_auto_columns": null,
       "grid_auto_flow": null,
       "grid_auto_rows": null,
       "grid_column": null,
       "grid_gap": null,
       "grid_row": null,
       "grid_template_areas": null,
       "grid_template_columns": null,
       "grid_template_rows": null,
       "height": null,
       "justify_content": null,
       "justify_items": null,
       "left": null,
       "margin": null,
       "max_height": null,
       "max_width": null,
       "min_height": null,
       "min_width": null,
       "object_fit": null,
       "object_position": null,
       "order": null,
       "overflow": null,
       "overflow_x": null,
       "overflow_y": null,
       "padding": null,
       "right": null,
       "top": null,
       "visibility": null,
       "width": null
      }
     },
     "b3b04c7dbccf4d19a5e991ae9d45f9a7": {
      "model_module": "@jupyter-widgets/base",
      "model_module_version": "1.2.0",
      "model_name": "LayoutModel",
      "state": {
       "_model_module": "@jupyter-widgets/base",
       "_model_module_version": "1.2.0",
       "_model_name": "LayoutModel",
       "_view_count": null,
       "_view_module": "@jupyter-widgets/base",
       "_view_module_version": "1.2.0",
       "_view_name": "LayoutView",
       "align_content": null,
       "align_items": null,
       "align_self": null,
       "border": null,
       "bottom": null,
       "display": null,
       "flex": null,
       "flex_flow": null,
       "grid_area": null,
       "grid_auto_columns": null,
       "grid_auto_flow": null,
       "grid_auto_rows": null,
       "grid_column": null,
       "grid_gap": null,
       "grid_row": null,
       "grid_template_areas": null,
       "grid_template_columns": null,
       "grid_template_rows": null,
       "height": null,
       "justify_content": null,
       "justify_items": null,
       "left": null,
       "margin": null,
       "max_height": null,
       "max_width": null,
       "min_height": null,
       "min_width": null,
       "object_fit": null,
       "object_position": null,
       "order": null,
       "overflow": null,
       "overflow_x": null,
       "overflow_y": null,
       "padding": null,
       "right": null,
       "top": null,
       "visibility": null,
       "width": null
      }
     },
     "b4112920cb8a4ddfa11e63ef9816f67f": {
      "model_module": "@jupyter-widgets/controls",
      "model_module_version": "1.5.0",
      "model_name": "HTMLModel",
      "state": {
       "_dom_classes": [],
       "_model_module": "@jupyter-widgets/controls",
       "_model_module_version": "1.5.0",
       "_model_name": "HTMLModel",
       "_view_count": null,
       "_view_module": "@jupyter-widgets/controls",
       "_view_module_version": "1.5.0",
       "_view_name": "HTMLView",
       "description": "",
       "description_tooltip": null,
       "layout": "IPY_MODEL_4a5d28797ef640e4b947d9a50f05daa2",
       "placeholder": "​",
       "style": "IPY_MODEL_8a9662e234494e608adcc9871b9e2597",
       "value": " 40000/40000 [00:19&lt;00:00, 2051.65ex/s]"
      }
     },
     "b591a78e937044b79304fc396a5d5a51": {
      "model_module": "@jupyter-widgets/controls",
      "model_module_version": "1.5.0",
      "model_name": "HTMLModel",
      "state": {
       "_dom_classes": [],
       "_model_module": "@jupyter-widgets/controls",
       "_model_module_version": "1.5.0",
       "_model_name": "HTMLModel",
       "_view_count": null,
       "_view_module": "@jupyter-widgets/controls",
       "_view_module_version": "1.5.0",
       "_view_name": "HTMLView",
       "description": "",
       "description_tooltip": null,
       "layout": "IPY_MODEL_9726dc342d944243b3b4dc60031317e7",
       "placeholder": "​",
       "style": "IPY_MODEL_80940964df8f48b0a1026a55398a43f8",
       "value": "Downloading: 100%"
      }
     },
     "b72cff364ebd44ed941df255c5a5a855": {
      "model_module": "@jupyter-widgets/controls",
      "model_module_version": "1.5.0",
      "model_name": "ProgressStyleModel",
      "state": {
       "_model_module": "@jupyter-widgets/controls",
       "_model_module_version": "1.5.0",
       "_model_name": "ProgressStyleModel",
       "_view_count": null,
       "_view_module": "@jupyter-widgets/base",
       "_view_module_version": "1.2.0",
       "_view_name": "StyleView",
       "bar_color": null,
       "description_width": ""
      }
     },
     "b8c63bd0a6c4428ca954ed509662d446": {
      "model_module": "@jupyter-widgets/base",
      "model_module_version": "1.2.0",
      "model_name": "LayoutModel",
      "state": {
       "_model_module": "@jupyter-widgets/base",
       "_model_module_version": "1.2.0",
       "_model_name": "LayoutModel",
       "_view_count": null,
       "_view_module": "@jupyter-widgets/base",
       "_view_module_version": "1.2.0",
       "_view_name": "LayoutView",
       "align_content": null,
       "align_items": null,
       "align_self": null,
       "border": null,
       "bottom": null,
       "display": null,
       "flex": null,
       "flex_flow": null,
       "grid_area": null,
       "grid_auto_columns": null,
       "grid_auto_flow": null,
       "grid_auto_rows": null,
       "grid_column": null,
       "grid_gap": null,
       "grid_row": null,
       "grid_template_areas": null,
       "grid_template_columns": null,
       "grid_template_rows": null,
       "height": null,
       "justify_content": null,
       "justify_items": null,
       "left": null,
       "margin": null,
       "max_height": null,
       "max_width": null,
       "min_height": null,
       "min_width": null,
       "object_fit": null,
       "object_position": null,
       "order": null,
       "overflow": null,
       "overflow_x": null,
       "overflow_y": null,
       "padding": null,
       "right": null,
       "top": null,
       "visibility": null,
       "width": null
      }
     },
     "b99b862a7ae64cb4a46cb4515340c341": {
      "model_module": "@jupyter-widgets/controls",
      "model_module_version": "1.5.0",
      "model_name": "DescriptionStyleModel",
      "state": {
       "_model_module": "@jupyter-widgets/controls",
       "_model_module_version": "1.5.0",
       "_model_name": "DescriptionStyleModel",
       "_view_count": null,
       "_view_module": "@jupyter-widgets/base",
       "_view_module_version": "1.2.0",
       "_view_name": "StyleView",
       "description_width": ""
      }
     },
     "ba33a64f14154d3282263477c19ff0cb": {
      "model_module": "@jupyter-widgets/base",
      "model_module_version": "1.2.0",
      "model_name": "LayoutModel",
      "state": {
       "_model_module": "@jupyter-widgets/base",
       "_model_module_version": "1.2.0",
       "_model_name": "LayoutModel",
       "_view_count": null,
       "_view_module": "@jupyter-widgets/base",
       "_view_module_version": "1.2.0",
       "_view_name": "LayoutView",
       "align_content": null,
       "align_items": null,
       "align_self": null,
       "border": null,
       "bottom": null,
       "display": null,
       "flex": null,
       "flex_flow": null,
       "grid_area": null,
       "grid_auto_columns": null,
       "grid_auto_flow": null,
       "grid_auto_rows": null,
       "grid_column": null,
       "grid_gap": null,
       "grid_row": null,
       "grid_template_areas": null,
       "grid_template_columns": null,
       "grid_template_rows": null,
       "height": null,
       "justify_content": null,
       "justify_items": null,
       "left": null,
       "margin": null,
       "max_height": null,
       "max_width": null,
       "min_height": null,
       "min_width": null,
       "object_fit": null,
       "object_position": null,
       "order": null,
       "overflow": null,
       "overflow_x": null,
       "overflow_y": null,
       "padding": null,
       "right": null,
       "top": null,
       "visibility": null,
       "width": null
      }
     },
     "bb0b3891cdd44c208ea82b2aed0bfaf3": {
      "model_module": "@jupyter-widgets/controls",
      "model_module_version": "1.5.0",
      "model_name": "HTMLModel",
      "state": {
       "_dom_classes": [],
       "_model_module": "@jupyter-widgets/controls",
       "_model_module_version": "1.5.0",
       "_model_name": "HTMLModel",
       "_view_count": null,
       "_view_module": "@jupyter-widgets/controls",
       "_view_module_version": "1.5.0",
       "_view_name": "HTMLView",
       "description": "",
       "description_tooltip": null,
       "layout": "IPY_MODEL_7409916b1b944f19b36d3e8437c28497",
       "placeholder": "​",
       "style": "IPY_MODEL_d4ae63a56e0048ab80e0442796e36b63",
       "value": " 617k/? [00:00&lt;00:00, 15.7MB/s]"
      }
     },
     "bb34070d0b48442c8ea7067f05487407": {
      "model_module": "@jupyter-widgets/controls",
      "model_module_version": "1.5.0",
      "model_name": "FloatProgressModel",
      "state": {
       "_dom_classes": [],
       "_model_module": "@jupyter-widgets/controls",
       "_model_module_version": "1.5.0",
       "_model_name": "FloatProgressModel",
       "_view_count": null,
       "_view_module": "@jupyter-widgets/controls",
       "_view_module_version": "1.5.0",
       "_view_name": "ProgressView",
       "bar_style": "success",
       "description": "",
       "description_tooltip": null,
       "layout": "IPY_MODEL_0809f72358b94f85ad5f7a845700836f",
       "max": 2472,
       "min": 0,
       "orientation": "horizontal",
       "style": "IPY_MODEL_8913a95f61f34a2395c286097030d270",
       "value": 2472
      }
     },
     "bbe329be64244c23b3b7bd6f0c373b91": {
      "model_module": "@jupyter-widgets/controls",
      "model_module_version": "1.5.0",
      "model_name": "HTMLModel",
      "state": {
       "_dom_classes": [],
       "_model_module": "@jupyter-widgets/controls",
       "_model_module_version": "1.5.0",
       "_model_name": "HTMLModel",
       "_view_count": null,
       "_view_module": "@jupyter-widgets/controls",
       "_view_module_version": "1.5.0",
       "_view_name": "HTMLView",
       "description": "",
       "description_tooltip": null,
       "layout": "IPY_MODEL_fdbff3dee54044c8a764365535ab7fb4",
       "placeholder": "​",
       "style": "IPY_MODEL_83c985d00a60483da1d5cd9aeea620ad",
       "value": "Downloading data: 100%"
      }
     },
     "bef8d3b18dca4865a05e7172cdd83fda": {
      "model_module": "@jupyter-widgets/controls",
      "model_module_version": "1.5.0",
      "model_name": "HTMLModel",
      "state": {
       "_dom_classes": [],
       "_model_module": "@jupyter-widgets/controls",
       "_model_module_version": "1.5.0",
       "_model_name": "HTMLModel",
       "_view_count": null,
       "_view_module": "@jupyter-widgets/controls",
       "_view_module_version": "1.5.0",
       "_view_name": "HTMLView",
       "description": "",
       "description_tooltip": null,
       "layout": "IPY_MODEL_8c79de413f6f475e890623683e3ee1d6",
       "placeholder": "​",
       "style": "IPY_MODEL_2cc15b3dddcf4d9caec115ad15a09493",
       "value": "Downloading builder script: "
      }
     },
     "bf92cdd2d7fd42d99b4566119f3291cf": {
      "model_module": "@jupyter-widgets/base",
      "model_module_version": "1.2.0",
      "model_name": "LayoutModel",
      "state": {
       "_model_module": "@jupyter-widgets/base",
       "_model_module_version": "1.2.0",
       "_model_name": "LayoutModel",
       "_view_count": null,
       "_view_module": "@jupyter-widgets/base",
       "_view_module_version": "1.2.0",
       "_view_name": "LayoutView",
       "align_content": null,
       "align_items": null,
       "align_self": null,
       "border": null,
       "bottom": null,
       "display": null,
       "flex": null,
       "flex_flow": null,
       "grid_area": null,
       "grid_auto_columns": null,
       "grid_auto_flow": null,
       "grid_auto_rows": null,
       "grid_column": null,
       "grid_gap": null,
       "grid_row": null,
       "grid_template_areas": null,
       "grid_template_columns": null,
       "grid_template_rows": null,
       "height": null,
       "justify_content": null,
       "justify_items": null,
       "left": null,
       "margin": null,
       "max_height": null,
       "max_width": null,
       "min_height": null,
       "min_width": null,
       "object_fit": null,
       "object_position": null,
       "order": null,
       "overflow": null,
       "overflow_x": null,
       "overflow_y": null,
       "padding": null,
       "right": null,
       "top": null,
       "visibility": null,
       "width": null
      }
     },
     "c2878f4f8cbd4db88b4900c79e524738": {
      "model_module": "@jupyter-widgets/controls",
      "model_module_version": "1.5.0",
      "model_name": "ProgressStyleModel",
      "state": {
       "_model_module": "@jupyter-widgets/controls",
       "_model_module_version": "1.5.0",
       "_model_name": "ProgressStyleModel",
       "_view_count": null,
       "_view_module": "@jupyter-widgets/base",
       "_view_module_version": "1.2.0",
       "_view_name": "StyleView",
       "bar_color": null,
       "description_width": ""
      }
     },
     "c3f60b503b4e4c678bed24bd9b8479a8": {
      "model_module": "@jupyter-widgets/base",
      "model_module_version": "1.2.0",
      "model_name": "LayoutModel",
      "state": {
       "_model_module": "@jupyter-widgets/base",
       "_model_module_version": "1.2.0",
       "_model_name": "LayoutModel",
       "_view_count": null,
       "_view_module": "@jupyter-widgets/base",
       "_view_module_version": "1.2.0",
       "_view_name": "LayoutView",
       "align_content": null,
       "align_items": null,
       "align_self": null,
       "border": null,
       "bottom": null,
       "display": null,
       "flex": null,
       "flex_flow": null,
       "grid_area": null,
       "grid_auto_columns": null,
       "grid_auto_flow": null,
       "grid_auto_rows": null,
       "grid_column": null,
       "grid_gap": null,
       "grid_row": null,
       "grid_template_areas": null,
       "grid_template_columns": null,
       "grid_template_rows": null,
       "height": null,
       "justify_content": null,
       "justify_items": null,
       "left": null,
       "margin": null,
       "max_height": null,
       "max_width": null,
       "min_height": null,
       "min_width": null,
       "object_fit": null,
       "object_position": null,
       "order": null,
       "overflow": null,
       "overflow_x": null,
       "overflow_y": null,
       "padding": null,
       "right": null,
       "top": null,
       "visibility": null,
       "width": null
      }
     },
     "c89ad14c15e7494e8bea9d7fbf89e5c7": {
      "model_module": "@jupyter-widgets/base",
      "model_module_version": "1.2.0",
      "model_name": "LayoutModel",
      "state": {
       "_model_module": "@jupyter-widgets/base",
       "_model_module_version": "1.2.0",
       "_model_name": "LayoutModel",
       "_view_count": null,
       "_view_module": "@jupyter-widgets/base",
       "_view_module_version": "1.2.0",
       "_view_name": "LayoutView",
       "align_content": null,
       "align_items": null,
       "align_self": null,
       "border": null,
       "bottom": null,
       "display": null,
       "flex": null,
       "flex_flow": null,
       "grid_area": null,
       "grid_auto_columns": null,
       "grid_auto_flow": null,
       "grid_auto_rows": null,
       "grid_column": null,
       "grid_gap": null,
       "grid_row": null,
       "grid_template_areas": null,
       "grid_template_columns": null,
       "grid_template_rows": null,
       "height": null,
       "justify_content": null,
       "justify_items": null,
       "left": null,
       "margin": null,
       "max_height": null,
       "max_width": null,
       "min_height": null,
       "min_width": null,
       "object_fit": null,
       "object_position": null,
       "order": null,
       "overflow": null,
       "overflow_x": null,
       "overflow_y": null,
       "padding": null,
       "right": null,
       "top": null,
       "visibility": null,
       "width": null
      }
     },
     "ca4a4f173fe44c809cfb10a329b8732d": {
      "model_module": "@jupyter-widgets/base",
      "model_module_version": "1.2.0",
      "model_name": "LayoutModel",
      "state": {
       "_model_module": "@jupyter-widgets/base",
       "_model_module_version": "1.2.0",
       "_model_name": "LayoutModel",
       "_view_count": null,
       "_view_module": "@jupyter-widgets/base",
       "_view_module_version": "1.2.0",
       "_view_name": "LayoutView",
       "align_content": null,
       "align_items": null,
       "align_self": null,
       "border": null,
       "bottom": null,
       "display": null,
       "flex": null,
       "flex_flow": null,
       "grid_area": null,
       "grid_auto_columns": null,
       "grid_auto_flow": null,
       "grid_auto_rows": null,
       "grid_column": null,
       "grid_gap": null,
       "grid_row": null,
       "grid_template_areas": null,
       "grid_template_columns": null,
       "grid_template_rows": null,
       "height": null,
       "justify_content": null,
       "justify_items": null,
       "left": null,
       "margin": null,
       "max_height": null,
       "max_width": null,
       "min_height": null,
       "min_width": null,
       "object_fit": null,
       "object_position": null,
       "order": null,
       "overflow": null,
       "overflow_x": null,
       "overflow_y": null,
       "padding": null,
       "right": null,
       "top": null,
       "visibility": null,
       "width": null
      }
     },
     "cb6c08158d22485d9339afa01ef77876": {
      "model_module": "@jupyter-widgets/controls",
      "model_module_version": "1.5.0",
      "model_name": "DescriptionStyleModel",
      "state": {
       "_model_module": "@jupyter-widgets/controls",
       "_model_module_version": "1.5.0",
       "_model_name": "DescriptionStyleModel",
       "_view_count": null,
       "_view_module": "@jupyter-widgets/base",
       "_view_module_version": "1.2.0",
       "_view_name": "StyleView",
       "description_width": ""
      }
     },
     "cd3b55d2629f4d08997c19ad6d737bbd": {
      "model_module": "@jupyter-widgets/controls",
      "model_module_version": "1.5.0",
      "model_name": "HTMLModel",
      "state": {
       "_dom_classes": [],
       "_model_module": "@jupyter-widgets/controls",
       "_model_module_version": "1.5.0",
       "_model_name": "HTMLModel",
       "_view_count": null,
       "_view_module": "@jupyter-widgets/controls",
       "_view_module_version": "1.5.0",
       "_view_name": "HTMLView",
       "description": "",
       "description_tooltip": null,
       "layout": "IPY_MODEL_b2d6aa54067c452aa92a3fe42e22ff06",
       "placeholder": "​",
       "style": "IPY_MODEL_cb6c08158d22485d9339afa01ef77876",
       "value": " 234M/234M [00:09&lt;00:00, 26.2MB/s]"
      }
     },
     "d0f56e48ec0d446ba3b34a2d549e8d95": {
      "model_module": "@jupyter-widgets/controls",
      "model_module_version": "1.5.0",
      "model_name": "ProgressStyleModel",
      "state": {
       "_model_module": "@jupyter-widgets/controls",
       "_model_module_version": "1.5.0",
       "_model_name": "ProgressStyleModel",
       "_view_count": null,
       "_view_module": "@jupyter-widgets/base",
       "_view_module_version": "1.2.0",
       "_view_name": "StyleView",
       "bar_color": null,
       "description_width": ""
      }
     },
     "d1c9b84dd8fa4d9ab277b64cc9e63d14": {
      "model_module": "@jupyter-widgets/controls",
      "model_module_version": "1.5.0",
      "model_name": "DescriptionStyleModel",
      "state": {
       "_model_module": "@jupyter-widgets/controls",
       "_model_module_version": "1.5.0",
       "_model_name": "DescriptionStyleModel",
       "_view_count": null,
       "_view_module": "@jupyter-widgets/base",
       "_view_module_version": "1.2.0",
       "_view_name": "StyleView",
       "description_width": ""
      }
     },
     "d1cabc7ebde243f7aa1cb81fd60b62cf": {
      "model_module": "@jupyter-widgets/controls",
      "model_module_version": "1.5.0",
      "model_name": "DescriptionStyleModel",
      "state": {
       "_model_module": "@jupyter-widgets/controls",
       "_model_module_version": "1.5.0",
       "_model_name": "DescriptionStyleModel",
       "_view_count": null,
       "_view_module": "@jupyter-widgets/base",
       "_view_module_version": "1.2.0",
       "_view_name": "StyleView",
       "description_width": ""
      }
     },
     "d2b5aad2fd3a4066b5b25fa9c8d4c246": {
      "model_module": "@jupyter-widgets/base",
      "model_module_version": "1.2.0",
      "model_name": "LayoutModel",
      "state": {
       "_model_module": "@jupyter-widgets/base",
       "_model_module_version": "1.2.0",
       "_model_name": "LayoutModel",
       "_view_count": null,
       "_view_module": "@jupyter-widgets/base",
       "_view_module_version": "1.2.0",
       "_view_name": "LayoutView",
       "align_content": null,
       "align_items": null,
       "align_self": null,
       "border": null,
       "bottom": null,
       "display": null,
       "flex": null,
       "flex_flow": null,
       "grid_area": null,
       "grid_auto_columns": null,
       "grid_auto_flow": null,
       "grid_auto_rows": null,
       "grid_column": null,
       "grid_gap": null,
       "grid_row": null,
       "grid_template_areas": null,
       "grid_template_columns": null,
       "grid_template_rows": null,
       "height": null,
       "justify_content": null,
       "justify_items": null,
       "left": null,
       "margin": null,
       "max_height": null,
       "max_width": null,
       "min_height": null,
       "min_width": null,
       "object_fit": null,
       "object_position": null,
       "order": null,
       "overflow": null,
       "overflow_x": null,
       "overflow_y": null,
       "padding": null,
       "right": null,
       "top": null,
       "visibility": null,
       "width": null
      }
     },
     "d3fcfd367da84d3892d4c96e487dba03": {
      "model_module": "@jupyter-widgets/base",
      "model_module_version": "1.2.0",
      "model_name": "LayoutModel",
      "state": {
       "_model_module": "@jupyter-widgets/base",
       "_model_module_version": "1.2.0",
       "_model_name": "LayoutModel",
       "_view_count": null,
       "_view_module": "@jupyter-widgets/base",
       "_view_module_version": "1.2.0",
       "_view_name": "LayoutView",
       "align_content": null,
       "align_items": null,
       "align_self": null,
       "border": null,
       "bottom": null,
       "display": null,
       "flex": null,
       "flex_flow": null,
       "grid_area": null,
       "grid_auto_columns": null,
       "grid_auto_flow": null,
       "grid_auto_rows": null,
       "grid_column": null,
       "grid_gap": null,
       "grid_row": null,
       "grid_template_areas": null,
       "grid_template_columns": null,
       "grid_template_rows": null,
       "height": null,
       "justify_content": null,
       "justify_items": null,
       "left": null,
       "margin": null,
       "max_height": null,
       "max_width": null,
       "min_height": null,
       "min_width": null,
       "object_fit": null,
       "object_position": null,
       "order": null,
       "overflow": null,
       "overflow_x": null,
       "overflow_y": null,
       "padding": null,
       "right": null,
       "top": null,
       "visibility": null,
       "width": null
      }
     },
     "d4ae63a56e0048ab80e0442796e36b63": {
      "model_module": "@jupyter-widgets/controls",
      "model_module_version": "1.5.0",
      "model_name": "DescriptionStyleModel",
      "state": {
       "_model_module": "@jupyter-widgets/controls",
       "_model_module_version": "1.5.0",
       "_model_name": "DescriptionStyleModel",
       "_view_count": null,
       "_view_module": "@jupyter-widgets/base",
       "_view_module_version": "1.2.0",
       "_view_name": "StyleView",
       "description_width": ""
      }
     },
     "d764fc3503964a37b03fa715e7727c96": {
      "model_module": "@jupyter-widgets/base",
      "model_module_version": "1.2.0",
      "model_name": "LayoutModel",
      "state": {
       "_model_module": "@jupyter-widgets/base",
       "_model_module_version": "1.2.0",
       "_model_name": "LayoutModel",
       "_view_count": null,
       "_view_module": "@jupyter-widgets/base",
       "_view_module_version": "1.2.0",
       "_view_name": "LayoutView",
       "align_content": null,
       "align_items": null,
       "align_self": null,
       "border": null,
       "bottom": null,
       "display": null,
       "flex": null,
       "flex_flow": null,
       "grid_area": null,
       "grid_auto_columns": null,
       "grid_auto_flow": null,
       "grid_auto_rows": null,
       "grid_column": null,
       "grid_gap": null,
       "grid_row": null,
       "grid_template_areas": null,
       "grid_template_columns": null,
       "grid_template_rows": null,
       "height": null,
       "justify_content": null,
       "justify_items": null,
       "left": null,
       "margin": null,
       "max_height": null,
       "max_width": null,
       "min_height": null,
       "min_width": null,
       "object_fit": null,
       "object_position": null,
       "order": null,
       "overflow": null,
       "overflow_x": null,
       "overflow_y": null,
       "padding": null,
       "right": null,
       "top": null,
       "visibility": null,
       "width": null
      }
     },
     "dce6879463ab46f890f6928448e1fe75": {
      "model_module": "@jupyter-widgets/controls",
      "model_module_version": "1.5.0",
      "model_name": "FloatProgressModel",
      "state": {
       "_dom_classes": [],
       "_model_module": "@jupyter-widgets/controls",
       "_model_module_version": "1.5.0",
       "_model_name": "FloatProgressModel",
       "_view_count": null,
       "_view_module": "@jupyter-widgets/controls",
       "_view_module_version": "1.5.0",
       "_view_name": "ProgressView",
       "bar_style": "success",
       "description": "",
       "description_tooltip": null,
       "layout": "IPY_MODEL_952455922e9a419a9d5219d6486c82cc",
       "max": 616,
       "min": 0,
       "orientation": "horizontal",
       "style": "IPY_MODEL_b72cff364ebd44ed941df255c5a5a855",
       "value": 616
      }
     },
     "df908e4201d34756bab118b8c6f22d10": {
      "model_module": "@jupyter-widgets/controls",
      "model_module_version": "1.5.0",
      "model_name": "HTMLModel",
      "state": {
       "_dom_classes": [],
       "_model_module": "@jupyter-widgets/controls",
       "_model_module_version": "1.5.0",
       "_model_name": "HTMLModel",
       "_view_count": null,
       "_view_module": "@jupyter-widgets/controls",
       "_view_module_version": "1.5.0",
       "_view_name": "HTMLView",
       "description": "",
       "description_tooltip": null,
       "layout": "IPY_MODEL_73a5c947474642e0b1f04c5ddf0183d8",
       "placeholder": "​",
       "style": "IPY_MODEL_63cc2ca0b2544b6c9659dc6ecd686b5b",
       "value": "100%"
      }
     },
     "e12f6943ac1a444293f6213dfc500511": {
      "model_module": "@jupyter-widgets/base",
      "model_module_version": "1.2.0",
      "model_name": "LayoutModel",
      "state": {
       "_model_module": "@jupyter-widgets/base",
       "_model_module_version": "1.2.0",
       "_model_name": "LayoutModel",
       "_view_count": null,
       "_view_module": "@jupyter-widgets/base",
       "_view_module_version": "1.2.0",
       "_view_name": "LayoutView",
       "align_content": null,
       "align_items": null,
       "align_self": null,
       "border": null,
       "bottom": null,
       "display": null,
       "flex": null,
       "flex_flow": null,
       "grid_area": null,
       "grid_auto_columns": null,
       "grid_auto_flow": null,
       "grid_auto_rows": null,
       "grid_column": null,
       "grid_gap": null,
       "grid_row": null,
       "grid_template_areas": null,
       "grid_template_columns": null,
       "grid_template_rows": null,
       "height": null,
       "justify_content": null,
       "justify_items": null,
       "left": null,
       "margin": null,
       "max_height": null,
       "max_width": null,
       "min_height": null,
       "min_width": null,
       "object_fit": null,
       "object_position": null,
       "order": null,
       "overflow": null,
       "overflow_x": null,
       "overflow_y": null,
       "padding": null,
       "right": null,
       "top": null,
       "visibility": null,
       "width": null
      }
     },
     "e17623b5760d4bd1ab3e2ef18ea3c7f4": {
      "model_module": "@jupyter-widgets/controls",
      "model_module_version": "1.5.0",
      "model_name": "HTMLModel",
      "state": {
       "_dom_classes": [],
       "_model_module": "@jupyter-widgets/controls",
       "_model_module_version": "1.5.0",
       "_model_name": "HTMLModel",
       "_view_count": null,
       "_view_module": "@jupyter-widgets/controls",
       "_view_module_version": "1.5.0",
       "_view_name": "HTMLView",
       "description": "",
       "description_tooltip": null,
       "layout": "IPY_MODEL_89efd55fb77a4b36b4ea74b0d7ac9cb7",
       "placeholder": "​",
       "style": "IPY_MODEL_ae13f3d0fc064831a1e197e49122e57f",
       "value": "Downloading: 100%"
      }
     },
     "e232774827404ad2a118c7fb2fdb2491": {
      "model_module": "@jupyter-widgets/base",
      "model_module_version": "1.2.0",
      "model_name": "LayoutModel",
      "state": {
       "_model_module": "@jupyter-widgets/base",
       "_model_module_version": "1.2.0",
       "_model_name": "LayoutModel",
       "_view_count": null,
       "_view_module": "@jupyter-widgets/base",
       "_view_module_version": "1.2.0",
       "_view_name": "LayoutView",
       "align_content": null,
       "align_items": null,
       "align_self": null,
       "border": null,
       "bottom": null,
       "display": null,
       "flex": null,
       "flex_flow": null,
       "grid_area": null,
       "grid_auto_columns": null,
       "grid_auto_flow": null,
       "grid_auto_rows": null,
       "grid_column": null,
       "grid_gap": null,
       "grid_row": null,
       "grid_template_areas": null,
       "grid_template_columns": null,
       "grid_template_rows": null,
       "height": null,
       "justify_content": null,
       "justify_items": null,
       "left": null,
       "margin": null,
       "max_height": null,
       "max_width": null,
       "min_height": null,
       "min_width": null,
       "object_fit": null,
       "object_position": null,
       "order": null,
       "overflow": null,
       "overflow_x": null,
       "overflow_y": null,
       "padding": null,
       "right": null,
       "top": null,
       "visibility": null,
       "width": null
      }
     },
     "e2346c7b9ad94a548686af4ccf4e0744": {
      "model_module": "@jupyter-widgets/controls",
      "model_module_version": "1.5.0",
      "model_name": "HTMLModel",
      "state": {
       "_dom_classes": [],
       "_model_module": "@jupyter-widgets/controls",
       "_model_module_version": "1.5.0",
       "_model_name": "HTMLModel",
       "_view_count": null,
       "_view_module": "@jupyter-widgets/controls",
       "_view_module_version": "1.5.0",
       "_view_name": "HTMLView",
       "description": "",
       "description_tooltip": null,
       "layout": "IPY_MODEL_01e15aaa706141f8ae5880dcfaa56979",
       "placeholder": "​",
       "style": "IPY_MODEL_09301e7c47304424a39270667f594d44",
       "value": "100%"
      }
     },
     "e2572d5a0b954321b741545ecc1d2143": {
      "model_module": "@jupyter-widgets/base",
      "model_module_version": "1.2.0",
      "model_name": "LayoutModel",
      "state": {
       "_model_module": "@jupyter-widgets/base",
       "_model_module_version": "1.2.0",
       "_model_name": "LayoutModel",
       "_view_count": null,
       "_view_module": "@jupyter-widgets/base",
       "_view_module_version": "1.2.0",
       "_view_name": "LayoutView",
       "align_content": null,
       "align_items": null,
       "align_self": null,
       "border": null,
       "bottom": null,
       "display": null,
       "flex": null,
       "flex_flow": null,
       "grid_area": null,
       "grid_auto_columns": null,
       "grid_auto_flow": null,
       "grid_auto_rows": null,
       "grid_column": null,
       "grid_gap": null,
       "grid_row": null,
       "grid_template_areas": null,
       "grid_template_columns": null,
       "grid_template_rows": null,
       "height": null,
       "justify_content": null,
       "justify_items": null,
       "left": null,
       "margin": null,
       "max_height": null,
       "max_width": null,
       "min_height": null,
       "min_width": null,
       "object_fit": null,
       "object_position": null,
       "order": null,
       "overflow": null,
       "overflow_x": null,
       "overflow_y": null,
       "padding": null,
       "right": null,
       "top": null,
       "visibility": null,
       "width": null
      }
     },
     "e37458b5bc6c4ef8983fceefb1c41a64": {
      "model_module": "@jupyter-widgets/controls",
      "model_module_version": "1.5.0",
      "model_name": "ProgressStyleModel",
      "state": {
       "_model_module": "@jupyter-widgets/controls",
       "_model_module_version": "1.5.0",
       "_model_name": "ProgressStyleModel",
       "_view_count": null,
       "_view_module": "@jupyter-widgets/base",
       "_view_module_version": "1.2.0",
       "_view_name": "StyleView",
       "bar_color": null,
       "description_width": ""
      }
     },
     "e83cd488e7854610920ec30b161d4259": {
      "model_module": "@jupyter-widgets/controls",
      "model_module_version": "1.5.0",
      "model_name": "HTMLModel",
      "state": {
       "_dom_classes": [],
       "_model_module": "@jupyter-widgets/controls",
       "_model_module_version": "1.5.0",
       "_model_name": "HTMLModel",
       "_view_count": null,
       "_view_module": "@jupyter-widgets/controls",
       "_view_module_version": "1.5.0",
       "_view_name": "HTMLView",
       "description": "",
       "description_tooltip": null,
       "layout": "IPY_MODEL_f4262102f6d040e4954d9b64a31c81a5",
       "placeholder": "​",
       "style": "IPY_MODEL_6bacaa11524d43578ac2b7fc364fb209",
       "value": " 9972/10000 [00:02&lt;00:00, 4676.21 examples/s]"
      }
     },
     "e88e5415b01f4ebeb115ddb7a08a31fa": {
      "model_module": "@jupyter-widgets/controls",
      "model_module_version": "1.5.0",
      "model_name": "HBoxModel",
      "state": {
       "_dom_classes": [],
       "_model_module": "@jupyter-widgets/controls",
       "_model_module_version": "1.5.0",
       "_model_name": "HBoxModel",
       "_view_count": null,
       "_view_module": "@jupyter-widgets/controls",
       "_view_module_version": "1.5.0",
       "_view_name": "HBoxView",
       "box_style": "",
       "children": [
        "IPY_MODEL_6c0e9328fad8411da4b9b193c7feaf56",
        "IPY_MODEL_e94647b67bce4feba9ef7e23444c9fd5",
        "IPY_MODEL_21afe78bbc56403ebd1bd288d2d14631"
       ],
       "layout": "IPY_MODEL_ca4a4f173fe44c809cfb10a329b8732d"
      }
     },
     "e94647b67bce4feba9ef7e23444c9fd5": {
      "model_module": "@jupyter-widgets/controls",
      "model_module_version": "1.5.0",
      "model_name": "FloatProgressModel",
      "state": {
       "_dom_classes": [],
       "_model_module": "@jupyter-widgets/controls",
       "_model_module_version": "1.5.0",
       "_model_name": "FloatProgressModel",
       "_view_count": null,
       "_view_module": "@jupyter-widgets/controls",
       "_view_module_version": "1.5.0",
       "_view_name": "ProgressView",
       "bar_style": "",
       "description": "",
       "description_tooltip": null,
       "layout": "IPY_MODEL_47983a8a99d24761aecd580bd7e26bdb",
       "max": 10000,
       "min": 0,
       "orientation": "horizontal",
       "style": "IPY_MODEL_a633277798bd41198b3c944869cceb81",
       "value": 10000
      }
     },
     "e95327eb9bbe4b1593a954e711be32d1": {
      "model_module": "@jupyter-widgets/controls",
      "model_module_version": "1.5.0",
      "model_name": "HTMLModel",
      "state": {
       "_dom_classes": [],
       "_model_module": "@jupyter-widgets/controls",
       "_model_module_version": "1.5.0",
       "_model_name": "HTMLModel",
       "_view_count": null,
       "_view_module": "@jupyter-widgets/controls",
       "_view_module_version": "1.5.0",
       "_view_name": "HTMLView",
       "description": "",
       "description_tooltip": null,
       "layout": "IPY_MODEL_34b2e890b2e54f94aa5a8fbc6dc93200",
       "placeholder": "​",
       "style": "IPY_MODEL_01af3703e17a443c8cd383178fc6c162",
       "value": " 20000/20000 [00:10&lt;00:00, 1518.97ex/s]"
      }
     },
     "eb83dcdddf814d9b84bb597c83c6c898": {
      "model_module": "@jupyter-widgets/controls",
      "model_module_version": "1.5.0",
      "model_name": "HTMLModel",
      "state": {
       "_dom_classes": [],
       "_model_module": "@jupyter-widgets/controls",
       "_model_module_version": "1.5.0",
       "_model_name": "HTMLModel",
       "_view_count": null,
       "_view_module": "@jupyter-widgets/controls",
       "_view_module_version": "1.5.0",
       "_view_name": "HTMLView",
       "description": "",
       "description_tooltip": null,
       "layout": "IPY_MODEL_ecaaed8ecc7146719676685d381f7baf",
       "placeholder": "​",
       "style": "IPY_MODEL_d1cabc7ebde243f7aa1cb81fd60b62cf",
       "value": "Generating train split:  99%"
      }
     },
     "ecaaed8ecc7146719676685d381f7baf": {
      "model_module": "@jupyter-widgets/base",
      "model_module_version": "1.2.0",
      "model_name": "LayoutModel",
      "state": {
       "_model_module": "@jupyter-widgets/base",
       "_model_module_version": "1.2.0",
       "_model_name": "LayoutModel",
       "_view_count": null,
       "_view_module": "@jupyter-widgets/base",
       "_view_module_version": "1.2.0",
       "_view_name": "LayoutView",
       "align_content": null,
       "align_items": null,
       "align_self": null,
       "border": null,
       "bottom": null,
       "display": null,
       "flex": null,
       "flex_flow": null,
       "grid_area": null,
       "grid_auto_columns": null,
       "grid_auto_flow": null,
       "grid_auto_rows": null,
       "grid_column": null,
       "grid_gap": null,
       "grid_row": null,
       "grid_template_areas": null,
       "grid_template_columns": null,
       "grid_template_rows": null,
       "height": null,
       "justify_content": null,
       "justify_items": null,
       "left": null,
       "margin": null,
       "max_height": null,
       "max_width": null,
       "min_height": null,
       "min_width": null,
       "object_fit": null,
       "object_position": null,
       "order": null,
       "overflow": null,
       "overflow_x": null,
       "overflow_y": null,
       "padding": null,
       "right": null,
       "top": null,
       "visibility": null,
       "width": null
      }
     },
     "ed4f9dc2de1b45df97e6c0a9b46251a5": {
      "model_module": "@jupyter-widgets/controls",
      "model_module_version": "1.5.0",
      "model_name": "HBoxModel",
      "state": {
       "_dom_classes": [],
       "_model_module": "@jupyter-widgets/controls",
       "_model_module_version": "1.5.0",
       "_model_name": "HBoxModel",
       "_view_count": null,
       "_view_module": "@jupyter-widgets/controls",
       "_view_module_version": "1.5.0",
       "_view_name": "HBoxView",
       "box_style": "",
       "children": [
        "IPY_MODEL_df908e4201d34756bab118b8c6f22d10",
        "IPY_MODEL_9c298f7fb7194ec8b4209764e09ce77d",
        "IPY_MODEL_6e9b82cab7094a7cbe8536ce689ce130"
       ],
       "layout": "IPY_MODEL_48d4a0679b5b4e99b49fa488a06b6eb8"
      }
     },
     "edcc4fae09c24e43a6e6c936d53df71c": {
      "model_module": "@jupyter-widgets/controls",
      "model_module_version": "1.5.0",
      "model_name": "ProgressStyleModel",
      "state": {
       "_model_module": "@jupyter-widgets/controls",
       "_model_module_version": "1.5.0",
       "_model_name": "ProgressStyleModel",
       "_view_count": null,
       "_view_module": "@jupyter-widgets/base",
       "_view_module_version": "1.2.0",
       "_view_name": "StyleView",
       "bar_color": null,
       "description_width": ""
      }
     },
     "f1cdeea7c4e843348c5bdccf55e1e220": {
      "model_module": "@jupyter-widgets/controls",
      "model_module_version": "1.5.0",
      "model_name": "HBoxModel",
      "state": {
       "_dom_classes": [],
       "_model_module": "@jupyter-widgets/controls",
       "_model_module_version": "1.5.0",
       "_model_name": "HBoxModel",
       "_view_count": null,
       "_view_module": "@jupyter-widgets/controls",
       "_view_module_version": "1.5.0",
       "_view_name": "HBoxView",
       "box_style": "",
       "children": [
        "IPY_MODEL_bef8d3b18dca4865a05e7172cdd83fda",
        "IPY_MODEL_bb34070d0b48442c8ea7067f05487407",
        "IPY_MODEL_a13644ee783e4cf583dade75d8254d61"
       ],
       "layout": "IPY_MODEL_d2b5aad2fd3a4066b5b25fa9c8d4c246"
      }
     },
     "f4262102f6d040e4954d9b64a31c81a5": {
      "model_module": "@jupyter-widgets/base",
      "model_module_version": "1.2.0",
      "model_name": "LayoutModel",
      "state": {
       "_model_module": "@jupyter-widgets/base",
       "_model_module_version": "1.2.0",
       "_model_name": "LayoutModel",
       "_view_count": null,
       "_view_module": "@jupyter-widgets/base",
       "_view_module_version": "1.2.0",
       "_view_name": "LayoutView",
       "align_content": null,
       "align_items": null,
       "align_self": null,
       "border": null,
       "bottom": null,
       "display": null,
       "flex": null,
       "flex_flow": null,
       "grid_area": null,
       "grid_auto_columns": null,
       "grid_auto_flow": null,
       "grid_auto_rows": null,
       "grid_column": null,
       "grid_gap": null,
       "grid_row": null,
       "grid_template_areas": null,
       "grid_template_columns": null,
       "grid_template_rows": null,
       "height": null,
       "justify_content": null,
       "justify_items": null,
       "left": null,
       "margin": null,
       "max_height": null,
       "max_width": null,
       "min_height": null,
       "min_width": null,
       "object_fit": null,
       "object_position": null,
       "order": null,
       "overflow": null,
       "overflow_x": null,
       "overflow_y": null,
       "padding": null,
       "right": null,
       "top": null,
       "visibility": null,
       "width": null
      }
     },
     "f78c807ba119488898570a0e75b34386": {
      "model_module": "@jupyter-widgets/base",
      "model_module_version": "1.2.0",
      "model_name": "LayoutModel",
      "state": {
       "_model_module": "@jupyter-widgets/base",
       "_model_module_version": "1.2.0",
       "_model_name": "LayoutModel",
       "_view_count": null,
       "_view_module": "@jupyter-widgets/base",
       "_view_module_version": "1.2.0",
       "_view_name": "LayoutView",
       "align_content": null,
       "align_items": null,
       "align_self": null,
       "border": null,
       "bottom": null,
       "display": null,
       "flex": null,
       "flex_flow": null,
       "grid_area": null,
       "grid_auto_columns": null,
       "grid_auto_flow": null,
       "grid_auto_rows": null,
       "grid_column": null,
       "grid_gap": null,
       "grid_row": null,
       "grid_template_areas": null,
       "grid_template_columns": null,
       "grid_template_rows": null,
       "height": null,
       "justify_content": null,
       "justify_items": null,
       "left": null,
       "margin": null,
       "max_height": null,
       "max_width": null,
       "min_height": null,
       "min_width": null,
       "object_fit": null,
       "object_position": null,
       "order": null,
       "overflow": null,
       "overflow_x": null,
       "overflow_y": null,
       "padding": null,
       "right": null,
       "top": null,
       "visibility": null,
       "width": null
      }
     },
     "f81261d9f7ac45688979e3847662e6b2": {
      "model_module": "@jupyter-widgets/base",
      "model_module_version": "1.2.0",
      "model_name": "LayoutModel",
      "state": {
       "_model_module": "@jupyter-widgets/base",
       "_model_module_version": "1.2.0",
       "_model_name": "LayoutModel",
       "_view_count": null,
       "_view_module": "@jupyter-widgets/base",
       "_view_module_version": "1.2.0",
       "_view_name": "LayoutView",
       "align_content": null,
       "align_items": null,
       "align_self": null,
       "border": null,
       "bottom": null,
       "display": null,
       "flex": null,
       "flex_flow": null,
       "grid_area": null,
       "grid_auto_columns": null,
       "grid_auto_flow": null,
       "grid_auto_rows": null,
       "grid_column": null,
       "grid_gap": null,
       "grid_row": null,
       "grid_template_areas": null,
       "grid_template_columns": null,
       "grid_template_rows": null,
       "height": null,
       "justify_content": null,
       "justify_items": null,
       "left": null,
       "margin": null,
       "max_height": null,
       "max_width": null,
       "min_height": null,
       "min_width": null,
       "object_fit": null,
       "object_position": null,
       "order": null,
       "overflow": null,
       "overflow_x": null,
       "overflow_y": null,
       "padding": null,
       "right": null,
       "top": null,
       "visibility": null,
       "width": null
      }
     },
     "f95526e59e964a1fb3e551df48dcc6e3": {
      "model_module": "@jupyter-widgets/controls",
      "model_module_version": "1.5.0",
      "model_name": "HTMLModel",
      "state": {
       "_dom_classes": [],
       "_model_module": "@jupyter-widgets/controls",
       "_model_module_version": "1.5.0",
       "_model_name": "HTMLModel",
       "_view_count": null,
       "_view_module": "@jupyter-widgets/controls",
       "_view_module_version": "1.5.0",
       "_view_name": "HTMLView",
       "description": "",
       "description_tooltip": null,
       "layout": "IPY_MODEL_323078410bda4e51b8522ba91e73e07b",
       "placeholder": "​",
       "style": "IPY_MODEL_1873ca6d46eb4c1fabe058b62e5ec74b",
       "value": "100%"
      }
     },
     "fa757a8f671a4f7191ab04891922952f": {
      "model_module": "@jupyter-widgets/base",
      "model_module_version": "1.2.0",
      "model_name": "LayoutModel",
      "state": {
       "_model_module": "@jupyter-widgets/base",
       "_model_module_version": "1.2.0",
       "_model_name": "LayoutModel",
       "_view_count": null,
       "_view_module": "@jupyter-widgets/base",
       "_view_module_version": "1.2.0",
       "_view_name": "LayoutView",
       "align_content": null,
       "align_items": null,
       "align_self": null,
       "border": null,
       "bottom": null,
       "display": null,
       "flex": null,
       "flex_flow": null,
       "grid_area": null,
       "grid_auto_columns": null,
       "grid_auto_flow": null,
       "grid_auto_rows": null,
       "grid_column": null,
       "grid_gap": null,
       "grid_row": null,
       "grid_template_areas": null,
       "grid_template_columns": null,
       "grid_template_rows": null,
       "height": null,
       "justify_content": null,
       "justify_items": null,
       "left": null,
       "margin": null,
       "max_height": null,
       "max_width": null,
       "min_height": null,
       "min_width": null,
       "object_fit": null,
       "object_position": null,
       "order": null,
       "overflow": null,
       "overflow_x": null,
       "overflow_y": null,
       "padding": null,
       "right": null,
       "top": null,
       "visibility": null,
       "width": null
      }
     },
     "fc8aef249a4b4cb4ad958b4664ec47eb": {
      "model_module": "@jupyter-widgets/controls",
      "model_module_version": "1.5.0",
      "model_name": "FloatProgressModel",
      "state": {
       "_dom_classes": [],
       "_model_module": "@jupyter-widgets/controls",
       "_model_module_version": "1.5.0",
       "_model_name": "FloatProgressModel",
       "_view_count": null,
       "_view_module": "@jupyter-widgets/controls",
       "_view_module_version": "1.5.0",
       "_view_name": "ProgressView",
       "bar_style": "success",
       "description": "",
       "description_tooltip": null,
       "layout": "IPY_MODEL_2aafd317c44f449d9dd5f94a24e4b0a9",
       "max": 2244861551,
       "min": 0,
       "orientation": "horizontal",
       "style": "IPY_MODEL_c2878f4f8cbd4db88b4900c79e524738",
       "value": 2244861551
      }
     },
     "fdbff3dee54044c8a764365535ab7fb4": {
      "model_module": "@jupyter-widgets/base",
      "model_module_version": "1.2.0",
      "model_name": "LayoutModel",
      "state": {
       "_model_module": "@jupyter-widgets/base",
       "_model_module_version": "1.2.0",
       "_model_name": "LayoutModel",
       "_view_count": null,
       "_view_module": "@jupyter-widgets/base",
       "_view_module_version": "1.2.0",
       "_view_name": "LayoutView",
       "align_content": null,
       "align_items": null,
       "align_self": null,
       "border": null,
       "bottom": null,
       "display": null,
       "flex": null,
       "flex_flow": null,
       "grid_area": null,
       "grid_auto_columns": null,
       "grid_auto_flow": null,
       "grid_auto_rows": null,
       "grid_column": null,
       "grid_gap": null,
       "grid_row": null,
       "grid_template_areas": null,
       "grid_template_columns": null,
       "grid_template_rows": null,
       "height": null,
       "justify_content": null,
       "justify_items": null,
       "left": null,
       "margin": null,
       "max_height": null,
       "max_width": null,
       "min_height": null,
       "min_width": null,
       "object_fit": null,
       "object_position": null,
       "order": null,
       "overflow": null,
       "overflow_x": null,
       "overflow_y": null,
       "padding": null,
       "right": null,
       "top": null,
       "visibility": null,
       "width": null
      }
     }
    },
    "version_major": 2,
    "version_minor": 0
   }
  }
 },
 "nbformat": 4,
 "nbformat_minor": 5
}
