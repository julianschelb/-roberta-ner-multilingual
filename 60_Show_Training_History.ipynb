{
 "cells": [
  {
   "attachments": {},
   "cell_type": "markdown",
   "metadata": {},
   "source": [
    "# Finetuning RoBERTa for NER: Training History\n",
    " "
   ]
  },
  {
   "cell_type": "markdown",
   "metadata": {},
   "source": [
    "***"
   ]
  },
  {
   "cell_type": "markdown",
   "metadata": {},
   "source": [
    "## Imports"
   ]
  },
  {
   "cell_type": "code",
   "execution_count": 1,
   "metadata": {
    "execution": {
     "iopub.execute_input": "2022-09-04T17:17:23.428297Z",
     "iopub.status.busy": "2022-09-04T17:17:23.427338Z",
     "iopub.status.idle": "2022-09-04T17:17:31.843100Z",
     "shell.execute_reply": "2022-09-04T17:17:31.842031Z",
     "shell.execute_reply.started": "2022-09-04T17:17:23.427831Z"
    }
   },
   "outputs": [],
   "source": [
    "from transformers import (BertTokenizerFast,\n",
    "                          RobertaTokenizerFast,\n",
    "                          AutoTokenizer,\n",
    "                          BertForTokenClassification,\n",
    "                          RobertaForTokenClassification,\n",
    "                          DataCollatorForTokenClassification, \n",
    "                          AutoModelForTokenClassification, \n",
    "                          TrainingArguments, Trainer)\n",
    "from datasets import load_dataset, load_metric, concatenate_datasets, DatasetDict\n",
    "from pprint import pprint\n",
    "import matplotlib.pyplot as plt\n",
    "import seaborn as sns\n",
    "import numpy as np\n",
    "import pickle\n",
    "import torch\n",
    "import os"
   ]
  },
  {
   "attachments": {},
   "cell_type": "markdown",
   "metadata": {},
   "source": [
    "## Load Training History:"
   ]
  },
  {
   "cell_type": "code",
   "execution_count": 2,
   "metadata": {},
   "outputs": [],
   "source": [
    "data_path = \"./results/checkpoint-final/training_args.pkl\"\n",
    "with open(data_path, 'rb') as pickle_file:\n",
    "    training_args = pickle.load(file=pickle_file)"
   ]
  },
  {
   "cell_type": "code",
   "execution_count": 3,
   "metadata": {},
   "outputs": [],
   "source": [
    "data_path = \"./results/checkpoint-final/training_history.pkl\"\n",
    "with open(data_path, 'rb') as pickle_file:\n",
    "    training_state = pickle.load(file=pickle_file)"
   ]
  },
  {
   "attachments": {},
   "cell_type": "markdown",
   "metadata": {},
   "source": [
    "## Show Training Parameters"
   ]
  },
  {
   "cell_type": "code",
   "execution_count": 4,
   "metadata": {},
   "outputs": [
    {
     "name": "stdout",
     "output_type": "stream",
     "text": [
      "TrainingArguments(\n",
      "_n_gpu=2,\n",
      "adafactor=False,\n",
      "adam_beta1=0.9,\n",
      "adam_beta2=0.999,\n",
      "adam_epsilon=1e-08,\n",
      "auto_find_batch_size=False,\n",
      "bf16=False,\n",
      "bf16_full_eval=False,\n",
      "data_seed=None,\n",
      "dataloader_drop_last=False,\n",
      "dataloader_num_workers=0,\n",
      "dataloader_pin_memory=True,\n",
      "ddp_bucket_cap_mb=None,\n",
      "ddp_find_unused_parameters=None,\n",
      "ddp_timeout=1800,\n",
      "debug=[],\n",
      "deepspeed=None,\n",
      "disable_tqdm=False,\n",
      "do_eval=True,\n",
      "do_predict=False,\n",
      "do_train=False,\n",
      "eval_accumulation_steps=None,\n",
      "eval_delay=0,\n",
      "eval_steps=125,\n",
      "evaluation_strategy=steps,\n",
      "fp16=True,\n",
      "fp16_backend=auto,\n",
      "fp16_full_eval=False,\n",
      "fp16_opt_level=O1,\n",
      "fsdp=[],\n",
      "fsdp_min_num_params=0,\n",
      "fsdp_transformer_layer_cls_to_wrap=None,\n",
      "full_determinism=False,\n",
      "gradient_accumulation_steps=1,\n",
      "gradient_checkpointing=False,\n",
      "greater_is_better=None,\n",
      "group_by_length=False,\n",
      "half_precision_backend=cuda_amp,\n",
      "hub_model_id=None,\n",
      "hub_private_repo=False,\n",
      "hub_strategy=every_save,\n",
      "hub_token=<HUB_TOKEN>,\n",
      "ignore_data_skip=False,\n",
      "include_inputs_for_metrics=False,\n",
      "jit_mode_eval=False,\n",
      "label_names=None,\n",
      "label_smoothing_factor=0.0,\n",
      "learning_rate=5e-05,\n",
      "length_column_name=length,\n",
      "load_best_model_at_end=False,\n",
      "local_rank=-1,\n",
      "log_level=passive,\n",
      "log_level_replica=passive,\n",
      "log_on_each_node=True,\n",
      "logging_dir=./results/runs/Jan07_16-47-35_merkur22,\n",
      "logging_first_step=False,\n",
      "logging_nan_inf_filter=True,\n",
      "logging_steps=125,\n",
      "logging_strategy=steps,\n",
      "lr_scheduler_type=linear,\n",
      "max_grad_norm=1.0,\n",
      "max_steps=-1,\n",
      "metric_for_best_model=None,\n",
      "mp_parameters=,\n",
      "no_cuda=False,\n",
      "num_train_epochs=1,\n",
      "optim=adamw_hf,\n",
      "optim_args=None,\n",
      "output_dir=./results,\n",
      "overwrite_output_dir=False,\n",
      "past_index=-1,\n",
      "per_device_eval_batch_size=16,\n",
      "per_device_train_batch_size=16,\n",
      "prediction_loss_only=False,\n",
      "push_to_hub=False,\n",
      "push_to_hub_model_id=None,\n",
      "push_to_hub_organization=None,\n",
      "push_to_hub_token=<PUSH_TO_HUB_TOKEN>,\n",
      "ray_scope=last,\n",
      "remove_unused_columns=True,\n",
      "report_to=[],\n",
      "resume_from_checkpoint=None,\n",
      "run_name=./results,\n",
      "save_on_each_node=False,\n",
      "save_steps=125,\n",
      "save_strategy=steps,\n",
      "save_total_limit=None,\n",
      "seed=42,\n",
      "sharded_ddp=[],\n",
      "skip_memory_metrics=True,\n",
      "tf32=None,\n",
      "torchdynamo=None,\n",
      "tpu_metrics_debug=False,\n",
      "tpu_num_cores=None,\n",
      "use_ipex=False,\n",
      "use_legacy_prediction_loop=False,\n",
      "use_mps_device=False,\n",
      "warmup_ratio=0.0,\n",
      "warmup_steps=0,\n",
      "weight_decay=0.0,\n",
      "xpu_backend=None,\n",
      ")\n"
     ]
    }
   ],
   "source": [
    "print(training_args)"
   ]
  },
  {
   "attachments": {},
   "cell_type": "markdown",
   "metadata": {},
   "source": [
    "## Show Training History"
   ]
  },
  {
   "cell_type": "code",
   "execution_count": 5,
   "metadata": {},
   "outputs": [
    {
     "name": "stdout",
     "output_type": "stream",
     "text": [
      "TrainerState(epoch=1.0, global_step=1250, max_steps=1250, num_train_epochs=1, total_flos=3160037154846528.0, log_history=[{'loss': 1.1422, 'learning_rate': 1.8064000000000002e-05, 'epoch': 0.1, 'step': 125}, {'eval_loss': 0.5931656360626221, 'eval_precision': 0.4694931002443305, 'eval_recall': 0.517918153519095, 'eval_f1': 0.49251818559231786, 'eval_accuracy': 0.8124340956939521, 'eval_runtime': 79.7314, 'eval_samples_per_second': 250.842, 'eval_steps_per_second': 7.839, 'epoch': 0.1, 'step': 125}, {'loss': 0.5423, 'learning_rate': 1.6064e-05, 'epoch': 0.2, 'step': 250}, {'eval_loss': 0.3841727077960968, 'eval_precision': 0.6674766965289616, 'eval_recall': 0.6986181762964088, 'eval_f1': 0.6826924860423275, 'eval_accuracy': 0.8818131106832454, 'eval_runtime': 79.5625, 'eval_samples_per_second': 251.375, 'eval_steps_per_second': 7.855, 'epoch': 0.2, 'step': 250}, {'loss': 0.4234, 'learning_rate': 1.4064000000000003e-05, 'epoch': 0.3, 'step': 375}, {'eval_loss': 0.32780566811561584, 'eval_precision': 0.7453360098712684, 'eval_recall': 0.7681838888467086, 'eval_f1': 0.7565874952095193, 'eval_accuracy': 0.9061234772281503, 'eval_runtime': 79.7113, 'eval_samples_per_second': 250.905, 'eval_steps_per_second': 7.841, 'epoch': 0.3, 'step': 375}, {'loss': 0.3613, 'learning_rate': 1.2064e-05, 'epoch': 0.4, 'step': 500}, {'eval_loss': 0.3020467162132263, 'eval_precision': 0.7584155461479645, 'eval_recall': 0.7719041834333005, 'eval_f1': 0.7651004186068388, 'eval_accuracy': 0.91101434149677, 'eval_runtime': 80.0386, 'eval_samples_per_second': 249.879, 'eval_steps_per_second': 7.809, 'epoch': 0.4, 'step': 500}, {'loss': 0.3239, 'learning_rate': 1.0064e-05, 'epoch': 0.5, 'step': 625}, {'eval_loss': 0.2847878336906433, 'eval_precision': 0.7819338905775076, 'eval_recall': 0.781280844279098, 'eval_f1': 0.7816072310204703, 'eval_accuracy': 0.9164018498191567, 'eval_runtime': 79.7959, 'eval_samples_per_second': 250.639, 'eval_steps_per_second': 7.832, 'epoch': 0.5, 'step': 625}, {'loss': 0.3273, 'learning_rate': 8.064000000000001e-06, 'epoch': 0.6, 'step': 750}, {'eval_loss': 0.2820790410041809, 'eval_precision': 0.7797085926391017, 'eval_recall': 0.8014197858932504, 'eval_f1': 0.7904151261290776, 'eval_accuracy': 0.916027567343854, 'eval_runtime': 79.7689, 'eval_samples_per_second': 250.724, 'eval_steps_per_second': 7.835, 'epoch': 0.6, 'step': 750}, {'loss': 0.2909, 'learning_rate': 6.064000000000001e-06, 'epoch': 0.7, 'step': 875}, {'eval_loss': 0.2715962827205658, 'eval_precision': 0.7935391673874619, 'eval_recall': 0.8010401639966593, 'eval_f1': 0.7972720231235713, 'eval_accuracy': 0.9210767818904864, 'eval_runtime': 79.8699, 'eval_samples_per_second': 250.407, 'eval_steps_per_second': 7.825, 'epoch': 0.7, 'step': 875}, {'loss': 0.2875, 'learning_rate': 4.064e-06, 'epoch': 0.8, 'step': 1000}, {'eval_loss': 0.2481299489736557, 'eval_precision': 0.8084974093264249, 'eval_recall': 0.8144977602308101, 'eval_f1': 0.8114864928753108, 'eval_accuracy': 0.9265830529213827, 'eval_runtime': 79.9163, 'eval_samples_per_second': 250.262, 'eval_steps_per_second': 7.821, 'epoch': 0.8, 'step': 1000}, {'loss': 0.2697, 'learning_rate': 2.064e-06, 'epoch': 0.9, 'step': 1125}, {'eval_loss': 0.2466779500246048, 'eval_precision': 0.8131947893188677, 'eval_recall': 0.8081011312732519, 'eval_f1': 0.8106399588720273, 'eval_accuracy': 0.925816493621003, 'eval_runtime': 79.5948, 'eval_samples_per_second': 251.273, 'eval_steps_per_second': 7.852, 'epoch': 0.9, 'step': 1125}, {'loss': 0.2641, 'learning_rate': 6.4e-08, 'epoch': 1.0, 'step': 1250}, {'eval_loss': 0.23919013142585754, 'eval_precision': 0.8182077300193821, 'eval_recall': 0.8173069622655835, 'eval_f1': 0.8177570980913494, 'eval_accuracy': 0.9284256743382577, 'eval_runtime': 79.743, 'eval_samples_per_second': 250.806, 'eval_steps_per_second': 7.838, 'epoch': 1.0, 'step': 1250}, {'train_runtime': 1379.2866, 'train_samples_per_second': 29.0, 'train_steps_per_second': 0.906, 'total_flos': 3160037154846528.0, 'train_loss': 0.42325708923339844, 'epoch': 1.0, 'step': 1250}, {'eval_loss': 0.23919013142585754, 'eval_precision': 0.8182077300193821, 'eval_recall': 0.8173069622655835, 'eval_f1': 0.8177570980913494, 'eval_accuracy': 0.9284256743382577, 'eval_runtime': 79.6795, 'eval_samples_per_second': 251.006, 'eval_steps_per_second': 7.844, 'epoch': 1.0, 'step': 1250}], best_metric=None, best_model_checkpoint=None, is_local_process_zero=True, is_world_process_zero=True, is_hyper_param_search=False, trial_name=None, trial_params=None)\n"
     ]
    }
   ],
   "source": [
    "print(training_state)"
   ]
  },
  {
   "cell_type": "code",
   "execution_count": 6,
   "metadata": {},
   "outputs": [],
   "source": [
    "training_history = training_state.log_history\n",
    "\n",
    "# Training\n",
    "epochs = [epoch.get(\"epoch\") for epoch in  training_history if epoch.get(\"loss\") is not None]\n",
    "steps = [epoch.get(\"step\") for epoch in  training_history if epoch.get(\"loss\") is not None]\n",
    "loss = [epoch.get(\"loss\") for epoch in  training_history if epoch.get(\"loss\") is not None]\n",
    "\n",
    "# Eval\n",
    "eval_epochs = [epoch.get(\"epoch\") for epoch in  training_history if epoch.get(\"eval_loss\") is not None]\n",
    "eval_steps = [epoch.get(\"step\") for epoch in  training_history if epoch.get(\"eval_loss\") is not None]\n",
    "eval_loss = [epoch.get(\"eval_loss\") for epoch in  training_history if epoch.get(\"eval_loss\") is not None]\n",
    "eval_precision = [epoch.get(\"eval_precision\") for epoch in  training_history if epoch.get(\"eval_precision\") is not None]\n",
    "eval_recall = [epoch.get(\"eval_recall\") for epoch in  training_history if epoch.get(\"eval_recall\") is not None]\n",
    "eval_f1 = [epoch.get(\"eval_recall\") for epoch in  training_history if epoch.get(\"eval_f1\") is not None]\n",
    "eval_accuracy = [epoch.get(\"eval_accuracy\") for epoch in  training_history if epoch.get(\"eval_accuracy\") is not None]"
   ]
  },
  {
   "cell_type": "code",
   "execution_count": 7,
   "metadata": {},
   "outputs": [
    {
     "name": "stdout",
     "output_type": "stream",
     "text": [
      "ufunc 'isfinite' not supported for the input types, and the inputs could not be safely coerced to any supported types according to the casting rule ''safe''\n"
     ]
    },
    {
     "data": {
      "image/png": "[encoded data removed]",
      "text/plain": [
       "<Figure size 640x480 with 1 Axes>"
      ]
     },
     "metadata": {},
     "output_type": "display_data"
    }
   ],
   "source": [
    "try:\n",
    "    p = sns.lineplot( x=steps, y=loss)\n",
    "    p.set_xlabel(\"Training Steps\")\n",
    "    p.set_ylabel(\"Loss\")\n",
    "    plt.savefig('./figures/history_loss.png')\n",
    "except Exception as e:\n",
    "    print(e)"
   ]
  },
  {
   "cell_type": "code",
   "execution_count": 8,
   "metadata": {},
   "outputs": [
    {
     "name": "stdout",
     "output_type": "stream",
     "text": [
      "ufunc 'isfinite' not supported for the input types, and the inputs could not be safely coerced to any supported types according to the casting rule ''safe''\n"
     ]
    },
    {
     "data": {
      "image/png": "[encoded data removed]",
      "text/plain": [
       "<Figure size 640x480 with 1 Axes>"
      ]
     },
     "metadata": {},
     "output_type": "display_data"
    }
   ],
   "source": [
    "try: \n",
    "    p = sns.lineplot(x=eval_steps, y=eval_loss)\n",
    "    p.set_xlabel(\"Eval Steps\")\n",
    "    p.set_ylabel(\"Loss\")\n",
    "    plt.savefig('./figures/history_eval_loss.png')\n",
    "except Exception as e:\n",
    "    print(e)"
   ]
  },
  {
   "cell_type": "code",
   "execution_count": 9,
   "metadata": {},
   "outputs": [
    {
     "name": "stdout",
     "output_type": "stream",
     "text": [
      "ufunc 'isfinite' not supported for the input types, and the inputs could not be safely coerced to any supported types according to the casting rule ''safe''\n"
     ]
    },
    {
     "data": {
      "image/png": "[encoded data removed]",
      "text/plain": [
       "<Figure size 640x480 with 1 Axes>"
      ]
     },
     "metadata": {},
     "output_type": "display_data"
    }
   ],
   "source": [
    "try: \n",
    "    p = sns.lineplot(x=eval_steps, y=eval_accuracy)\n",
    "    p.set_xlabel(\"Eval Steps\")\n",
    "    p.set_ylabel(\"Accuracy\")\n",
    "    plt.savefig('./figures/history_eval_accuracy.png')\n",
    "except Exception as e:\n",
    "    print(e)"
   ]
  },
  {
   "cell_type": "code",
   "execution_count": null,
   "metadata": {},
   "outputs": [],
   "source": []
  }
 ],
 "metadata": {
  "kernelspec": {
   "display_name": "transformers",
   "language": "python",
   "name": "python3"
  },
  "language_info": {
   "codemirror_mode": {
    "name": "ipython",
    "version": 3
   },
   "file_extension": ".py",
   "mimetype": "text/x-python",
   "name": "python",
   "nbconvert_exporter": "python",
   "pygments_lexer": "ipython3",
   "version": "3.10.8"
  },
  "vscode": {
   "interpreter": {
    "hash": "c97fe7fd1c286c8419eb1bea19acb7c2170e8f8ba541cc471414a0cdc49a8156"
   }
  }
 },
 "nbformat": 4,
 "nbformat_minor": 4
}
